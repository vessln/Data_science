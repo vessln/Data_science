%matplotlib inline


import numpy as np
import pandas as pd
import matplotlib as plt








pew_religion_salary = pd.read_csv("pew.csv")


pew_religion_salary


tidy_pew = pew_religion_salary.melt(id_vars = ["religion"], var_name = "income", value_name = "frequency")


tidy_pew


tidy_pew.columns


tidy_pew.dtypes


tidy_pew = tidy_pew.select_dtypes(include=["object"]).astype("category")

# tidy_pew.religion = tidy_pew.religion.astype("category")
# tidy_pew.income = tidy_pew.income.astype("category")


tidy_pew.dtypes











billboards = pd.read_csv("billboard.csv")


billboards


billboards.shape


billboards.columns


billboards.dtypes
