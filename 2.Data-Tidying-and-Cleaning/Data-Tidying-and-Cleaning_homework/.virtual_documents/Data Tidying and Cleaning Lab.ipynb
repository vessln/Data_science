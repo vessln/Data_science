%matplotlib inline


import numpy as np
import pandas as pd
import matplotlib.pyplot as plt











coffee_data = pd.read_csv("data/merged_data_cleaned.csv")


coffee_data


coffee_data.columns





coffee_data = coffee_data.drop(columns = ["Unnamed: 0"])





coffee_data.shape


coffee_data.columns


coffee_data.info()


coffee_data.dtypes


coffee_data.describe().T





coffee_data.columns = coffee_data.columns.str.replace(".", "_")


coffee_data.columns = coffee_data.columns.str.lower()


coffee_data.columns.unique





coffee_data.bag_weight.unique()





def convert_to_kg(bag_weight):
    if "kg,lbs" in bag_weight:
        return int(bag_weight.replace("kg,lbs", ""))
    elif "kg" in bag_weight:
        return int(bag_weight.replace("kg", ""))
    elif "lbs" in bag_weight:
        return int(bag_weight.replace("lbs", "")) * 0.453592
    else:
        return int(bag_weight)


coffee_data.bag_weight = coffee_data.bag_weight.apply(convert_to_kg)


coffee_data.bag_weight = coffee_data.bag_weight.astype(int) # convert column type to int


coffee_data = coffee_data.rename(columns = {"bag_weight": "bag_weight_kg"}) # rename column name


coffee_data.bag_weight_kg.unique()


coffee_data.bag_weight_kg.dtype


len(coffee_data[coffee_data.bag_weight_kg > 2500]) 





fig, (ax1, ax2) = plt.subplots(1, 2, figsize=(8, 8))
ax1.boxplot(coffee_data.bag_weight_kg)
ax1.set_ylabel("kg")
ax2.hist(coffee_data.bag_weight_kg)
ax2.set_xlabel("kg")
ax2.set_ylabel("frequency")
fig.tight_layout()
plt.show()





coffee_data.harvest_year.unique()


r"(2\d{3})|(0|1\d{2})" # match full year
r"(\d{4})\s?[-\/]\s?(\d{4})" # match range of years
r"((\d{1})(T|t)\/(\d{4})|(\d{1})(T|t)\/(\d{2})" # match T - format with short / full year


coffee_data.grading_date


coffee_data.expiration





def remove_suffix(grading_date):
    suffs = ["st,", "nd,", "rd,", "th,"]
    for s in suffs:
        grading_date = grading_date.replace(s, "")
    return grading_date


coffee_data.grading_date = coffee_data.grading_date.apply(remove_suffix)
coffee_data.expiration = coffee_data.expiration.apply(remove_suffix)


coffee_data.grading_date = pd.to_datetime(coffee_data.grading_date, format = "mixed") 


coffee_data.expiration = pd.to_datetime(coffee_data.expiration, format = "mixed") 


coffee_data.grading_date


coffee_data.expiration


coffee_data.dtypes




































