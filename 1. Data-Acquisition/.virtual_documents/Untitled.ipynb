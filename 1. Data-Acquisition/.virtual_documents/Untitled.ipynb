import numpy as np
import matplotlib as plt
import pandas as pd








accidents = pd.read_table("accidents.csv", sep=",") # or pd.read_csv("accidents.csv")


accidents
