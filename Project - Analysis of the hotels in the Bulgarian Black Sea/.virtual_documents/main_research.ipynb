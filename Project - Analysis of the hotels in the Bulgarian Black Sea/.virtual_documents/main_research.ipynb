%matplotlib inline


import numpy as np
import pandas as pd
import matplotlib.pyplot as plt
import seaborn as sns

import re

from collections import Counter
from sklearn.feature_extraction.text import CountVectorizer

import spacy

from sklearn.feature_extraction.text import TfidfVectorizer


# pip install spacy
# pip install https://huggingface.co/sakelariev/bg_news_lg/resolve/main/bg_news_lg-3.5.4-py3-none-any.whl
# https://github.com/sakelariev/bulgarian-spacy-modelsimport spacy






































hotels_data = pd.read_csv('data/hotels_data.csv')


hotels_data.sample(3)


hotels_data.shape


hotels_data.info()


hotels_data.rename(columns={
    'hotel_name': 'name',
    'hotel_stars_count': 'stars',
    'amenities_list': 'amenities',
    'occupancy1' : 'ocp1',
    'occupancy2' : 'ocp2',
    'occupancy3' : 'ocp3',
}, inplace = True)


hotels_data.location.value_counts()


hotels_data[hotels_data.location == "Черноморец"] 





hotels_data = hotels_data.drop(index = 121)


hotels_data = hotels_data.drop(columns = 'location')





hotels_data.summer_price1.unique()


hotels_data.summer_price2.unique()


hotels_data.summer_price3.unique()


def clean_price(price):
    if pd.isna(price) or price in ['не се дава', 'няма цена']:
        return np.nan
    return float(price.replace(' лв', ''))

hotels_data['summer_price1'] = hotels_data['summer_price1'].apply(clean_price)
hotels_data['summer_price2'] = hotels_data['summer_price2'].apply(clean_price)
hotels_data['summer_price3'] = hotels_data['summer_price3'].apply(clean_price)


def create_price_columns(row):
    row['price_double_room'] = np.nan
    row['price_big_room'] = np.nan

    if 2 in [row['ocp1'], row['ocp2'], row['ocp3']]:
        index = [row['ocp1'], row['ocp2'], row['ocp3']].index(2)
        price = [row['summer_price1'], row['summer_price2'], row['summer_price3']][index]
        if not pd.isna(price):
            row['price_double_room'] = price

    if any(ocp in [3, 4] for ocp in [row['ocp1'], row['ocp2'], row['ocp3']]):
        for ocp, price in zip([row['ocp1'], row['ocp2'], row['ocp3']], 
                              [row['summer_price1'], row['summer_price2'], row['summer_price3']]):
            if ocp in [3, 4] and not pd.isna(price):
                row['price_big_room'] = price
                break 

    return row

hotels_data = hotels_data.apply(create_price_columns, axis=1)


# drop unnecessary columns:
hotels_data.drop(columns = ['room_type1', 'ocp1', 'summer_price1',
                          'room_type2', 'ocp2', 'summer_price2',
                          'room_type3', 'ocp3','summer_price3'], inplace = True)


hotels_data.sample(3)





fig, axes = plt.subplots(1, 2, figsize = (10, 4))

axes[0].hist(hotels_data.price_double_room, bins = 30, color = 'blue')
axes[0].set_xticks(range(0, 401, 50))
axes[0].set_xlabel('price (bgn)')
axes[0].set_ylabel('frequency')
axes[0].set_title("Distribution of prices for double room")

axes[1].hist(hotels_data.price_big_room, bins = 30, color = 'green')
axes[1].set_xticks(range(0, 1200, 100))
axes[1].set_xlabel('price (bgn)')
axes[1].set_ylabel('frequency')
axes[1].set_title("Distribution of prices for big room")

plt.tight_layout()
plt.show()


fig, axes = plt.subplots(1, 2, figsize=(10, 5))

axes[0].boxplot([hotels_data.price_double_room.dropna()], vert=True)
axes[0].set_title('Distribution of prices for double room')
axes[0].set_ylabel('price')

axes[1].boxplot([hotels_data.price_big_room.dropna()], vert=True)
axes[1].set_title('Distribution of prices for big room')
axes[1].set_ylabel('price')

plt.tight_layout()
plt.show()


fig, axes = plt.subplots(1, 2, figsize = (10, 5))

axes[0].scatter(hotels_data.stars, hotels_data.price_double_room, color = 'blue')
axes[0].set_title('Stars vs price for double room')
axes[0].set_xlabel('stars')
axes[0].set_ylabel('price for double room')

axes[1].scatter(hotels_data.stars, hotels_data.price_big_room, color = 'green')
axes[1].set_title('Stars vs price for big room')
axes[1].set_xlabel('stars')
axes[1].set_ylabel('price for big room')

plt.tight_layout()
plt.show()


hotels_data[hotels_data.price_big_room > 1000]





hotels_data = hotels_data.drop(index = 154)





hotels_data.describe().T


hotels_data[hotels_data.rating == 10]


hotels_data[hotels_data.rating <= 6]


plt.hist(hotels_data.rating, bins = 30)

plt.xticks(range(5, 11))
plt.xlabel("rating value")
plt.ylabel("frequency")
plt.title("Distribution of rating values")

plt.show()


rating_price1_data = hotels_data[['rating', 'price_double_room']].dropna().groupby("rating")["price_double_room"].mean().sort_index(ascending=True)
rating_price2_data = hotels_data[['rating', 'price_big_room']].dropna().groupby("rating")["price_big_room"].mean().sort_index(ascending=True)


rating_price1_data = hotels_data[['rating', 'price_double_room']].dropna().groupby("rating")["price_double_room"].mean().sort_index(ascending=True)
rating_price2_data = hotels_data[['rating', 'price_big_room']].dropna().groupby("rating")["price_big_room"].mean().sort_index(ascending=True)

plt.plot(rating_price1_data.index, rating_price1_data.values, color="red", label="double room")
plt.plot(rating_price2_data.index, rating_price2_data.values, color="blue", label="big room")

plt.xlabel("rating value")
plt.ylabel("price (bgn)")

plt.legend()
plt.show()





plt.hist(hotels_data.stars, bins = 5)

plt.xticks(range(1, 6, 1))
plt.xlabel("stars")
plt.ylabel("frequency")
plt.title("Distribution of hotel stars")
plt.show()





hotels_data = hotels_data.dropna(subset = ['stars', 'price_double_room', 'price_big_room'], how = 'all')
hotels_data.shape





hotels_data.amenities[7]


print(isinstance(hotels_data.amenities[7], str))


def process_amenities(amenities_str):
    processed_str = amenities_str.replace(
        '[', '').replace(
        ']', '').replace(
        "'", "").replace(
        '/', ' ').replace(
        '-', ' ').replace(
        'отопление', '').replace(
        'бокс', 'кухня').replace(
        'механа', 'ресторант').replace(
        ',', '')
    processed_str = ' '.join(processed_str.split())
    return processed_str

hotels_data['amenities'] = hotels_data['amenities'].apply(process_amenities)


custom_stopwords = ['кухненски', 'кухненска', 'готварска', 'електрическа', 'тв', 'на', 'и', 'в', 'с', 'от', 'за', 'под', 'към', 'по', 'се', 'дом.', 'хим.', 'лятна']

def remove_stop_words(text):
    words = text.split()
    filtered_words = [w for w in words if w not in custom_stopwords] 
    
    return ' '.join(filtered_words)

hotels_data['amenities'] = hotels_data['amenities'].apply(remove_stop_words)


hotels_data['amenities'][7]


all_words = ' '.join(hotels_data['amenities']).split()
words_frequencies = Counter(all_words)


words_frequencies


hotels_data[hotels_data.amenities.str.contains("билярд")]


# 'билярд': 6
hotel_stars = hotels_data[hotels_data.amenities.str.contains("билярд")]
round(hotel_stars.stars.mean(), 2)


# 'ресторант': 69
hotel_stars = hotels_data[hotels_data.amenities.str.contains("ресторант")]
round(hotel_stars.stars.mean(), 2)


# 'сешоар': 124
hotel_stars = hotels_data[hotels_data.amenities.str.contains("сешоар")]
round(hotel_stars.stars.mean(), 2)


# 'хладилник': 172
hotel_stars = hotels_data[hotels_data.amenities.str.contains("хладилник")]
round(hotel_stars.stars.mean(), 2)


amenities_mean_stars = {}

for amenity in words_frequencies.keys():
    hotels_with_amenity = hotels_data[hotels_data['amenities'].str.contains(amenity)]
    mean_stars = hotels_with_amenity['stars'].mean()
    amenities_mean_stars[amenity] = mean_stars

counts, means, colors = [], [], []

for amenity, count in words_frequencies.items():
    if count > 0: 
        counts.append(count)
        means.append(amenities_mean_stars[amenity])

        if count <= 6:
            colors.append('blue') 
        elif count <= 80:
            colors.append('green')
        else:
            colors.append('red')

plt.figure(figsize = (12, 6))

plt.scatter(counts, means, c=colors, alpha=0.7)
plt.title('Relationship between the number of occurrences of the specified amenity and the average star value')
plt.xlabel('Number of occurrences of the specified amenity')
plt.ylabel('Average star value')
plt.grid(True)
plt.show()





low_frequency_words = {word for word, count in words_frequencies.items() if count <= 6}
medium_frequency_words = {word for word, count in words_frequencies.items() if 7 <= count <= 80}

def fill_stars_based_on_amenities(row):
    if pd.isna(row['stars']):
        words = row['amenities'].split()
        
        # at least 3 of the words has an occurrence count <= 6
        if len([word in low_frequency_words for word in words]) > 3:
            return 4  
        
        # at least 2 of the words has an occurrence count between 7 and 80
        if len([word in medium_frequency_words for word in words]) >= 2:
            return 3  
        
        # fill with a value of 2 stars if there are no words with number of occurrences <= 80
        return 2
    
    return row['stars']

hotels_data['stars'] = hotels_data.apply(fill_stars_based_on_amenities, axis=1)


hotels_data[hotels_data.stars.isna()]


hotels_data.stars.value_counts()


corr_columns = ['stars', 'rating', 'price_double_room', 'price_big_room']

plt.figure(figsize = (5, 4))
corr_matrix = hotels_data[corr_columns].corr()
sns.heatmap(corr_matrix, annot = True, cmap = plt.cm.Greens) 
plt.show()





top_rated_hotels = hotels_data.sort_values('rating', ascending = False).head(20)
top_rated_hotels.stars.value_counts()


hotels_data = hotels_data.dropna(subset = ['price_double_room', 'price_big_room'], how = 'all')
hotels_data.shape


hotels_data['price_diff'] = hotels_data['price_big_room'] - hotels_data['price_double_room']

mean_difference_by_stars = hotels_data.groupby('stars')['price_diff'].mean().reset_index()

mean_difference_by_stars


hotels_data.info()





hotels_data_with_rating = hotels_data.dropna(subset = ['rating'])


count_vectorizer = CountVectorizer(ngram_range = (1, 1), min_df = 1, max_df = 1.0)

count_vectorizer.fit(hotels_data_with_rating.amenities)

vectors = count_vectorizer.transform(hotels_data_with_rating.amenities)

vectors
# count_vectorizer.vocabulary_

features_amenities_df = pd.DataFrame(vectors.toarray(), columns = count_vectorizer.get_feature_names_out())
features_amenities_df['rating'] = hotels_data_with_rating['rating']


vectors





corr_matrix = features_amenities_df.corr()
correlation_rating = corr_matrix['rating'].drop('rating')

top_10_amenities = correlation_rating.sort_values(ascending=False).head(15)
top_10_amenities


fig, ax = plt.subplots(figsize = (14, 20))
sns.heatmap(correlation_rating.to_frame().sort_values(by='rating', ascending=False), 
            annot=True, cmap='coolwarm', center=0, ax=ax)

ax.set_title('Correlation of Amenities with Rating')
plt.show()





top_3_amenities = ['телевизор', 'кухня', 'печка']

def get_hotels_with_top_amenities(hotels_data, top_3_amenities):
    filtered_hotels = []
    
    for index, row in hotels_data.iterrows():
        set_amenities = set(row['amenities'].split())
         # цheck if all top_3_amenities are in set_amenities:
        if all(amenity in set_amenities for amenity in top_3_amenities):
            filtered_hotels.append(row)
    
    filtered_hotels_df = pd.DataFrame(filtered_hotels)
    sorted_hotels = filtered_hotels_df.sort_values(by='price_double_room')
    best_hotels = sorted_hotels[sorted_hotels['rating'] > 9]
        
    return best_hotels

best_hotels_by_amenitites_rating = get_hotels_with_top_amenities(hotels_data, top_3_amenities)


best_hotels_by_amenitites_rating


best_hotels_by_amenitites_rating.describe().T





reviews_data = pd.read_csv("data/reviews_hotels_data.csv")


reviews_data.head(3)


reviews_data = reviews_data.drop(columns = {"Unnamed: 0", "review_rating_score"})


reviews_data.rename(columns={'hotel_name': 'name'}, inplace=True)


reviews_data = reviews_data[reviews_data['name'].isin(hotels_data_with_rating['name'])]


reviews_data = reviews_data.reset_index(drop=True)


reviews_data = pd.merge(reviews_data, hotels_data_with_rating[['name', 'rating']], on='name', how='left')


reviews_data.info()


reviews_data[(reviews_data.pos_review_content.isna()) & (reviews_data.neg_review_content.isna())]


reviews_data = reviews_data.drop(index = 1623)


# I use the Bulgarian model 'bg_news_lg' from spacy

nlp = spacy.load('bg_news_lg')

def process_reviews(reviews):
    if pd.isna(reviews):
        return ''
        
    reviews = reviews.lower()
    text = nlp(reviews)
    processed_tokens = [token.lemma_ for token in text if not token.is_stop and not token.is_punct]
    processed_reviews = ' '.join(processed_tokens)
    
    return processed_reviews


reviews_data['processed_pos_review'] = reviews_data['pos_review_content'].apply(process_reviews)
reviews_data['processed_neg_review'] = reviews_data['neg_review_content'].apply(process_reviews)


reviews_data.sample(5)


def process_neg_reviews(reviews):
    processed_str = reviews.replace('не харесам-(се)', '').replace('харесам-(се)', '').replace('такъв', '').replace('стаа', '')
    processed_str = ' '.join(processed_str.split())
    return processed_str

reviews_data['processed_neg_review'] = reviews_data['processed_neg_review'].apply(process_neg_reviews)


all_pos_review_words = ' '.join(reviews_data['processed_pos_review']).split()
pos_review_words_frequencies = Counter(all_pos_review_words)

all_neg_review_words = ' '.join(reviews_data['processed_neg_review']).split()
neg_review_words_frequencies = Counter(all_neg_review_words)


pos_review_words_frequencies.most_common(20)


neg_review_words_frequencies.most_common(20)


reviews_data['length_pos_review'] = reviews_data['pos_review_content'].apply(lambda x: len(str(x)) if pd.notna(x) else 0)
reviews_data['length_neg_review'] = reviews_data['neg_review_content'].apply(lambda x: len(str(x)) if pd.notna(x) else 0)

mean_length_pos_reviews = reviews_data['length_pos_review'].mean()
mean_length_neg_reviews = reviews_data['length_neg_review'].mean()

print(f"Mean length of positive reviews: {round(mean_length_pos_reviews)}.")
print(f"Mean length of negative reviews: {round(mean_length_neg_reviews)}.")


hotels_with_pos_review_only = reviews_data[reviews_data.neg_review_content.isna()]['rating']
hotels_with_neg_review_only = reviews_data[reviews_data.pos_review_content.isna()]['rating']

print(f"Mean rating of hotels with negative reviews only is {hotels_with_neg_review_only.mean():.2f}")
print(f"Mean rating of hotels with positive reviews only is {hotels_with_pos_review_only.mean():.2f}")


counts1, bin_edges1 = np.histogram(hotels_with_pos_review_only, bins = 20)  
counts2, bin_edges2 = np.histogram(hotels_with_neg_review_only, bins = 20)  

plt.figure(figsize=(8, 5))
plt.plot(bin_edges1[:-1], counts1, linestyle='-', marker='o', color = "green", label = "positive") 
plt.plot(bin_edges2[:-1], counts2, linestyle='-', marker='o', color = "red", label = "negative") 

plt.xlabel('rating value')
plt.ylabel('frequency')
plt.xticks(range(5, 11))
plt.title('Distribution of positive and negative ratings')
plt.legend(loc = 'upper left')

plt.grid(True)
plt.show()





stop_words = ['и', 'или', 'в', 'на', 'с', 'за', 'се', 'от', 'по', 'не', 'така', 'които', 'има', 'имам', 'да', 'е', 'са']

count_vectorizer_pos = CountVectorizer(stop_words=stop_words, ngram_range = (1, 2), min_df = 3, max_df = 0.95)

count_vectorizer_pos.fit(reviews_data.processed_pos_review)

vectors_pos = count_vectorizer_pos.transform(reviews_data.processed_pos_review)

features_pos_review = pd.DataFrame(vectors_pos.toarray(), columns = count_vectorizer_pos.get_feature_names_out())

features_pos_review['rating'] = reviews_data['rating']


correlation_matrix_pos = features_pos_review.corr()
rating_correlation_pos = correlation_matrix_pos['rating'].drop('rating')
top_10_words = rating_correlation_pos.sort_values(ascending=False).head(10)


top_10_words


top_10_words.plot(kind='bar', color='skyblue')

plt.ylabel('Correlation with rating')
plt.title('Top 10 words positively correlated with rating')

plt.show()





count_vectorizer_neg = CountVectorizer(stop_words=stop_words, ngram_range = (1, 2), min_df = 3, max_df = 0.95)

count_vectorizer_neg.fit(reviews_data.processed_neg_review)

vectors_neg = count_vectorizer_neg.transform(reviews_data.processed_neg_review)

features_neg_review = pd.DataFrame(vectors_neg.toarray(), columns = count_vectorizer_neg.get_feature_names_out())

features_neg_review['rating'] = reviews_data['rating']


correlation_matrix_neg = features_neg_review.corr()
rating_correlation_neg = correlation_matrix_neg['rating'].drop('rating')
# the 10 words with the lowest correlation:
top_10_words_neg = rating_correlation_neg.sort_values(ascending=True).head(10)

top_10_words_neg.plot(kind='bar', color='red')

plt.title('Top 10 words most negatively correlated with rating')
plt.ylabel('Correlation with rating')

plt.show()








positive_reviews = reviews_data[reviews_data['processed_pos_review'].notna()]['processed_pos_review']
negative_reviews = reviews_data[reviews_data['processed_neg_review'].notna()]['processed_neg_review']


bulgarian_stopwords = [
    'и', 'в', 'на', 'с', 'за', 'от', 'до', 'че', 'както', 'бъде', 'се', 'е', 'са', 'към',
    'този', 'тези', 'всеки', 'кога', 'някой', 'ако', 'не', 'или', 'по', 'от', 'също', 'имам']

tfidf_vectorizer = TfidfVectorizer(stop_words=bulgarian_stopwords, ngram_range=(1, 2))

tfidf_pos = tfidf_vectorizer.fit_transform(positive_reviews)
features_pos = tfidf_vectorizer.get_feature_names_out()

tfidf_neg = tfidf_vectorizer.transform(negative_reviews)
features_neg = tfidf_vectorizer.get_feature_names_out()

df_pos = pd.DataFrame(tfidf_pos.toarray(), columns=features_pos)
df_neg = pd.DataFrame(tfidf_neg.toarray(), columns=features_neg)

mean_tfidf_pos = df_pos.mean().sort_values(ascending=False)
mean_tfidf_neg = df_neg.mean().sort_values(ascending=False)


def plot_top_terms(mean_tfidf, title, color):
    top_terms = mean_tfidf.head(20)
    plt.figure(figsize = (12, 8))
    sns.barplot(x=top_terms.values, y=top_terms.index, color=color)
    plt.title(title)
    plt.ylabel('term')
    plt.xlabel('average TF-IDF')
    plt.show()

plot_top_terms(mean_tfidf_pos, 'Top terms in positive reviews by TF-IDF', color = "skyblue")
plot_top_terms(mean_tfidf_neg, 'Top terms in negative Reviews by TF-IDF', color = "red")


merged_data = pd.merge(hotels_data, reviews_data, on=['name', 'rating'])

merged_data['processed_neg_review'] = merged_data['processed_neg_review'].replace('', np.nan)

hotels_with_only_positive_reviews = merged_data[merged_data['processed_neg_review'].isna()]

hotels_grouped = hotels_with_only_positive_reviews.groupby('name').agg({
    'rating': 'mean',
}).reset_index()

top_rated_hotels = hotels_grouped.sort_values(by='rating', ascending=False)
top_rated_10_hotels = top_rated_hotels.head(10)
top_rated_10_hotels


hotels_data[hotels_data['name'].isin(top_rated_10_hotels.name)]












