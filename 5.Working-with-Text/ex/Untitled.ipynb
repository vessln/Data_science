{
 "cells": [
  {
   "cell_type": "markdown",
   "id": "23c56d3f-9913-45b9-a740-6b973f092a01",
   "metadata": {},
   "source": [
    "# Working with Text"
   ]
  },
  {
   "cell_type": "markdown",
   "id": "33d5236e-db6b-4752-9b35-f02601bc9cb8",
   "metadata": {},
   "source": [
    "## "
   ]
  },
  {
   "cell_type": "code",
   "execution_count": null,
   "id": "b08a8425-af34-4726-9cc3-1da1e71220ed",
   "metadata": {},
   "outputs": [],
   "source": []
  },
  {
   "cell_type": "code",
   "execution_count": null,
   "id": "be4f511b-e1a2-44e4-96b3-c2b11a987ef8",
   "metadata": {},
   "outputs": [],
   "source": []
  }
 ],
 "metadata": {
  "kernelspec": {
   "display_name": "Python 3 (ipykernel)",
   "language": "python",
   "name": "python3"
  },
  "language_info": {
   "codemirror_mode": {
    "name": "ipython",
    "version": 3
   },
   "file_extension": ".py",
   "mimetype": "text/x-python",
   "name": "python",
   "nbconvert_exporter": "python",
   "pygments_lexer": "ipython3",
   "version": "3.11.7"
  }
 },
 "nbformat": 4,
 "nbformat_minor": 5
}
