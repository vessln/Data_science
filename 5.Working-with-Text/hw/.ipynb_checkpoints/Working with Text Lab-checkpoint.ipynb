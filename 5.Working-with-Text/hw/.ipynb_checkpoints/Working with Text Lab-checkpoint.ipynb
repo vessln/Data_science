{
 "cells": [
  {
   "cell_type": "code",
   "execution_count": 1,
   "id": "bb8c5630-11b2-41b9-98a2-f67d6cebc323",
   "metadata": {},
   "outputs": [],
   "source": [
    "%matplotlib inline"
   ]
  },
  {
   "cell_type": "code",
   "execution_count": 103,
   "id": "11b963ca-f451-4034-85cb-ce274966e3b3",
   "metadata": {},
   "outputs": [],
   "source": [
    "import numpy as np\n",
    "import pandas as pd\n",
    "import matplotlib.pyplot as plt\n",
    "\n",
    "import string\n",
    "import re\n",
    "from collections import Counter\n",
    "\n",
    "import nltk\n",
    "from nltk.corpus import stopwords\n",
    "from nltk.stem import WordNetLemmatizer\n",
    "from nltk.tokenize import word_tokenize\n",
    "\n",
    "from sklearn.feature_extraction.text import CountVectorizer\n"
   ]
  },
  {
   "cell_type": "markdown",
   "id": "0375379c-19e4-4e50-9f63-5c74cf81ece5",
   "metadata": {},
   "source": [
    "# Working with Text Lab\n",
    "## Information retrieval, preprocessing, and feature extraction"
   ]
  },
  {
   "cell_type": "markdown",
   "id": "d92edf71-988c-4e95-b17f-987095e9246a",
   "metadata": {},
   "source": [
    "In this lab, you'll be looking at and exploring European restaurant reviews. The dataset is rather tiny, but that's just because it has to run on any machine. In real life, just like with images, texts can be several terabytes long.\n",
    "\n",
    "The dataset is located [here](https://www.kaggle.com/datasets/gorororororo23/european-restaurant-reviews) and as always, it's been provided to you in the `data/` folder."
   ]
  },
  {
   "cell_type": "markdown",
   "id": "888cf2cf-1cd7-4538-a7a2-462e80b1df99",
   "metadata": {},
   "source": [
    "### Problem 1. Read the dataset (1 point)\n",
    "Read the dataset, get acquainted with it. Ensure the data is valid before you proceed.\n",
    "\n",
    "How many observations are there? Which country is the most represented? What time range does the dataset represent?\n",
    "\n",
    "Is the sample balanced in terms of restaurants, i.e., do you have an equal number of reviews for each one? Most importantly, is the dataset balanced in terms of **sentiment**?"
   ]
  },
  {
   "cell_type": "code",
   "execution_count": 106,
   "id": "596f1cf0-acfe-4e05-a953-6a2fc1ea2463",
   "metadata": {},
   "outputs": [],
   "source": [
    "restaurants_data = pd.read_csv(\"data/European Restaurant Reviews.csv\")"
   ]
  },
  {
   "cell_type": "code",
   "execution_count": 41,
   "id": "4de90238-022b-4cd9-8434-5a9b23f01446",
   "metadata": {},
   "outputs": [
    {
     "data": {
      "text/html": [
       "<div>\n",
       "<style scoped>\n",
       "    .dataframe tbody tr th:only-of-type {\n",
       "        vertical-align: middle;\n",
       "    }\n",
       "\n",
       "    .dataframe tbody tr th {\n",
       "        vertical-align: top;\n",
       "    }\n",
       "\n",
       "    .dataframe thead th {\n",
       "        text-align: right;\n",
       "    }\n",
       "</style>\n",
       "<table border=\"1\" class=\"dataframe\">\n",
       "  <thead>\n",
       "    <tr style=\"text-align: right;\">\n",
       "      <th></th>\n",
       "      <th>Country</th>\n",
       "      <th>Restaurant Name</th>\n",
       "      <th>Sentiment</th>\n",
       "      <th>Review Title</th>\n",
       "      <th>Review Date</th>\n",
       "      <th>Review</th>\n",
       "    </tr>\n",
       "  </thead>\n",
       "  <tbody>\n",
       "    <tr>\n",
       "      <th>0</th>\n",
       "      <td>France</td>\n",
       "      <td>The Frog at Bercy Village</td>\n",
       "      <td>Negative</td>\n",
       "      <td>Rude manager</td>\n",
       "      <td>May 2024 •</td>\n",
       "      <td>The manager became agressive when I said the c...</td>\n",
       "    </tr>\n",
       "    <tr>\n",
       "      <th>1</th>\n",
       "      <td>France</td>\n",
       "      <td>The Frog at Bercy Village</td>\n",
       "      <td>Negative</td>\n",
       "      <td>A big disappointment</td>\n",
       "      <td>Feb 2024 •</td>\n",
       "      <td>I ordered a beef fillet ask to be done medium,...</td>\n",
       "    </tr>\n",
       "    <tr>\n",
       "      <th>2</th>\n",
       "      <td>France</td>\n",
       "      <td>The Frog at Bercy Village</td>\n",
       "      <td>Negative</td>\n",
       "      <td>Pretty Place with Bland Food</td>\n",
       "      <td>Nov 2023 •</td>\n",
       "      <td>This is an attractive venue with welcoming, al...</td>\n",
       "    </tr>\n",
       "  </tbody>\n",
       "</table>\n",
       "</div>"
      ],
      "text/plain": [
       "  Country            Restaurant Name Sentiment                  Review Title  \\\n",
       "0  France  The Frog at Bercy Village  Negative                  Rude manager   \n",
       "1  France  The Frog at Bercy Village  Negative          A big disappointment   \n",
       "2  France  The Frog at Bercy Village  Negative  Pretty Place with Bland Food   \n",
       "\n",
       "  Review Date                                             Review  \n",
       "0  May 2024 •  The manager became agressive when I said the c...  \n",
       "1  Feb 2024 •  I ordered a beef fillet ask to be done medium,...  \n",
       "2  Nov 2023 •  This is an attractive venue with welcoming, al...  "
      ]
     },
     "execution_count": 41,
     "metadata": {},
     "output_type": "execute_result"
    }
   ],
   "source": [
    "restaurants_data.head(3)"
   ]
  },
  {
   "cell_type": "code",
   "execution_count": 5,
   "id": "f30b7222-5746-4118-a461-c42f7229ef70",
   "metadata": {},
   "outputs": [
    {
     "data": {
      "text/plain": [
       "(1502, 6)"
      ]
     },
     "execution_count": 5,
     "metadata": {},
     "output_type": "execute_result"
    }
   ],
   "source": [
    "restaurants_data.shape"
   ]
  },
  {
   "cell_type": "code",
   "execution_count": 6,
   "id": "6f46e65b-f646-433e-91ce-a3d20548c0a0",
   "metadata": {},
   "outputs": [
    {
     "name": "stdout",
     "output_type": "stream",
     "text": [
      "There are 1502 observations.\n"
     ]
    }
   ],
   "source": [
    "print(f\"There are {restaurants_data.shape[0]} observations.\")"
   ]
  },
  {
   "cell_type": "code",
   "execution_count": 7,
   "id": "91a15792-9147-43f5-b0b3-240112416294",
   "metadata": {},
   "outputs": [
    {
     "data": {
      "text/plain": [
       "Country            object\n",
       "Restaurant Name    object\n",
       "Sentiment          object\n",
       "Review Title       object\n",
       "Review Date        object\n",
       "Review             object\n",
       "dtype: object"
      ]
     },
     "execution_count": 7,
     "metadata": {},
     "output_type": "execute_result"
    }
   ],
   "source": [
    "restaurants_data.dtypes"
   ]
  },
  {
   "cell_type": "code",
   "execution_count": 8,
   "id": "e51894a0-9535-44c6-bc53-0d392610ed58",
   "metadata": {},
   "outputs": [
    {
     "name": "stdout",
     "output_type": "stream",
     "text": [
      "<class 'pandas.core.frame.DataFrame'>\n",
      "RangeIndex: 1502 entries, 0 to 1501\n",
      "Data columns (total 6 columns):\n",
      " #   Column           Non-Null Count  Dtype \n",
      "---  ------           --------------  ----- \n",
      " 0   Country          1502 non-null   object\n",
      " 1   Restaurant Name  1502 non-null   object\n",
      " 2   Sentiment        1502 non-null   object\n",
      " 3   Review Title     1502 non-null   object\n",
      " 4   Review Date      1502 non-null   object\n",
      " 5   Review           1502 non-null   object\n",
      "dtypes: object(6)\n",
      "memory usage: 70.5+ KB\n"
     ]
    }
   ],
   "source": [
    "restaurants_data.info()"
   ]
  },
  {
   "cell_type": "code",
   "execution_count": 107,
   "id": "c2e6da55-e00e-4b45-8c47-1804fe98a721",
   "metadata": {},
   "outputs": [
    {
     "data": {
      "text/plain": [
       "Index(['country', 'restaurant_name', 'sentiment', 'review_title',\n",
       "       'review_date', 'review'],\n",
       "      dtype='object')"
      ]
     },
     "execution_count": 107,
     "metadata": {},
     "output_type": "execute_result"
    }
   ],
   "source": [
    "# make column names snake_case for easier work with the data:\n",
    "restaurants_data.columns = restaurants_data.columns.to_series().apply(lambda x: x.replace(\" \", \"_\").lower())\n",
    "restaurants_data.columns"
   ]
  },
  {
   "cell_type": "code",
   "execution_count": 10,
   "id": "7693dcf1-945d-47e9-b5ff-c1706948cddf",
   "metadata": {},
   "outputs": [
    {
     "data": {
      "text/plain": [
       "0       May 2024 •\n",
       "1       Feb 2024 •\n",
       "2       Nov 2023 •\n",
       "3       Mar 2023 •\n",
       "4       Nov 2022 •\n",
       "           ...    \n",
       "1497    Oct 2016 •\n",
       "1498    Oct 2016 •\n",
       "1499    Oct 2016 •\n",
       "1500    Oct 2016 •\n",
       "1501    Oct 2016 •\n",
       "Name: review_date, Length: 1502, dtype: object"
      ]
     },
     "execution_count": 10,
     "metadata": {},
     "output_type": "execute_result"
    }
   ],
   "source": [
    "restaurants_data.review_date"
   ]
  },
  {
   "cell_type": "code",
   "execution_count": 108,
   "id": "56bad040-cf95-4985-8a6b-8a5d37597534",
   "metadata": {},
   "outputs": [
    {
     "data": {
      "text/plain": [
       "0      2024-05-01\n",
       "1      2024-02-01\n",
       "2      2023-11-01\n",
       "3      2023-03-01\n",
       "4      2022-11-01\n",
       "          ...    \n",
       "1497   2016-10-01\n",
       "1498   2016-10-01\n",
       "1499   2016-10-01\n",
       "1500   2016-10-01\n",
       "1501   2016-10-01\n",
       "Name: review_date, Length: 1502, dtype: datetime64[ns]"
      ]
     },
     "execution_count": 108,
     "metadata": {},
     "output_type": "execute_result"
    }
   ],
   "source": [
    "# convert review date column to datetime type:\n",
    "restaurants_data.review_date = restaurants_data.review_date.apply(lambda x: x.replace(\" •\", \"\"))\n",
    "restaurants_data.review_date = pd.to_datetime(restaurants_data.review_date, format = \"%b %Y\", errors = \"coerce\")\n",
    "restaurants_data.review_date"
   ]
  },
  {
   "cell_type": "code",
   "execution_count": 44,
   "id": "a22a9b5a-2f28-4e0b-b566-c16148f66eb6",
   "metadata": {},
   "outputs": [
    {
     "name": "stdout",
     "output_type": "stream",
     "text": [
      "The most represented country is France. It occurs 512 times.\n"
     ]
    }
   ],
   "source": [
    "most_repr_country = restaurants_data.country.value_counts().idxmax()\n",
    "country_count = restaurants_data.country.value_counts().max()\n",
    "print(f\"The most represented country is {most_repr_country}. It occurs {country_count} times.\")"
   ]
  },
  {
   "cell_type": "code",
   "execution_count": 45,
   "id": "1e0e433a-dbb3-46b7-a280-89e2e8e416c8",
   "metadata": {},
   "outputs": [],
   "source": [
    "max_date = restaurants_data.review_date.max().strftime(\"%B %Y\")"
   ]
  },
  {
   "cell_type": "code",
   "execution_count": 46,
   "id": "532b32ee-b4b8-4df5-b30b-47add8a25c96",
   "metadata": {},
   "outputs": [],
   "source": [
    "min_date = restaurants_data.review_date.min().strftime(\"%B %Y\")"
   ]
  },
  {
   "cell_type": "code",
   "execution_count": 47,
   "id": "367a35ef-229b-4a38-949c-9aca3ec3c3d9",
   "metadata": {},
   "outputs": [
    {
     "name": "stdout",
     "output_type": "stream",
     "text": [
      "Time range of dataset: from September 2010 to July 2024.\n"
     ]
    }
   ],
   "source": [
    "print(f\"Time range of dataset: from {min_date} to {max_date}.\")"
   ]
  },
  {
   "cell_type": "code",
   "execution_count": 48,
   "id": "e811c54e-ecd8-48c9-8a7c-f1bef92220c8",
   "metadata": {},
   "outputs": [
    {
     "data": {
      "text/plain": [
       "restaurant_name\n",
       "The Frog at Bercy Village                512\n",
       "Ad Hoc Ristorante (Piazza del Popolo)    318\n",
       "The LOFT                                 210\n",
       "Old Square (Plaza Vieja)                 146\n",
       "Stara Kamienica                          135\n",
       "Pelmenya                                 100\n",
       "Mosaic                                    81\n",
       "Name: count, dtype: int64"
      ]
     },
     "execution_count": 48,
     "metadata": {},
     "output_type": "execute_result"
    }
   ],
   "source": [
    "rest_review_counts = restaurants_data.restaurant_name.value_counts()\n",
    "rest_review_counts"
   ]
  },
  {
   "cell_type": "code",
   "execution_count": 49,
   "id": "b2c92996-c9ec-4924-9210-b6ae5aa157af",
   "metadata": {},
   "outputs": [
    {
     "name": "stdout",
     "output_type": "stream",
     "text": [
      "Is the sample balanced in terms of restaurants - False.\n"
     ]
    }
   ],
   "source": [
    "# check if all review counts are the same number:\n",
    "is_balanced = rest_review_counts.nunique() == 1\n",
    "print(f\"Is the sample balanced in terms of restaurants - {is_balanced}.\")"
   ]
  },
  {
   "cell_type": "code",
   "execution_count": 50,
   "id": "bcaa0a56-2f88-42af-8975-f4e31cb20391",
   "metadata": {},
   "outputs": [
    {
     "data": {
      "text/plain": [
       "sentiment\n",
       "Positive    1237\n",
       "Negative     265\n",
       "Name: count, dtype: int64"
      ]
     },
     "execution_count": 50,
     "metadata": {},
     "output_type": "execute_result"
    }
   ],
   "source": [
    "rest_sentiment_counts = restaurants_data.sentiment.value_counts()\n",
    "rest_sentiment_counts"
   ]
  },
  {
   "cell_type": "code",
   "execution_count": 51,
   "id": "bfacc026-133c-46b3-b692-b83510162c55",
   "metadata": {},
   "outputs": [
    {
     "name": "stdout",
     "output_type": "stream",
     "text": [
      "Is the sample balanced in terms of sentiment - False.\n"
     ]
    }
   ],
   "source": [
    "# check if all review counts are the same number:\n",
    "is_balanced_sent = rest_sentiment_counts.nunique() == 1\n",
    "print(f\"Is the sample balanced in terms of sentiment - {is_balanced_sent}.\")"
   ]
  },
  {
   "cell_type": "markdown",
   "id": "01a55576-cd3c-4451-b5c8-6a51356a7386",
   "metadata": {},
   "source": [
    "### Problem 2. Getting acquainted with reviews (1 point)\n",
    "Are positive comments typically shorter or longer? Try to define a good, robust metric for \"length\" of a text; it's not necessary just the character count. Can you explain your findings?"
   ]
  },
  {
   "cell_type": "code",
   "execution_count": 20,
   "id": "97901e74-6093-4274-966a-da73ec3a5961",
   "metadata": {},
   "outputs": [
    {
     "data": {
      "text/plain": [
       "0       The manager became agressive when I said the c...\n",
       "1       I ordered a beef fillet ask to be done medium,...\n",
       "2       This is an attractive venue with welcoming, al...\n",
       "3       Sadly I  used the high TripAdvisor rating too ...\n",
       "4       From the start this meal was bad- especially g...\n",
       "                              ...                        \n",
       "1497    Despite the other reviews saying that this is ...\n",
       "1498    beer is good.  food is awfull  The only decent...\n",
       "1499    for terrible service of a truly comedic level,...\n",
       "1500    We visited the Havana's Club Museum which is l...\n",
       "1501    Food and service was awful. Very pretty stop. ...\n",
       "Name: review, Length: 1502, dtype: object"
      ]
     },
     "execution_count": 20,
     "metadata": {},
     "output_type": "execute_result"
    }
   ],
   "source": [
    "restaurants_data.review"
   ]
  },
  {
   "cell_type": "code",
   "execution_count": 109,
   "id": "8e43881e-086d-4e34-95c5-68c95e18295a",
   "metadata": {},
   "outputs": [],
   "source": [
    "# make new columns 'review_words' with words from reviews:\n",
    "restaurants_data[\"review_words\"] = restaurants_data.review.str.split(\"\\s+\") # split words by one or more spaces\n",
    "restaurants_data[\"review_words\"] = restaurants_data.review_words.apply(lambda review_words: [w.lower() for w in review_words]) # make every word lowercase"
   ]
  },
  {
   "cell_type": "code",
   "execution_count": 110,
   "id": "2daa59a9-d327-468a-a7ec-9e324d07cd16",
   "metadata": {},
   "outputs": [],
   "source": [
    "# make new column 'review_words_count' with number of words in each review:\n",
    "restaurants_data[\"review_words_count\"] = restaurants_data.review_words.apply(lambda x: len(x))"
   ]
  },
  {
   "cell_type": "code",
   "execution_count": 23,
   "id": "616b9be9-44e8-4dc7-bf6f-a536f8975252",
   "metadata": {},
   "outputs": [
    {
     "data": {
      "text/html": [
       "<div>\n",
       "<style scoped>\n",
       "    .dataframe tbody tr th:only-of-type {\n",
       "        vertical-align: middle;\n",
       "    }\n",
       "\n",
       "    .dataframe tbody tr th {\n",
       "        vertical-align: top;\n",
       "    }\n",
       "\n",
       "    .dataframe thead th {\n",
       "        text-align: right;\n",
       "    }\n",
       "</style>\n",
       "<table border=\"1\" class=\"dataframe\">\n",
       "  <thead>\n",
       "    <tr style=\"text-align: right;\">\n",
       "      <th></th>\n",
       "      <th>country</th>\n",
       "      <th>restaurant_name</th>\n",
       "      <th>sentiment</th>\n",
       "      <th>review_title</th>\n",
       "      <th>review_date</th>\n",
       "      <th>review</th>\n",
       "      <th>review_words</th>\n",
       "      <th>review_words_count</th>\n",
       "    </tr>\n",
       "  </thead>\n",
       "  <tbody>\n",
       "    <tr>\n",
       "      <th>0</th>\n",
       "      <td>France</td>\n",
       "      <td>The Frog at Bercy Village</td>\n",
       "      <td>Negative</td>\n",
       "      <td>Rude manager</td>\n",
       "      <td>2024-05-01</td>\n",
       "      <td>The manager became agressive when I said the c...</td>\n",
       "      <td>[the, manager, became, agressive, when, i, sai...</td>\n",
       "      <td>28</td>\n",
       "    </tr>\n",
       "    <tr>\n",
       "      <th>1</th>\n",
       "      <td>France</td>\n",
       "      <td>The Frog at Bercy Village</td>\n",
       "      <td>Negative</td>\n",
       "      <td>A big disappointment</td>\n",
       "      <td>2024-02-01</td>\n",
       "      <td>I ordered a beef fillet ask to be done medium,...</td>\n",
       "      <td>[i, ordered, a, beef, fillet, ask, to, be, don...</td>\n",
       "      <td>58</td>\n",
       "    </tr>\n",
       "    <tr>\n",
       "      <th>2</th>\n",
       "      <td>France</td>\n",
       "      <td>The Frog at Bercy Village</td>\n",
       "      <td>Negative</td>\n",
       "      <td>Pretty Place with Bland Food</td>\n",
       "      <td>2023-11-01</td>\n",
       "      <td>This is an attractive venue with welcoming, al...</td>\n",
       "      <td>[this, is, an, attractive, venue, with, welcom...</td>\n",
       "      <td>40</td>\n",
       "    </tr>\n",
       "    <tr>\n",
       "      <th>3</th>\n",
       "      <td>France</td>\n",
       "      <td>The Frog at Bercy Village</td>\n",
       "      <td>Negative</td>\n",
       "      <td>Great service and wine but inedible food</td>\n",
       "      <td>2023-03-01</td>\n",
       "      <td>Sadly I  used the high TripAdvisor rating too ...</td>\n",
       "      <td>[sadly, i, used, the, high, tripadvisor, ratin...</td>\n",
       "      <td>279</td>\n",
       "    </tr>\n",
       "    <tr>\n",
       "      <th>4</th>\n",
       "      <td>France</td>\n",
       "      <td>The Frog at Bercy Village</td>\n",
       "      <td>Negative</td>\n",
       "      <td>Avoid- Worst meal in Rome - possibly ever</td>\n",
       "      <td>2022-11-01</td>\n",
       "      <td>From the start this meal was bad- especially g...</td>\n",
       "      <td>[from, the, start, this, meal, was, bad-, espe...</td>\n",
       "      <td>243</td>\n",
       "    </tr>\n",
       "  </tbody>\n",
       "</table>\n",
       "</div>"
      ],
      "text/plain": [
       "  country            restaurant_name sentiment  \\\n",
       "0  France  The Frog at Bercy Village  Negative   \n",
       "1  France  The Frog at Bercy Village  Negative   \n",
       "2  France  The Frog at Bercy Village  Negative   \n",
       "3  France  The Frog at Bercy Village  Negative   \n",
       "4  France  The Frog at Bercy Village  Negative   \n",
       "\n",
       "                                review_title review_date  \\\n",
       "0                               Rude manager  2024-05-01   \n",
       "1                       A big disappointment  2024-02-01   \n",
       "2               Pretty Place with Bland Food  2023-11-01   \n",
       "3   Great service and wine but inedible food  2023-03-01   \n",
       "4  Avoid- Worst meal in Rome - possibly ever  2022-11-01   \n",
       "\n",
       "                                              review  \\\n",
       "0  The manager became agressive when I said the c...   \n",
       "1  I ordered a beef fillet ask to be done medium,...   \n",
       "2  This is an attractive venue with welcoming, al...   \n",
       "3  Sadly I  used the high TripAdvisor rating too ...   \n",
       "4  From the start this meal was bad- especially g...   \n",
       "\n",
       "                                        review_words  review_words_count  \n",
       "0  [the, manager, became, agressive, when, i, sai...                  28  \n",
       "1  [i, ordered, a, beef, fillet, ask, to, be, don...                  58  \n",
       "2  [this, is, an, attractive, venue, with, welcom...                  40  \n",
       "3  [sadly, i, used, the, high, tripadvisor, ratin...                 279  \n",
       "4  [from, the, start, this, meal, was, bad-, espe...                 243  "
      ]
     },
     "execution_count": 23,
     "metadata": {},
     "output_type": "execute_result"
    }
   ],
   "source": [
    "restaurants_data.head()"
   ]
  },
  {
   "cell_type": "markdown",
   "id": "003d8d1f-413f-4b3c-a5e1-20bc2d45ff75",
   "metadata": {},
   "source": [
    "Calculate the mean, median and std of the number of words in the positive and negative reviews:"
   ]
  },
  {
   "cell_type": "code",
   "execution_count": 111,
   "id": "d8a7d4a9-cbab-442a-b9c5-cd7eda5bca06",
   "metadata": {},
   "outputs": [],
   "source": [
    "positive_reviews_mean = restaurants_data.review_words_count[restaurants_data.sentiment == \"Positive\"].mean()\n",
    "negative_reviews_mean = restaurants_data.review_words_count[restaurants_data.sentiment == \"Negative\"].mean()\n",
    "\n",
    "positive_reviews_median = restaurants_data.review_words_count[restaurants_data.sentiment == \"Positive\"].median()\n",
    "negative_reviews_median = restaurants_data.review_words_count[restaurants_data.sentiment == \"Negative\"].median()\n",
    "\n",
    "positive_reviews_std = restaurants_data.review_words_count[restaurants_data.sentiment == \"Positive\"].std()\n",
    "negative_reviews_std = restaurants_data.review_words_count[restaurants_data.sentiment == \"Negative\"].std()"
   ]
  },
  {
   "cell_type": "code",
   "execution_count": 55,
   "id": "8c5e917b-8284-4ddb-8d41-1b4ed3355c43",
   "metadata": {},
   "outputs": [
    {
     "name": "stdout",
     "output_type": "stream",
     "text": [
      "Information about number of words in Negative reviews: mean = 140.57358490566037, median = 95.0, std = 131.7596355957585.\n",
      "Information about number of words in Positive reviews: mean = 50.18350848827809, median = 37.0, std = 38.7410428479818.\n"
     ]
    }
   ],
   "source": [
    "print(f\"Information about number of words in Negative reviews: \" \n",
    "    f\"mean = {negative_reviews_mean}, median = {negative_reviews_median}, std = {negative_reviews_std}.\")\n",
    "\n",
    "print(f\"Information about number of words in Positive reviews: \" \n",
    "    f\"mean = {positive_reviews_mean}, median = {positive_reviews_median}, std = {positive_reviews_std}.\")"
   ]
  },
  {
   "cell_type": "markdown",
   "id": "6dcbb92b-576b-40a4-92d7-4e5f6601cce3",
   "metadata": {},
   "source": [
    "**Mean and Median**: \\\n",
    "Positive reviews are often shorter, maybe because their expectations are met. They are focusing on key positive aspects, without needing detailed explanations. \\\n",
    "The negative reviews, on the other hand, are often longer, because  people often provide more detailed feedback when they are dissatisfied. They might elaborate on what went wrong, give specific examples, and express their frustration, leading to longer reviews. \n",
    "\n",
    "**Standart deviation**: \\\n",
    "The std about Negative reviews shows high variability in length - while some reviews might be very long, others could still be very short, contributing to a large standard deviation.\n",
    "The standart deviation about Positive reviews is lower, so positive reviews tend to be more uniformly brief, with less variation in length. "
   ]
  },
  {
   "cell_type": "markdown",
   "id": "7c440fff-c079-464c-b97d-fffbf3d65baf",
   "metadata": {},
   "source": [
    "### Problem 3. Preprocess the review content (2 points)\n",
    "You'll likely need to do this while working on the problems below, but try to synthesize (and document!) your preprocessing here. Your tasks will revolve around words and their connection to sentiment. While preprocessing, keep in mind the domain (restaurant reviews) and the task (sentiment analysis)."
   ]
  },
  {
   "cell_type": "markdown",
   "id": "893276cc-e866-4986-abb5-ff27d3052e39",
   "metadata": {},
   "source": [
    "To prepare restaurant reviews for sentiment analysis, i have to clean and preprocess the text. I use lematization technique."
   ]
  },
  {
   "cell_type": "code",
   "execution_count": 112,
   "id": "144907a0-ccd0-4f32-8875-540b949c617a",
   "metadata": {},
   "outputs": [
    {
     "name": "stderr",
     "output_type": "stream",
     "text": [
      "[nltk_data] Downloading package stopwords to\n",
      "[nltk_data]     C:\\Users\\USER\\AppData\\Roaming\\nltk_data...\n",
      "[nltk_data]   Package stopwords is already up-to-date!\n",
      "[nltk_data] Downloading package punkt to\n",
      "[nltk_data]     C:\\Users\\USER\\AppData\\Roaming\\nltk_data...\n",
      "[nltk_data]   Package punkt is already up-to-date!\n",
      "[nltk_data] Downloading package wordnet to\n",
      "[nltk_data]     C:\\Users\\USER\\AppData\\Roaming\\nltk_data...\n",
      "[nltk_data]   Package wordnet is already up-to-date!\n"
     ]
    },
    {
     "data": {
      "text/plain": [
       "True"
      ]
     },
     "execution_count": 112,
     "metadata": {},
     "output_type": "execute_result"
    }
   ],
   "source": [
    "# download NLTK data to remove unnecessary symbols and words:\n",
    "nltk.download(\"stopwords\") # for removing common words\n",
    "nltk.download(\"punkt\") # for removing punctuation\n",
    "nltk.download(\"wordnet\")"
   ]
  },
  {
   "cell_type": "code",
   "execution_count": 113,
   "id": "04b23741-e970-4655-b529-cf7794b0941f",
   "metadata": {},
   "outputs": [],
   "source": [
    "lemmatizer = WordNetLemmatizer()\n",
    "stop_words = set(stopwords.words(\"english\"))\n",
    "\n",
    "def text_preprocessing(review_words):\n",
    "    review_words = ' '.join(review_words)\n",
    "    review_words = review_words.translate(str.maketrans('', '', string.punctuation)) # remove punctuation\n",
    "    \n",
    "    tokens = word_tokenize(review_words) # tokenize the words\n",
    "    \n",
    "    tokens = [word for word in tokens if word.isalpha() and word not in stop_words] # remove everything (including stopwords) except alphabet\n",
    "\n",
    "    lematized_tokens = ' '.join([lemmatizer.lemmatize(word) for word in tokens]) # lematize the tokens\n",
    "    \n",
    "    return lematized_tokens"
   ]
  },
  {
   "cell_type": "code",
   "execution_count": 114,
   "id": "62232b49-6385-418b-9f6b-11fcd37d5c48",
   "metadata": {},
   "outputs": [
    {
     "data": {
      "text/plain": [
       "0       manager became agressive said carbonara good r...\n",
       "1       ordered beef fillet ask done medium got well d...\n",
       "2       attractive venue welcoming albeit somewhat slo...\n",
       "3       sadly used high tripadvisor rating literally f...\n",
       "4       start meal bad especially given price visited ...\n",
       "                              ...                        \n",
       "1497    despite review saying lovely place hang especi...\n",
       "1498    beer good food awfull decent thing shish kabob...\n",
       "1499    terrible service truly comedic level full pint...\n",
       "1500    visited havana club museum located old havana ...\n",
       "1501    food service awful pretty stop good photo bad ...\n",
       "Name: lematized_review_words, Length: 1502, dtype: object"
      ]
     },
     "execution_count": 114,
     "metadata": {},
     "output_type": "execute_result"
    }
   ],
   "source": [
    "restaurants_data[\"lematized_review_words\"] = restaurants_data.review_words.apply(text_preprocessing)\n",
    "restaurants_data[\"lematized_review_words\"]"
   ]
  },
  {
   "cell_type": "code",
   "execution_count": 59,
   "id": "2e705741-b889-4a16-9210-47600fb0f46c",
   "metadata": {},
   "outputs": [
    {
     "data": {
      "text/html": [
       "<div>\n",
       "<style scoped>\n",
       "    .dataframe tbody tr th:only-of-type {\n",
       "        vertical-align: middle;\n",
       "    }\n",
       "\n",
       "    .dataframe tbody tr th {\n",
       "        vertical-align: top;\n",
       "    }\n",
       "\n",
       "    .dataframe thead th {\n",
       "        text-align: right;\n",
       "    }\n",
       "</style>\n",
       "<table border=\"1\" class=\"dataframe\">\n",
       "  <thead>\n",
       "    <tr style=\"text-align: right;\">\n",
       "      <th></th>\n",
       "      <th>country</th>\n",
       "      <th>restaurant_name</th>\n",
       "      <th>sentiment</th>\n",
       "      <th>review_title</th>\n",
       "      <th>review_date</th>\n",
       "      <th>review</th>\n",
       "      <th>review_words</th>\n",
       "      <th>review_words_count</th>\n",
       "      <th>lematized_review_words</th>\n",
       "    </tr>\n",
       "  </thead>\n",
       "  <tbody>\n",
       "    <tr>\n",
       "      <th>0</th>\n",
       "      <td>France</td>\n",
       "      <td>The Frog at Bercy Village</td>\n",
       "      <td>Negative</td>\n",
       "      <td>Rude manager</td>\n",
       "      <td>2024-05-01</td>\n",
       "      <td>The manager became agressive when I said the c...</td>\n",
       "      <td>[the, manager, became, agressive, when, i, sai...</td>\n",
       "      <td>28</td>\n",
       "      <td>manager became agressive said carbonara good r...</td>\n",
       "    </tr>\n",
       "    <tr>\n",
       "      <th>1</th>\n",
       "      <td>France</td>\n",
       "      <td>The Frog at Bercy Village</td>\n",
       "      <td>Negative</td>\n",
       "      <td>A big disappointment</td>\n",
       "      <td>2024-02-01</td>\n",
       "      <td>I ordered a beef fillet ask to be done medium,...</td>\n",
       "      <td>[i, ordered, a, beef, fillet, ask, to, be, don...</td>\n",
       "      <td>58</td>\n",
       "      <td>ordered beef fillet ask done medium got well d...</td>\n",
       "    </tr>\n",
       "    <tr>\n",
       "      <th>2</th>\n",
       "      <td>France</td>\n",
       "      <td>The Frog at Bercy Village</td>\n",
       "      <td>Negative</td>\n",
       "      <td>Pretty Place with Bland Food</td>\n",
       "      <td>2023-11-01</td>\n",
       "      <td>This is an attractive venue with welcoming, al...</td>\n",
       "      <td>[this, is, an, attractive, venue, with, welcom...</td>\n",
       "      <td>40</td>\n",
       "      <td>attractive venue welcoming albeit somewhat slo...</td>\n",
       "    </tr>\n",
       "  </tbody>\n",
       "</table>\n",
       "</div>"
      ],
      "text/plain": [
       "  country            restaurant_name sentiment                  review_title  \\\n",
       "0  France  The Frog at Bercy Village  Negative                  Rude manager   \n",
       "1  France  The Frog at Bercy Village  Negative          A big disappointment   \n",
       "2  France  The Frog at Bercy Village  Negative  Pretty Place with Bland Food   \n",
       "\n",
       "  review_date                                             review  \\\n",
       "0  2024-05-01  The manager became agressive when I said the c...   \n",
       "1  2024-02-01  I ordered a beef fillet ask to be done medium,...   \n",
       "2  2023-11-01  This is an attractive venue with welcoming, al...   \n",
       "\n",
       "                                        review_words  review_words_count  \\\n",
       "0  [the, manager, became, agressive, when, i, sai...                  28   \n",
       "1  [i, ordered, a, beef, fillet, ask, to, be, don...                  58   \n",
       "2  [this, is, an, attractive, venue, with, welcom...                  40   \n",
       "\n",
       "                              lematized_review_words  \n",
       "0  manager became agressive said carbonara good r...  \n",
       "1  ordered beef fillet ask done medium got well d...  \n",
       "2  attractive venue welcoming albeit somewhat slo...  "
      ]
     },
     "execution_count": 59,
     "metadata": {},
     "output_type": "execute_result"
    }
   ],
   "source": [
    "restaurants_data.head(3)"
   ]
  },
  {
   "cell_type": "markdown",
   "id": "2a8532af-2411-4d71-a003-0813be3f98de",
   "metadata": {},
   "source": [
    "### Problem 4. Top words (1 point)\n",
    "Use a simple word tokenization and count the top 10 words in positive reviews; then the top 10 words in negative reviews*. Once again, try to define what \"top\" words means. Describe and document your process. Explain your results.\n",
    "\n",
    "\\* Okay, you may want to see top N words (with $N \\ge 10$)."
   ]
  },
  {
   "cell_type": "code",
   "execution_count": 115,
   "id": "faaa6dd4-251e-4e32-9137-cc6c984726be",
   "metadata": {},
   "outputs": [],
   "source": [
    "def return_top_words(lematized_words, n):\n",
    "    words = \" \".join(lematized_words).split() # make list of words\n",
    "    words_count = Counter(words)\n",
    "    \n",
    "    return words_count.most_common(n)"
   ]
  },
  {
   "cell_type": "code",
   "execution_count": 116,
   "id": "b4fe6b90-a2be-406a-a111-d0a2a2d1f48f",
   "metadata": {},
   "outputs": [],
   "source": [
    "words_from_positive_reviews = restaurants_data[restaurants_data.sentiment == \"Positive\"].lematized_review_words\n",
    "words_from_negative_reviews = restaurants_data[restaurants_data.sentiment == \"Negative\"].lematized_review_words"
   ]
  },
  {
   "cell_type": "code",
   "execution_count": 117,
   "id": "93a559d6-4f7f-4aca-9d68-12595b89cdba",
   "metadata": {},
   "outputs": [
    {
     "name": "stdout",
     "output_type": "stream",
     "text": [
      "The top 10 words in positive reviews are:  [('food', 740), ('great', 570), ('service', 542), ('good', 511), ('restaurant', 433), ('place', 397), ('nice', 302), ('wine', 301), ('menu', 265), ('staff', 257)]\n",
      "\n",
      "The top 10 words in negative reviews are:  [('restaurant', 250), ('food', 247), ('u', 209), ('wine', 204), ('table', 172), ('menu', 152), ('good', 151), ('service', 146), ('one', 142), ('would', 127)]\n"
     ]
    }
   ],
   "source": [
    "n = 10\n",
    "top_positive_words = return_top_words(words_from_positive_reviews, n)\n",
    "top_negative_words = return_top_words(words_from_negative_reviews, n)\n",
    "\n",
    "print(f\"The top 10 words in positive reviews are:  {top_positive_words}\\n\")\n",
    "print(f\"The top 10 words in negative reviews are:  {top_negative_words}\")"
   ]
  },
  {
   "cell_type": "markdown",
   "id": "5465a1b8-1b87-4aa0-8aed-413050894de5",
   "metadata": {},
   "source": [
    "**Summary**: \\\n",
    "The \"top\" words in reviews means the most frequently used words in the reviews. \\\n",
    "The most common words in positive reviews are associated with satisfaction and pleasant dining experience. Words like \"food\", \"great\", \"service\", \"restaurant\", \"place\" and \"nice\" suggest that customers frequently highlight the quality of the food, positive service and nice atmosphere. \\\n",
    "The most common words in negative reviews are focused on specific complaints about the restaurant's food, service and other aspects of the dining experience. Words like \"restaurant\", \"food\", \"menu\", \"good\" and \"service\" indicate complaints revolve around the dining experience itself, unfulfilled expectations, dissatisfaction with the personal service. \\\n",
    "These words suggest the most important things that people look for when visiting restaurants."
   ]
  },
  {
   "cell_type": "markdown",
   "id": "790ae91f-2def-41bc-8861-49fc5467b335",
   "metadata": {},
   "source": [
    "### Problem 5. Review titles (2 point)\n",
    "How do the top words you found in the last problem correlate to the review titles? Do the top 10 words (for each sentiment) appear in the titles at all? Do reviews which contain one or more of the top words have the same words in their titles?\n",
    "\n",
    "Does the title of a comment present a good summary of its content? That is, are the titles descriptive, or are they simply meant to catch the attention of the reader?"
   ]
  },
  {
   "cell_type": "code",
   "execution_count": 118,
   "id": "db488b21-441e-4480-8cd7-29bd7981d1f4",
   "metadata": {},
   "outputs": [],
   "source": [
    "restaurants_data[\"title_words\"] = restaurants_data.review_title.str.split(\"\\s+\")\n",
    "restaurants_data[\"title_words\"] = restaurants_data.title_words.apply(lambda title_words: [w.lower() for w in title_words]) "
   ]
  },
  {
   "cell_type": "code",
   "execution_count": 119,
   "id": "a81717d2-32c2-4df8-a955-446fb0ce8668",
   "metadata": {},
   "outputs": [
    {
     "data": {
      "text/plain": [
       "0                              rude manager\n",
       "1                        big disappointment\n",
       "2                   pretty place bland food\n",
       "3          great service wine inedible food\n",
       "4       avoid worst meal rome possibly ever\n",
       "                       ...                 \n",
       "1497                           tourism trap\n",
       "1498                           beer factory\n",
       "1499                                brewery\n",
       "1500                       nothing exciting\n",
       "1501                           tourist trap\n",
       "Name: lematized_title_words, Length: 1502, dtype: object"
      ]
     },
     "execution_count": 119,
     "metadata": {},
     "output_type": "execute_result"
    }
   ],
   "source": [
    "restaurants_data[\"lematized_title_words\"] = restaurants_data.title_words.apply(text_preprocessing)\n",
    "restaurants_data = restaurants_data.drop(columns = \"title_words\")\n",
    "restaurants_data.lematized_title_words"
   ]
  },
  {
   "cell_type": "code",
   "execution_count": 120,
   "id": "17b4d4de-9586-4fcc-b5ca-782561294025",
   "metadata": {},
   "outputs": [],
   "source": [
    "title_words_from_positive_reviews = restaurants_data[restaurants_data.sentiment == \"Positive\"].lematized_title_words\n",
    "title_words_from_negative_reviews = restaurants_data[restaurants_data.sentiment == \"Negative\"].lematized_title_words"
   ]
  },
  {
   "cell_type": "code",
   "execution_count": 121,
   "id": "18ae7e0f-61ed-4b48-9b1a-07081824d54d",
   "metadata": {},
   "outputs": [
    {
     "name": "stdout",
     "output_type": "stream",
     "text": [
      "The top 10 words in positive titles are:  [('great', 225), ('food', 176), ('good', 105), ('place', 104), ('service', 95), ('excellent', 78), ('best', 78), ('restaurant', 75), ('dinner', 74), ('amazing', 66)]\n",
      "\n",
      "The top 10 words in negative titles are:  [('food', 32), ('service', 25), ('disappointing', 21), ('place', 16), ('bad', 15), ('rome', 14), ('great', 12), ('terrible', 12), ('restaurant', 11), ('ad', 11)]\n"
     ]
    }
   ],
   "source": [
    "n = 10\n",
    "top_positive_title_words = return_top_words(title_words_from_positive_reviews, n)\n",
    "top_negative_title_words = return_top_words(title_words_from_negative_reviews, n)\n",
    "\n",
    "print(f\"The top 10 words in positive titles are:  {top_positive_title_words}\\n\")\n",
    "print(f\"The top 10 words in negative titles are:  {top_negative_title_words}\")"
   ]
  },
  {
   "cell_type": "code",
   "execution_count": 122,
   "id": "039dc599-2fcd-4e6a-ae25-e1b67d2506b6",
   "metadata": {},
   "outputs": [],
   "source": [
    "def extract_words(words_frequencies):\n",
    "    words_list = [word for word, f in words_frequencies]\n",
    "    return words_list\n",
    "\n",
    "set_top_positive_words_review = set(extract_words(top_positive_words))\n",
    "set_top_negative_words_review = set(extract_words(top_negative_words))\n",
    "\n",
    "set_top_positive_words_title = set(extract_words(top_positive_title_words))\n",
    "set_top_negative_words_title = set(extract_words(top_negative_title_words))"
   ]
  },
  {
   "cell_type": "code",
   "execution_count": 123,
   "id": "f5078704-6c97-43bc-bfdd-dee9d15a91d9",
   "metadata": {},
   "outputs": [
    {
     "name": "stdout",
     "output_type": "stream",
     "text": [
      "The most frequently used words that occur in both positive reviews and titles: great, food, service, restaurant, good, place.\n",
      "The most frequently used words that occur in both negative reviews and titles: food, restaurant, service.\n"
     ]
    }
   ],
   "source": [
    "positive_matching_words = set_top_positive_words_title.intersection(set_top_positive_words_review)\n",
    "negative_matching_words = set_top_negative_words_title.intersection(set_top_negative_words_review)\n",
    "\n",
    "print(f\"The most frequently used words that occur in both positive reviews and titles: {', '.join(positive_matching_words)}.\")\n",
    "print(f\"The most frequently used words that occur in both negative reviews and titles: {', '.join(negative_matching_words)}.\")"
   ]
  },
  {
   "cell_type": "markdown",
   "id": "b6e81ff0-4b74-4922-9c5f-71d99d8741b6",
   "metadata": {},
   "source": [
    "**Summary of results for most frequently used words**: \\\n",
    "Most frequently used words in both positive reviews and titles are: great, good, restaurant, food, service, place. The presence of these words in both contexts suggests they are significant in expressing positive sentiments. Words like \"great\", \"good\" and \"food\" are commonly used to describe positive dining experiences. \\\n",
    "Most frequently used words in both negative reviews and titles are: restaurant, food, service. These words reflect common complaints or issues, such as problems with the \"restaurant\", \"food\" or \"service\". The recurrence of these terms in negative contexts emphasizes the typical points of criticism."
   ]
  },
  {
   "cell_type": "code",
   "execution_count": 124,
   "id": "d4df5e3d-9a6c-4a6e-baf7-43c9a8901157",
   "metadata": {},
   "outputs": [],
   "source": [
    "restaurants_data.lematized_review_words = restaurants_data.lematized_review_words.str.split(\"\\s+\")\n",
    "restaurants_data.lematized_title_words = restaurants_data.lematized_title_words.str.split(\"\\s+\")"
   ]
  },
  {
   "cell_type": "code",
   "execution_count": 125,
   "id": "cc893427-c109-43f9-a5be-fbff309bf241",
   "metadata": {},
   "outputs": [],
   "source": [
    "top_positive_words = ['food', 'great', 'service', 'good', 'restaurant', 'place', 'nice', 'wine', 'menu', 'staff']\n",
    "top_negative_words = ['restaurant', 'food', 'u', 'wine', 'table', 'menu', 'good', 'service', 'one', 'would']\n",
    "top_positive_words_set = set(top_positive_words)\n",
    "top_negative_words_set = set(top_negative_words)"
   ]
  },
  {
   "cell_type": "markdown",
   "id": "e95c8e95-f0c3-4c0a-b59c-647154a75414",
   "metadata": {},
   "source": [
    "Extract the words that are top positive / negative words and exist in review:"
   ]
  },
  {
   "cell_type": "code",
   "execution_count": 126,
   "id": "5f1efaee-d861-4a79-85e8-d8e684a0237f",
   "metadata": {},
   "outputs": [],
   "source": [
    "def extract_positive_words(row):\n",
    "    if row[\"sentiment\"] == \"Positive\":\n",
    "        review_words_set = set(row[\"lematized_review_words\"])\n",
    "        common_words = review_words_set.intersection(top_positive_words_set)\n",
    "        return list(common_words)\n",
    "    return np.nan \n",
    "\n",
    "def extract_negative_words(row):\n",
    "    if row[\"sentiment\"] == \"Negative\":\n",
    "        review_words_set = set(row[\"lematized_review_words\"])\n",
    "        common_words = review_words_set.intersection(top_negative_words_set)\n",
    "        return list(common_words)\n",
    "    return np.nan \n",
    "\n",
    "restaurants_data[\"existing_top_pos_words_review\"] = restaurants_data.apply(extract_positive_words, axis = 1)\n",
    "restaurants_data[\"existing_top_neg_words_review\"] = restaurants_data.apply(extract_negative_words, axis = 1)"
   ]
  },
  {
   "cell_type": "markdown",
   "id": "e806d4f2-4541-4a58-8f36-f6a5d9731750",
   "metadata": {},
   "source": [
    "Extract the words that are top positive / negative words and exist in review:"
   ]
  },
  {
   "cell_type": "code",
   "execution_count": 127,
   "id": "5c352526-5c0a-4d6e-9aaa-7cd5aa8bda32",
   "metadata": {},
   "outputs": [],
   "source": [
    "top_positive_words_title = ['great', 'food', 'good', 'place', 'service', 'excellent', 'best', 'restaurant', 'dinner', 'amazing']\n",
    "top_negative_words_title = ['food', 'service', 'disappointing', 'place', 'bad', 'rome', 'great', 'terrible', 'restaurant', 'ad']\n",
    "top_positive_words_set_title = set(top_positive_words_title)\n",
    "top_negative_words_set_title = set(top_negative_words_title)\n",
    "\n",
    "def extract_positive_words(row):\n",
    "    if row[\"sentiment\"] == \"Positive\":\n",
    "        review_words_set = set(row[\"lematized_title_words\"])\n",
    "        common_words = review_words_set.intersection(top_positive_words_set_title)\n",
    "        return list(common_words)\n",
    "    return np.nan \n",
    "\n",
    "def extract_negative_words(row):\n",
    "    if row[\"sentiment\"] == \"Negative\":\n",
    "        review_words_set = set(row[\"lematized_title_words\"])\n",
    "        common_words = review_words_set.intersection(top_negative_words_set_title)\n",
    "        return list(common_words)\n",
    "    return np.nan \n",
    "\n",
    "restaurants_data[\"existing_top_pos_words_title\"] = restaurants_data.apply(extract_positive_words, axis = 1)\n",
    "restaurants_data[\"existing_top_neg_words_title\"] = restaurants_data.apply(extract_negative_words, axis = 1)"
   ]
  },
  {
   "cell_type": "code",
   "execution_count": 128,
   "id": "b809f394-2d1a-41d8-85c5-c843d810b676",
   "metadata": {},
   "outputs": [
    {
     "data": {
      "text/html": [
       "<div>\n",
       "<style scoped>\n",
       "    .dataframe tbody tr th:only-of-type {\n",
       "        vertical-align: middle;\n",
       "    }\n",
       "\n",
       "    .dataframe tbody tr th {\n",
       "        vertical-align: top;\n",
       "    }\n",
       "\n",
       "    .dataframe thead th {\n",
       "        text-align: right;\n",
       "    }\n",
       "</style>\n",
       "<table border=\"1\" class=\"dataframe\">\n",
       "  <thead>\n",
       "    <tr style=\"text-align: right;\">\n",
       "      <th></th>\n",
       "      <th>country</th>\n",
       "      <th>restaurant_name</th>\n",
       "      <th>sentiment</th>\n",
       "      <th>review_title</th>\n",
       "      <th>review_date</th>\n",
       "      <th>review</th>\n",
       "      <th>review_words</th>\n",
       "      <th>review_words_count</th>\n",
       "      <th>lematized_review_words</th>\n",
       "      <th>lematized_title_words</th>\n",
       "      <th>existing_top_pos_words_review</th>\n",
       "      <th>existing_top_neg_words_review</th>\n",
       "      <th>existing_top_pos_words_title</th>\n",
       "      <th>existing_top_neg_words_title</th>\n",
       "    </tr>\n",
       "  </thead>\n",
       "  <tbody>\n",
       "    <tr>\n",
       "      <th>549</th>\n",
       "      <td>Italy</td>\n",
       "      <td>Ad Hoc Ristorante (Piazza del Popolo)</td>\n",
       "      <td>Negative</td>\n",
       "      <td>Very slow, average food, lack of wine, totally...</td>\n",
       "      <td>2011-12-01</td>\n",
       "      <td>Visited Ad Hoc for NYE with my husband and was...</td>\n",
       "      <td>[visited, ad, hoc, for, nye, with, my, husband...</td>\n",
       "      <td>436</td>\n",
       "      <td>[visited, ad, hoc, nye, husband, disappointed,...</td>\n",
       "      <td>[slow, average, food, lack, wine, totally, ove...</td>\n",
       "      <td>NaN</td>\n",
       "      <td>[food, would, one, service, table, menu, resta...</td>\n",
       "      <td>NaN</td>\n",
       "      <td>[food]</td>\n",
       "    </tr>\n",
       "    <tr>\n",
       "      <th>1387</th>\n",
       "      <td>Cuba</td>\n",
       "      <td>Old Square (Plaza Vieja)</td>\n",
       "      <td>Positive</td>\n",
       "      <td>Restoration to its former glory a good start</td>\n",
       "      <td>2014-05-01</td>\n",
       "      <td>Well on its way to being restored to its forme...</td>\n",
       "      <td>[well, on, its, way, to, being, restored, to, ...</td>\n",
       "      <td>27</td>\n",
       "      <td>[well, way, restored, former, splendour, squar...</td>\n",
       "      <td>[restoration, former, glory, good, start]</td>\n",
       "      <td>[]</td>\n",
       "      <td>NaN</td>\n",
       "      <td>[good]</td>\n",
       "      <td>NaN</td>\n",
       "    </tr>\n",
       "    <tr>\n",
       "      <th>948</th>\n",
       "      <td>Poland</td>\n",
       "      <td>Stara Kamienica</td>\n",
       "      <td>Positive</td>\n",
       "      <td>Lovely Touch</td>\n",
       "      <td>2023-06-01</td>\n",
       "      <td>I booked this restaurant a month earlier back ...</td>\n",
       "      <td>[i, booked, this, restaurant, a, month, earlie...</td>\n",
       "      <td>54</td>\n",
       "      <td>[booked, restaurant, month, earlier, back, aus...</td>\n",
       "      <td>[lovely, touch]</td>\n",
       "      <td>[great, service, nice, restaurant, wine]</td>\n",
       "      <td>NaN</td>\n",
       "      <td>[]</td>\n",
       "      <td>NaN</td>\n",
       "    </tr>\n",
       "  </tbody>\n",
       "</table>\n",
       "</div>"
      ],
      "text/plain": [
       "     country                        restaurant_name sentiment  \\\n",
       "549    Italy  Ad Hoc Ristorante (Piazza del Popolo)  Negative   \n",
       "1387    Cuba               Old Square (Plaza Vieja)  Positive   \n",
       "948   Poland                        Stara Kamienica  Positive   \n",
       "\n",
       "                                           review_title review_date  \\\n",
       "549   Very slow, average food, lack of wine, totally...  2011-12-01   \n",
       "1387       Restoration to its former glory a good start  2014-05-01   \n",
       "948                                        Lovely Touch  2023-06-01   \n",
       "\n",
       "                                                 review  \\\n",
       "549   Visited Ad Hoc for NYE with my husband and was...   \n",
       "1387  Well on its way to being restored to its forme...   \n",
       "948   I booked this restaurant a month earlier back ...   \n",
       "\n",
       "                                           review_words  review_words_count  \\\n",
       "549   [visited, ad, hoc, for, nye, with, my, husband...                 436   \n",
       "1387  [well, on, its, way, to, being, restored, to, ...                  27   \n",
       "948   [i, booked, this, restaurant, a, month, earlie...                  54   \n",
       "\n",
       "                                 lematized_review_words  \\\n",
       "549   [visited, ad, hoc, nye, husband, disappointed,...   \n",
       "1387  [well, way, restored, former, splendour, squar...   \n",
       "948   [booked, restaurant, month, earlier, back, aus...   \n",
       "\n",
       "                                  lematized_title_words  \\\n",
       "549   [slow, average, food, lack, wine, totally, ove...   \n",
       "1387          [restoration, former, glory, good, start]   \n",
       "948                                     [lovely, touch]   \n",
       "\n",
       "                 existing_top_pos_words_review  \\\n",
       "549                                        NaN   \n",
       "1387                                        []   \n",
       "948   [great, service, nice, restaurant, wine]   \n",
       "\n",
       "                          existing_top_neg_words_review  \\\n",
       "549   [food, would, one, service, table, menu, resta...   \n",
       "1387                                                NaN   \n",
       "948                                                 NaN   \n",
       "\n",
       "     existing_top_pos_words_title existing_top_neg_words_title  \n",
       "549                           NaN                       [food]  \n",
       "1387                       [good]                          NaN  \n",
       "948                            []                          NaN  "
      ]
     },
     "execution_count": 128,
     "metadata": {},
     "output_type": "execute_result"
    }
   ],
   "source": [
    "restaurants_data.sample(3)"
   ]
  },
  {
   "cell_type": "code",
   "execution_count": 129,
   "id": "1108867f-7caa-4f1c-8f79-20d5b76ae1b0",
   "metadata": {},
   "outputs": [],
   "source": [
    "def has_common_words_for_sentiment(row, sentiment_type):\n",
    "    if row[\"sentiment\"] == sentiment_type:\n",
    "        if sentiment_type == \"Positive\":\n",
    "            list1 = row[\"existing_top_pos_words_review\"]\n",
    "            list2 = row[\"existing_top_pos_words_title\"]\n",
    "        elif sentiment_type == \"Negative\":\n",
    "            list1 = row[\"existing_top_neg_words_review\"]\n",
    "            list2 = row[\"existing_top_neg_words_title\"]\n",
    "        else:\n",
    "            return False\n",
    "        return bool(set(list1) & set(list2))\n",
    "    return False\n",
    "\n",
    "\n",
    "restaurants_data[\"positive_correlation\"] = restaurants_data.apply(\n",
    "    lambda row: has_common_words_for_sentiment(row, \"Positive\"), axis=1)\n",
    "\n",
    "restaurants_data[\"negative_correlation\"] = restaurants_data.apply(\n",
    "    lambda row: has_common_words_for_sentiment(row, \"Negative\"), axis=1)"
   ]
  },
  {
   "cell_type": "code",
   "execution_count": 130,
   "id": "8e5f6b01-9773-4b04-a352-624d58b629c8",
   "metadata": {},
   "outputs": [
    {
     "name": "stdout",
     "output_type": "stream",
     "text": [
      "29.59% of all positive reviews contain one or more of the top positive words in both the review and the title.\n",
      "14.34% of all negative reviews contain one or more of the top negative words in both the review and the title.\n"
     ]
    }
   ],
   "source": [
    "total_positives = len(restaurants_data[restaurants_data.sentiment == \"Positive\"])\n",
    "total_negatives = len(restaurants_data[restaurants_data.sentiment == \"Negative\"])\n",
    "\n",
    "positive_with_top_words = len(restaurants_data[restaurants_data.positive_correlation == True])\n",
    "negative_with_top_words = len(restaurants_data[restaurants_data.negative_correlation == True])\n",
    "\n",
    "pct_positive_matching = (positive_with_top_words / total_positives) * 100\n",
    "pct_negative_matching = (negative_with_top_words / total_negatives) * 100\n",
    "\n",
    "print(f\"{pct_positive_matching:.2f}% of all positive reviews contain one or more of the top positive words in both the review and the title.\")\n",
    "print(f\"{pct_negative_matching:.2f}% of all negative reviews contain one or more of the top negative words in both the review and the title.\")"
   ]
  },
  {
   "cell_type": "markdown",
   "id": "53888711-3bce-4c65-83eb-2261fad4cad8",
   "metadata": {},
   "source": [
    "**Correlation analysis**: \\\n",
    "Positive sentiment percentage = 29.59% \\\n",
    "About 30% of positive reviews contain at least one of the top positive words in both the review text and the title. This indicates a fairly strong correlation between the content and the title of positive reviews, maybe because people are more focused and consistent. It suggests that titles are often descriptive of the positive feedback provided in the review. \n",
    "\n",
    "Negative Sentiment Percentage = 14.34% \\\n",
    "Approximately 14% of negative reviews have at least one of the top negative words in both the review text and the title. This lower percentage compared to positive sentiment show less consistency. Titles in negative reviews might be less descriptive of the content. The reasons about that might be emotions, or an attempt to capture attention. Maybe negative titles highlight the general dissatisfaction, and review text focus on specific problem, explained in details. "
   ]
  },
  {
   "cell_type": "markdown",
   "id": "a3a0aa94-23e4-4db1-a780-cd1bd3abb411",
   "metadata": {},
   "source": [
    "### Problem 6. Bag of words (1 point)\n",
    "Based on your findings so far, come up with a good set of settings (hyperparameters) for a bag-of-words model for review titles and contents. It's easiest to treat them separately (so, create two models); but you may also think about a unified representation. I find the simplest way of concatenating the title and content too simplistic to be useful, as it doesn't allow you to treat the title differently (e.g., by giving it more weight).\n",
    "\n",
    "The documentation for `CountVectorizer` is [here](https://scikit-learn.org/stable/modules/generated/sklearn.feature_extraction.text.CountVectorizer.html). Familiarize yourself with all settings; try out different combinations and come up with a final model; or rather - two models :)."
   ]
  },
  {
   "cell_type": "code",
   "execution_count": 82,
   "id": "f51015b5-88fa-4267-a9be-46079fb33ddd",
   "metadata": {},
   "outputs": [
    {
     "data": {
      "text/plain": [
       "0                               [rude, manager]\n",
       "1                         [big, disappointment]\n",
       "2                  [pretty, place, bland, food]\n",
       "3        [great, service, wine, inedible, food]\n",
       "4    [avoid, worst, meal, rome, possibly, ever]\n",
       "Name: lematized_title_words, dtype: object"
      ]
     },
     "execution_count": 82,
     "metadata": {},
     "output_type": "execute_result"
    }
   ],
   "source": [
    "restaurants_data.lematized_title_words.head(5)"
   ]
  },
  {
   "cell_type": "code",
   "execution_count": 83,
   "id": "dbcbf57a-0c85-4303-b69e-08b19b088ea1",
   "metadata": {},
   "outputs": [
    {
     "data": {
      "text/plain": [
       "0    [manager, became, agressive, said, carbonara, ...\n",
       "1    [ordered, beef, fillet, ask, done, medium, got...\n",
       "2    [attractive, venue, welcoming, albeit, somewha...\n",
       "3    [sadly, used, high, tripadvisor, rating, liter...\n",
       "4    [start, meal, bad, especially, given, price, v...\n",
       "Name: lematized_review_words, dtype: object"
      ]
     },
     "execution_count": 83,
     "metadata": {},
     "output_type": "execute_result"
    }
   ],
   "source": [
    "restaurants_data.lematized_review_words.head(5)"
   ]
  },
  {
   "cell_type": "code",
   "execution_count": 131,
   "id": "6496baa3-c386-4416-8ada-d91fa4c40f33",
   "metadata": {},
   "outputs": [],
   "source": [
    "# convert lematized words list to string:\n",
    "restaurants_data[\"lematized_title_words_str\"] = restaurants_data.lematized_title_words.apply(lambda x: \" \".join(x))\n",
    "restaurants_data[\"lematized_review_words_str\"] = restaurants_data.lematized_review_words.apply(lambda x: \" \".join(x))"
   ]
  },
  {
   "cell_type": "code",
   "execution_count": 85,
   "id": "e58eaa7c-b63c-47de-aa4c-85cd40d422a2",
   "metadata": {},
   "outputs": [
    {
     "data": {
      "text/html": [
       "<div>\n",
       "<style scoped>\n",
       "    .dataframe tbody tr th:only-of-type {\n",
       "        vertical-align: middle;\n",
       "    }\n",
       "\n",
       "    .dataframe tbody tr th {\n",
       "        vertical-align: top;\n",
       "    }\n",
       "\n",
       "    .dataframe thead th {\n",
       "        text-align: right;\n",
       "    }\n",
       "</style>\n",
       "<table border=\"1\" class=\"dataframe\">\n",
       "  <thead>\n",
       "    <tr style=\"text-align: right;\">\n",
       "      <th></th>\n",
       "      <th>country</th>\n",
       "      <th>restaurant_name</th>\n",
       "      <th>sentiment</th>\n",
       "      <th>review_title</th>\n",
       "      <th>review_date</th>\n",
       "      <th>review</th>\n",
       "      <th>review_words</th>\n",
       "      <th>review_words_count</th>\n",
       "      <th>lematized_review_words</th>\n",
       "      <th>lematized_title_words</th>\n",
       "      <th>existing_top_pos_words_review</th>\n",
       "      <th>existing_top_neg_words_review</th>\n",
       "      <th>existing_top_pos_words_title</th>\n",
       "      <th>existing_top_neg_words_title</th>\n",
       "      <th>positive_correlation</th>\n",
       "      <th>negative_correlation</th>\n",
       "      <th>lematized_title_words_str</th>\n",
       "      <th>lematized_review_words_str</th>\n",
       "    </tr>\n",
       "  </thead>\n",
       "  <tbody>\n",
       "    <tr>\n",
       "      <th>0</th>\n",
       "      <td>France</td>\n",
       "      <td>The Frog at Bercy Village</td>\n",
       "      <td>Negative</td>\n",
       "      <td>Rude manager</td>\n",
       "      <td>2024-05-01</td>\n",
       "      <td>The manager became agressive when I said the c...</td>\n",
       "      <td>[the, manager, became, agressive, when, i, sai...</td>\n",
       "      <td>28</td>\n",
       "      <td>[manager, became, agressive, said, carbonara, ...</td>\n",
       "      <td>[rude, manager]</td>\n",
       "      <td>NaN</td>\n",
       "      <td>[good]</td>\n",
       "      <td>NaN</td>\n",
       "      <td>[]</td>\n",
       "      <td>False</td>\n",
       "      <td>False</td>\n",
       "      <td>rude manager</td>\n",
       "      <td>manager became agressive said carbonara good r...</td>\n",
       "    </tr>\n",
       "    <tr>\n",
       "      <th>1</th>\n",
       "      <td>France</td>\n",
       "      <td>The Frog at Bercy Village</td>\n",
       "      <td>Negative</td>\n",
       "      <td>A big disappointment</td>\n",
       "      <td>2024-02-01</td>\n",
       "      <td>I ordered a beef fillet ask to be done medium,...</td>\n",
       "      <td>[i, ordered, a, beef, fillet, ask, to, be, don...</td>\n",
       "      <td>58</td>\n",
       "      <td>[ordered, beef, fillet, ask, done, medium, got...</td>\n",
       "      <td>[big, disappointment]</td>\n",
       "      <td>NaN</td>\n",
       "      <td>[]</td>\n",
       "      <td>NaN</td>\n",
       "      <td>[]</td>\n",
       "      <td>False</td>\n",
       "      <td>False</td>\n",
       "      <td>big disappointment</td>\n",
       "      <td>ordered beef fillet ask done medium got well d...</td>\n",
       "    </tr>\n",
       "    <tr>\n",
       "      <th>2</th>\n",
       "      <td>France</td>\n",
       "      <td>The Frog at Bercy Village</td>\n",
       "      <td>Negative</td>\n",
       "      <td>Pretty Place with Bland Food</td>\n",
       "      <td>2023-11-01</td>\n",
       "      <td>This is an attractive venue with welcoming, al...</td>\n",
       "      <td>[this, is, an, attractive, venue, with, welcom...</td>\n",
       "      <td>40</td>\n",
       "      <td>[attractive, venue, welcoming, albeit, somewha...</td>\n",
       "      <td>[pretty, place, bland, food]</td>\n",
       "      <td>NaN</td>\n",
       "      <td>[food, restaurant, service]</td>\n",
       "      <td>NaN</td>\n",
       "      <td>[food, place]</td>\n",
       "      <td>False</td>\n",
       "      <td>True</td>\n",
       "      <td>pretty place bland food</td>\n",
       "      <td>attractive venue welcoming albeit somewhat slo...</td>\n",
       "    </tr>\n",
       "  </tbody>\n",
       "</table>\n",
       "</div>"
      ],
      "text/plain": [
       "  country            restaurant_name sentiment                  review_title  \\\n",
       "0  France  The Frog at Bercy Village  Negative                  Rude manager   \n",
       "1  France  The Frog at Bercy Village  Negative          A big disappointment   \n",
       "2  France  The Frog at Bercy Village  Negative  Pretty Place with Bland Food   \n",
       "\n",
       "  review_date                                             review  \\\n",
       "0  2024-05-01  The manager became agressive when I said the c...   \n",
       "1  2024-02-01  I ordered a beef fillet ask to be done medium,...   \n",
       "2  2023-11-01  This is an attractive venue with welcoming, al...   \n",
       "\n",
       "                                        review_words  review_words_count  \\\n",
       "0  [the, manager, became, agressive, when, i, sai...                  28   \n",
       "1  [i, ordered, a, beef, fillet, ask, to, be, don...                  58   \n",
       "2  [this, is, an, attractive, venue, with, welcom...                  40   \n",
       "\n",
       "                              lematized_review_words  \\\n",
       "0  [manager, became, agressive, said, carbonara, ...   \n",
       "1  [ordered, beef, fillet, ask, done, medium, got...   \n",
       "2  [attractive, venue, welcoming, albeit, somewha...   \n",
       "\n",
       "          lematized_title_words existing_top_pos_words_review  \\\n",
       "0               [rude, manager]                           NaN   \n",
       "1         [big, disappointment]                           NaN   \n",
       "2  [pretty, place, bland, food]                           NaN   \n",
       "\n",
       "  existing_top_neg_words_review existing_top_pos_words_title  \\\n",
       "0                        [good]                          NaN   \n",
       "1                            []                          NaN   \n",
       "2   [food, restaurant, service]                          NaN   \n",
       "\n",
       "  existing_top_neg_words_title  positive_correlation  negative_correlation  \\\n",
       "0                           []                 False                 False   \n",
       "1                           []                 False                 False   \n",
       "2                [food, place]                 False                  True   \n",
       "\n",
       "  lematized_title_words_str                         lematized_review_words_str  \n",
       "0              rude manager  manager became agressive said carbonara good r...  \n",
       "1        big disappointment  ordered beef fillet ask done medium got well d...  \n",
       "2   pretty place bland food  attractive venue welcoming albeit somewhat slo...  "
      ]
     },
     "execution_count": 85,
     "metadata": {},
     "output_type": "execute_result"
    }
   ],
   "source": [
    "restaurants_data.head(3)"
   ]
  },
  {
   "cell_type": "code",
   "execution_count": 132,
   "id": "5a11c471-8375-4a8e-89b0-038452e4bf49",
   "metadata": {},
   "outputs": [],
   "source": [
    "# initialize vectorizers, set hyperparameters:\n",
    "\n",
    "title_vectorizer = CountVectorizer(\n",
    "    ngram_range = (1, 1),  # determines whether to use only single words (unigrams) or combinations of words\n",
    "    stop_words = \"english\",\n",
    "    lowercase = True,\n",
    "    max_features = 1000,\n",
    "    min_df = 2,             \n",
    "    max_df = 0.90, \n",
    ")\n",
    "\n",
    "review_vectorizer = CountVectorizer(\n",
    "    ngram_range = (1, 2),   # capture unigrams and bigrams\n",
    "    stop_words = \"english\", # remove common stop words\n",
    "    lowercase = True,        # convert input words lowercase for consistency (ok in my case)\n",
    "    max_features = 10000,   # take the first 10000 most common words\n",
    "    min_df = 2,             # minimum number of times a word must occur\n",
    "    max_df = 0.85,          # maximum number of times a word must occur\n",
    ")"
   ]
  },
  {
   "cell_type": "code",
   "execution_count": 133,
   "id": "116312e7-cf96-4f41-9528-2032a97be667",
   "metadata": {},
   "outputs": [],
   "source": [
    "# fit and transform\n",
    "title_features = title_vectorizer.fit_transform(restaurants_data.lematized_title_words_str)\n",
    "review_features = review_vectorizer.fit_transform(restaurants_data.lematized_review_words_str)"
   ]
  },
  {
   "cell_type": "code",
   "execution_count": 134,
   "id": "9d3422c7-adfc-4fcc-a5ea-13f1eee31bf8",
   "metadata": {},
   "outputs": [
    {
     "data": {
      "text/plain": [
       "<1502x405 sparse matrix of type '<class 'numpy.int64'>'\n",
       "\twith 3662 stored elements in Compressed Sparse Row format>"
      ]
     },
     "execution_count": 134,
     "metadata": {},
     "output_type": "execute_result"
    }
   ],
   "source": [
    "title_features"
   ]
  },
  {
   "cell_type": "code",
   "execution_count": 136,
   "id": "cbfc7c1f-c15b-4c73-bf05-eb01b4ab654c",
   "metadata": {},
   "outputs": [
    {
     "data": {
      "text/plain": [
       "<1502x7402 sparse matrix of type '<class 'numpy.int64'>'\n",
       "\twith 54898 stored elements in Compressed Sparse Row format>"
      ]
     },
     "execution_count": 136,
     "metadata": {},
     "output_type": "execute_result"
    }
   ],
   "source": [
    "review_features"
   ]
  },
  {
   "cell_type": "code",
   "execution_count": 137,
   "id": "6a4a91b5-d4a1-4ef0-a3ca-3426ffc03435",
   "metadata": {},
   "outputs": [
    {
     "name": "stdout",
     "output_type": "stream",
     "text": [
      "Sparsity percentage for title matrix: 0.60%\n",
      "Sparsity percentage for review content matrix: 0.49%\n"
     ]
    }
   ],
   "source": [
    "pct_titles = (3662 / (1502 * 405)) * 100\n",
    "pct_reviews = (54898 / (1502 * 7402)) * 100\n",
    "\n",
    "print(f\"Sparsity percentage for title matrix: {pct_titles:.2f}%\")\n",
    "print(f\"Sparsity percentage for review content matrix: {pct_reviews:.2f}%\")"
   ]
  },
  {
   "cell_type": "markdown",
   "id": "e04e0115-d558-4f2f-8fe9-177313ad704d",
   "metadata": {},
   "source": [
    "Titles: 0.60% sparsity means that approximately 0.60% of the matrix entries are non-zero, and the remaining are zero. This relatively low sparsity indicates that titles have a fairly higher density of terms compared to the review content. Titles tend to use a more focused set of words that appear frequently across different titles. \n",
    "\n",
    "Reviews: 0.49% sparsity means that about 0.49% of the matrix entries are non-zero, and the remaining are zero. This slightly lower sparsity compared to titles suggests that reviews are more denser in terms of word usage. Reviews might contain a broader range of vocabulary but still result in a large proportion of zeros due to the big number of unique tokens."
   ]
  },
  {
   "cell_type": "code",
   "execution_count": null,
   "id": "098f87a2-bfdf-4d57-849d-f97b90648dcd",
   "metadata": {},
   "outputs": [],
   "source": []
  },
  {
   "cell_type": "markdown",
   "id": "a337ce0f-2afe-422f-8e9d-beddd5635093",
   "metadata": {},
   "source": [
    "### Problem 7. Deep sentiment analysis models (1 point)\n",
    "Find a suitable model for sentiment analysis in English. Without modifying, training, or fine-tuning the model, make it predict all contents (or better, combinations of titles and contents, if you can). Meaure the accuracy of the model compared to the `sentiment` column in the dataset."
   ]
  },
  {
   "cell_type": "code",
   "execution_count": null,
   "id": "3272c277-112a-4623-8c01-addf2e6d6ddc",
   "metadata": {},
   "outputs": [],
   "source": []
  },
  {
   "cell_type": "markdown",
   "id": "773d804d-9c83-48ec-be2b-8564d73d908c",
   "metadata": {},
   "source": [
    "### Problem 8. Deep features (embeddings) (1 point)\n",
    "Use the same model to perform feature extraction on the review contents (or contents + titles) instead of direct predictions. You should already be familiar how to do that from your work on images.\n",
    "\n",
    "Use the cosine similarity between texts to try to cluster them. Are there \"similar\" reviews (you'll need to find a way to measure similarity) across different restaurants? Are customers generally in agreement for the same restaurant?"
   ]
  },
  {
   "cell_type": "code",
   "execution_count": null,
   "id": "f732c764-2ef0-4da2-a662-f8cd7b684245",
   "metadata": {},
   "outputs": [],
   "source": []
  },
  {
   "cell_type": "markdown",
   "id": "c79a585f-1dad-469a-a2ae-31d3981b9e1b",
   "metadata": {},
   "source": [
    "### \\* Problem 9. Explore and model at will\n",
    "In this lab, we focused on preprocessing and feature extraction and we didn't really have a chance to train (or compare) models. The dataset is maybe too small to be conclusive, but feel free to play around with ready-made models, and train your own."
   ]
  },
  {
   "cell_type": "code",
   "execution_count": null,
   "id": "a1e90732-4d96-4692-8588-b9429430a98b",
   "metadata": {},
   "outputs": [],
   "source": []
  }
 ],
 "metadata": {
  "kernelspec": {
   "display_name": "Python 3 (ipykernel)",
   "language": "python",
   "name": "python3"
  },
  "language_info": {
   "codemirror_mode": {
    "name": "ipython",
    "version": 3
   },
   "file_extension": ".py",
   "mimetype": "text/x-python",
   "name": "python",
   "nbconvert_exporter": "python",
   "pygments_lexer": "ipython3",
   "version": "3.11.7"
  }
 },
 "nbformat": 4,
 "nbformat_minor": 5
}
