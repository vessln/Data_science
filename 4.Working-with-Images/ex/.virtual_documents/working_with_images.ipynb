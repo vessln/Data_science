%matplotlib inline


import numpy as np
import pandas as pd
import matplotlib.pyplot as plt

from skimage.io import imread, imread_collection, imshow, imshow_collection











cat_image = imread("felis_taxonomy_cats/domestic-cat/dc (17).jpg") # read image


cat_image


cat_image.shape # (height, weight, number of channels)


cat_image[:, :, 0] # return all values from red channel


all_domestic_cats_collection = imread_collection("felis_taxonomy_cats/domestic-cat/*") # read all images from 'domestic-cat' directory


all_domestic_cats_collection


all_domestic_cats = list(all_domestic_cats_collection) # return all images from 'domestic-cat' directory


# all_domestic_cats[0] # return first image


len(all_domestic_cats) 


(all_domestic_cats[16] == cat_image).all() # the image is the same 


plt.imshow(cat_image) # return the image


plt.imshow(cat_image[:, :, 0], cmap = "Reds_r") # red channel
plt.colorbar()
plt.show()
# darker -> lower values, lighter -> higher values


imshow(cat_image)


imshow(cat_image[:, :, 0]) # red channel





plt.imshow(cat_image[50:110, 70:150]) # crop part of image


plt.imshow(cat_image[::2, ::2]) # make the image 4 times smaller 


cat_image.dtype # unsigned integer, 8 bits 


cat_image.astype(float).dtype


cat_image


imshow((cat_image + 200).astype("uint8"))


imshow((cat_image[:, :, 0] + 200).astype("uint8"))


imshow(cat_image[:, :, 0] + 500, vmin = 0, vmax = 500 + 256, cmap = "grey")


imshow(cat_image + 500, vmin = 0, vmax = 500 + 256, cmap = "grey")
# it expects to be [0, 1] or [0, 255]


imshow(cat_image[:, :, 0] + 500, vmin = 500, vmax = 500+256, cmap = "grey")


imshow((cat_image[:, :, 0]).astype(int) - 500, cmap = "grey")


(cat_image[:, :, 0]).astype(int) - 500 # numbers can be negative


(cat_image[:, :, 0]).astype(float) - 500 # numbers can be with a decimal point





plt.hist(cat_image[:, :, 0]) # make histogram for each column (275 histograms) because it is multidimentional


# make one dimentional array
one_dimentional_image_r = cat_image[:, :, 0].ravel()
one_dimentional_image_g = cat_image[:, :, 1].ravel() 
one_dimentional_image_b = cat_image[:, :, 2].ravel() 


one_dimentional_image_r.shape


cat_image.shape[:2]


183 * 275


two_dimentional_image_r = cat_image[:, :, 0].reshape(-1, 1) # make two dimentional array


two_dimentional_image_r.shape





plt.hist(one_dimentional_image_r, bins = 256, color="r", alpha = 0.6) # pixel values = bins  ->  bar chart
plt.hist(one_dimentional_image_g, bins = 256, color="g", alpha = 0.6) # hist for green channel
plt.hist(one_dimentional_image_b, bins = 256, color="b", alpha = 0.6) # hist for blue channel

plt.xlabel("pixel value")
plt.ylabel("pixel count")

plt.xlim(0, 255)

plt.show()



