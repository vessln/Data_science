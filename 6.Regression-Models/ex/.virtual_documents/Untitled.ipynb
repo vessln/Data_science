%matplotlib inline


import numpy as np
import pandas as pd
import matplotlib.pyplot as plt








# linear function:
x = np.linspace(-3, 5, 300)
y = 2 * x + 3


plt.scatter(x, y , color= "r", s = 0.1)

plt.xlabel("x")
plt.ylabel("y")

plt.show()


# usually the inputs (x) are well known and there is no need for noise
# noise for outputs (y):
y_noise = np.random.normal(loc = 0, scale = 0.7, size = len(x)) # loc - mean; scale - std
y += y_noise


plt.scatter(x, y_result , color= "r", s = 0.5)

plt.xlabel("x")
plt.ylabel("y")

plt.show()


a = 8
b = 5 

model_x = np.linspace(np.min(x), np.max(x), 5)
model_y = a * model_x + b

plt.plot(model_x, model_y)
plt.show()





def plot_predictions(x, y, a, b):
    y_predictions = a * x + b

    plt.scatter(x, y, color = "r", s = 0.5, label = "data")
    plt.plot(x, y_predictions, label = "model")
    
    plt.xlabel("x")
    plt.ylabel("y")

    plt.legend()
    plt.show()


plot_predictions(x, y, a, b)


a = 5
b = 2
plot_predictions(x, y, a, b)


a = -2
b = 1
plot_predictions(x, y, a, b)
# bad model


a = 2
b = 1
plot_predictions(x, y, a, b)


good model but it has error



