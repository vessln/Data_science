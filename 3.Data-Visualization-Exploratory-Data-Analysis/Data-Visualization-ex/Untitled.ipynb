{
 "cells": [
  {
   "cell_type": "code",
   "execution_count": 1,
   "id": "3b7fce0c-10f4-449f-a866-1fdbbbf05b9c",
   "metadata": {},
   "outputs": [],
   "source": [
    "%matplotlib inline"
   ]
  },
  {
   "cell_type": "code",
   "execution_count": 2,
   "id": "5e6614f3-734a-4611-a8dd-47919bf94c29",
   "metadata": {},
   "outputs": [],
   "source": [
    "import numpy as np\n",
    "import pandas as pd\n",
    "import matplotlib.pyplot as plt\n",
    "import seaborn as sns"
   ]
  },
  {
   "cell_type": "markdown",
   "id": "aaceadb8-899f-4f89-b19d-5069ca6bc4e4",
   "metadata": {},
   "source": [
    "# Data Visualization. Exploratory Data Analysis"
   ]
  },
  {
   "cell_type": "code",
   "execution_count": 3,
   "id": "d752fd5c-881b-4db2-b520-a3e30d371f94",
   "metadata": {},
   "outputs": [],
   "source": [
    "coffee_data = pd.read_csv(\"data/merged_data_cleaned.csv\")"
   ]
  },
  {
   "cell_type": "code",
   "execution_count": 4,
   "id": "e5314645-3346-4c67-a51e-e4aea70d6317",
   "metadata": {},
   "outputs": [
    {
     "data": {
      "text/html": [
       "<div>\n",
       "<style scoped>\n",
       "    .dataframe tbody tr th:only-of-type {\n",
       "        vertical-align: middle;\n",
       "    }\n",
       "\n",
       "    .dataframe tbody tr th {\n",
       "        vertical-align: top;\n",
       "    }\n",
       "\n",
       "    .dataframe thead th {\n",
       "        text-align: right;\n",
       "    }\n",
       "</style>\n",
       "<table border=\"1\" class=\"dataframe\">\n",
       "  <thead>\n",
       "    <tr style=\"text-align: right;\">\n",
       "      <th></th>\n",
       "      <th>Unnamed: 0</th>\n",
       "      <th>Species</th>\n",
       "      <th>Owner</th>\n",
       "      <th>Country.of.Origin</th>\n",
       "      <th>Farm.Name</th>\n",
       "      <th>Lot.Number</th>\n",
       "      <th>Mill</th>\n",
       "      <th>ICO.Number</th>\n",
       "      <th>Company</th>\n",
       "      <th>Altitude</th>\n",
       "      <th>...</th>\n",
       "      <th>Color</th>\n",
       "      <th>Category.Two.Defects</th>\n",
       "      <th>Expiration</th>\n",
       "      <th>Certification.Body</th>\n",
       "      <th>Certification.Address</th>\n",
       "      <th>Certification.Contact</th>\n",
       "      <th>unit_of_measurement</th>\n",
       "      <th>altitude_low_meters</th>\n",
       "      <th>altitude_high_meters</th>\n",
       "      <th>altitude_mean_meters</th>\n",
       "    </tr>\n",
       "  </thead>\n",
       "  <tbody>\n",
       "    <tr>\n",
       "      <th>0</th>\n",
       "      <td>0</td>\n",
       "      <td>Arabica</td>\n",
       "      <td>metad plc</td>\n",
       "      <td>Ethiopia</td>\n",
       "      <td>metad plc</td>\n",
       "      <td>NaN</td>\n",
       "      <td>metad plc</td>\n",
       "      <td>2014/2015</td>\n",
       "      <td>metad agricultural developmet plc</td>\n",
       "      <td>1950-2200</td>\n",
       "      <td>...</td>\n",
       "      <td>Green</td>\n",
       "      <td>0</td>\n",
       "      <td>April 3rd, 2016</td>\n",
       "      <td>METAD Agricultural Development plc</td>\n",
       "      <td>309fcf77415a3661ae83e027f7e5f05dad786e44</td>\n",
       "      <td>19fef5a731de2db57d16da10287413f5f99bc2dd</td>\n",
       "      <td>m</td>\n",
       "      <td>1950.0</td>\n",
       "      <td>2200.0</td>\n",
       "      <td>2075.0</td>\n",
       "    </tr>\n",
       "    <tr>\n",
       "      <th>1</th>\n",
       "      <td>1</td>\n",
       "      <td>Arabica</td>\n",
       "      <td>metad plc</td>\n",
       "      <td>Ethiopia</td>\n",
       "      <td>metad plc</td>\n",
       "      <td>NaN</td>\n",
       "      <td>metad plc</td>\n",
       "      <td>2014/2015</td>\n",
       "      <td>metad agricultural developmet plc</td>\n",
       "      <td>1950-2200</td>\n",
       "      <td>...</td>\n",
       "      <td>Green</td>\n",
       "      <td>1</td>\n",
       "      <td>April 3rd, 2016</td>\n",
       "      <td>METAD Agricultural Development plc</td>\n",
       "      <td>309fcf77415a3661ae83e027f7e5f05dad786e44</td>\n",
       "      <td>19fef5a731de2db57d16da10287413f5f99bc2dd</td>\n",
       "      <td>m</td>\n",
       "      <td>1950.0</td>\n",
       "      <td>2200.0</td>\n",
       "      <td>2075.0</td>\n",
       "    </tr>\n",
       "    <tr>\n",
       "      <th>2</th>\n",
       "      <td>2</td>\n",
       "      <td>Arabica</td>\n",
       "      <td>grounds for health admin</td>\n",
       "      <td>Guatemala</td>\n",
       "      <td>san marcos barrancas \"san cristobal cuch</td>\n",
       "      <td>NaN</td>\n",
       "      <td>NaN</td>\n",
       "      <td>NaN</td>\n",
       "      <td>NaN</td>\n",
       "      <td>1600 - 1800 m</td>\n",
       "      <td>...</td>\n",
       "      <td>NaN</td>\n",
       "      <td>0</td>\n",
       "      <td>May 31st, 2011</td>\n",
       "      <td>Specialty Coffee Association</td>\n",
       "      <td>36d0d00a3724338ba7937c52a378d085f2172daa</td>\n",
       "      <td>0878a7d4b9d35ddbf0fe2ce69a2062cceb45a660</td>\n",
       "      <td>m</td>\n",
       "      <td>1600.0</td>\n",
       "      <td>1800.0</td>\n",
       "      <td>1700.0</td>\n",
       "    </tr>\n",
       "  </tbody>\n",
       "</table>\n",
       "<p>3 rows × 44 columns</p>\n",
       "</div>"
      ],
      "text/plain": [
       "   Unnamed: 0  Species                     Owner Country.of.Origin  \\\n",
       "0           0  Arabica                 metad plc          Ethiopia   \n",
       "1           1  Arabica                 metad plc          Ethiopia   \n",
       "2           2  Arabica  grounds for health admin         Guatemala   \n",
       "\n",
       "                                  Farm.Name Lot.Number       Mill ICO.Number  \\\n",
       "0                                 metad plc        NaN  metad plc  2014/2015   \n",
       "1                                 metad plc        NaN  metad plc  2014/2015   \n",
       "2  san marcos barrancas \"san cristobal cuch        NaN        NaN        NaN   \n",
       "\n",
       "                             Company       Altitude  ...  Color  \\\n",
       "0  metad agricultural developmet plc      1950-2200  ...  Green   \n",
       "1  metad agricultural developmet plc      1950-2200  ...  Green   \n",
       "2                                NaN  1600 - 1800 m  ...    NaN   \n",
       "\n",
       "  Category.Two.Defects       Expiration                  Certification.Body  \\\n",
       "0                    0  April 3rd, 2016  METAD Agricultural Development plc   \n",
       "1                    1  April 3rd, 2016  METAD Agricultural Development plc   \n",
       "2                    0   May 31st, 2011        Specialty Coffee Association   \n",
       "\n",
       "                      Certification.Address  \\\n",
       "0  309fcf77415a3661ae83e027f7e5f05dad786e44   \n",
       "1  309fcf77415a3661ae83e027f7e5f05dad786e44   \n",
       "2  36d0d00a3724338ba7937c52a378d085f2172daa   \n",
       "\n",
       "                      Certification.Contact unit_of_measurement  \\\n",
       "0  19fef5a731de2db57d16da10287413f5f99bc2dd                   m   \n",
       "1  19fef5a731de2db57d16da10287413f5f99bc2dd                   m   \n",
       "2  0878a7d4b9d35ddbf0fe2ce69a2062cceb45a660                   m   \n",
       "\n",
       "  altitude_low_meters altitude_high_meters altitude_mean_meters  \n",
       "0              1950.0               2200.0               2075.0  \n",
       "1              1950.0               2200.0               2075.0  \n",
       "2              1600.0               1800.0               1700.0  \n",
       "\n",
       "[3 rows x 44 columns]"
      ]
     },
     "execution_count": 4,
     "metadata": {},
     "output_type": "execute_result"
    }
   ],
   "source": [
    "coffee_data.head(3)"
   ]
  },
  {
   "cell_type": "code",
   "execution_count": 5,
   "id": "2bd6e9ef-9e4e-4176-b5b1-085754246d0e",
   "metadata": {},
   "outputs": [
    {
     "data": {
      "text/plain": [
       "Unnamed: 0                 int64\n",
       "Species                   object\n",
       "Owner                     object\n",
       "Country.of.Origin         object\n",
       "Farm.Name                 object\n",
       "Lot.Number                object\n",
       "Mill                      object\n",
       "ICO.Number                object\n",
       "Company                   object\n",
       "Altitude                  object\n",
       "Region                    object\n",
       "Producer                  object\n",
       "Number.of.Bags             int64\n",
       "Bag.Weight                object\n",
       "In.Country.Partner        object\n",
       "Harvest.Year              object\n",
       "Grading.Date              object\n",
       "Owner.1                   object\n",
       "Variety                   object\n",
       "Processing.Method         object\n",
       "Aroma                    float64\n",
       "Flavor                   float64\n",
       "Aftertaste               float64\n",
       "Acidity                  float64\n",
       "Body                     float64\n",
       "Balance                  float64\n",
       "Uniformity               float64\n",
       "Clean.Cup                float64\n",
       "Sweetness                float64\n",
       "Cupper.Points            float64\n",
       "Total.Cup.Points         float64\n",
       "Moisture                 float64\n",
       "Category.One.Defects       int64\n",
       "Quakers                  float64\n",
       "Color                     object\n",
       "Category.Two.Defects       int64\n",
       "Expiration                object\n",
       "Certification.Body        object\n",
       "Certification.Address     object\n",
       "Certification.Contact     object\n",
       "unit_of_measurement       object\n",
       "altitude_low_meters      float64\n",
       "altitude_high_meters     float64\n",
       "altitude_mean_meters     float64\n",
       "dtype: object"
      ]
     },
     "execution_count": 5,
     "metadata": {},
     "output_type": "execute_result"
    }
   ],
   "source": [
    "coffee_data.dtypes"
   ]
  },
  {
   "cell_type": "code",
   "execution_count": 6,
   "id": "f8277294-0c14-410d-8ac2-ea012e106009",
   "metadata": {},
   "outputs": [],
   "source": [
    "coffee_data = coffee_data.drop(columns = [\"Unnamed: 0\"])"
   ]
  },
  {
   "cell_type": "code",
   "execution_count": 7,
   "id": "f8a8379f-fd0b-4f1a-8a8c-4f44eeb602e1",
   "metadata": {},
   "outputs": [],
   "source": [
    "coffee_data.columns = coffee_data.columns.str.replace(\".\", \"_\")\n",
    "coffee_data.columns = coffee_data.columns.str.lower()"
   ]
  },
  {
   "cell_type": "code",
   "execution_count": 8,
   "id": "a14624b8-648d-45f6-8f39-5b36d3a82a69",
   "metadata": {},
   "outputs": [
    {
     "data": {
      "text/plain": [
       "Index(['species', 'owner', 'country_of_origin', 'farm_name', 'lot_number',\n",
       "       'mill', 'ico_number', 'company', 'altitude', 'region', 'producer',\n",
       "       'number_of_bags', 'bag_weight', 'in_country_partner', 'harvest_year',\n",
       "       'grading_date', 'owner_1', 'variety', 'processing_method', 'aroma',\n",
       "       'flavor', 'aftertaste', 'acidity', 'body', 'balance', 'uniformity',\n",
       "       'clean_cup', 'sweetness', 'cupper_points', 'total_cup_points',\n",
       "       'moisture', 'category_one_defects', 'quakers', 'color',\n",
       "       'category_two_defects', 'expiration', 'certification_body',\n",
       "       'certification_address', 'certification_contact', 'unit_of_measurement',\n",
       "       'altitude_low_meters', 'altitude_high_meters', 'altitude_mean_meters'],\n",
       "      dtype='object')"
      ]
     },
     "execution_count": 8,
     "metadata": {},
     "output_type": "execute_result"
    }
   ],
   "source": [
    "coffee_data.columns"
   ]
  },
  {
   "cell_type": "code",
   "execution_count": 9,
   "id": "7a8d7f11-3f7d-430b-9743-1d5fd68e5473",
   "metadata": {},
   "outputs": [
    {
     "data": {
      "text/plain": [
       "array(['2014', nan, '2013', '2012', 'March 2010',\n",
       "       'Sept 2009 - April 2010', 'May-August', '2009/2010', '2015',\n",
       "       '2011', '2016', '2015/2016', '2010', 'Fall 2009', '2017',\n",
       "       '2009 / 2010', '2010-2011', '2009-2010', '2009 - 2010',\n",
       "       '2013/2014', '2017 / 2018', 'mmm', 'TEST',\n",
       "       'December 2009-March 2010', '2014/2015', '2011/2012',\n",
       "       'January 2011', '4T/10', '2016 / 2017', '23 July 2010',\n",
       "       'January Through April', '1T/2011', '4t/2010', '4T/2010',\n",
       "       'August to December', 'Mayo a Julio', '47/2010', 'Abril - Julio',\n",
       "       '4t/2011', 'Abril - Julio /2011', 'Spring 2011 in Colombia.',\n",
       "       '3T/2011', '2016/2017', '1t/2011', '2018', '4T72010', '08/09 crop'],\n",
       "      dtype=object)"
      ]
     },
     "execution_count": 9,
     "metadata": {},
     "output_type": "execute_result"
    }
   ],
   "source": [
    "coffee_data.harvest_year.unique()"
   ]
  },
  {
   "cell_type": "code",
   "execution_count": 10,
   "id": "0f0056a7-d8a3-449f-a724-b4daea1cdfab",
   "metadata": {},
   "outputs": [
    {
     "data": {
      "text/plain": [
       "0       2014\n",
       "1       2014\n",
       "2        NaN\n",
       "3       2014\n",
       "4       2014\n",
       "        ... \n",
       "1334    2016\n",
       "1335    2016\n",
       "1336    2014\n",
       "1337    2013\n",
       "1338    2013\n",
       "Name: harvest_year, Length: 1339, dtype: object"
      ]
     },
     "execution_count": 10,
     "metadata": {},
     "output_type": "execute_result"
    }
   ],
   "source": [
    "coffee_data.harvest_year.astype(float, errors = \"ignore\")"
   ]
  },
  {
   "cell_type": "code",
   "execution_count": 11,
   "id": "f379169a-3b13-4b8f-af70-3ef3f62c9309",
   "metadata": {},
   "outputs": [
    {
     "data": {
      "text/plain": [
       "0       True\n",
       "1       True\n",
       "2        NaN\n",
       "3       True\n",
       "4       True\n",
       "        ... \n",
       "1334    True\n",
       "1335    True\n",
       "1336    True\n",
       "1337    True\n",
       "1338    True\n",
       "Name: harvest_year, Length: 1339, dtype: object"
      ]
     },
     "execution_count": 11,
     "metadata": {},
     "output_type": "execute_result"
    }
   ],
   "source": [
    "coffee_data.harvest_year.str.isnumeric() # returns True if value is numeric"
   ]
  },
  {
   "cell_type": "code",
   "execution_count": 12,
   "id": "0b94868e-3ff6-41a4-81ba-f92091c4d52f",
   "metadata": {},
   "outputs": [
    {
     "data": {
      "text/plain": [
       "array([True, nan, False], dtype=object)"
      ]
     },
     "execution_count": 12,
     "metadata": {},
     "output_type": "execute_result"
    }
   ],
   "source": [
    "coffee_data.harvest_year.str.isnumeric().unique() # returns unique value types"
   ]
  },
  {
   "cell_type": "code",
   "execution_count": 13,
   "id": "42d6113a-764b-4528-8eb2-4bc71752eb47",
   "metadata": {},
   "outputs": [
    {
     "data": {
      "text/plain": [
       "harvest_year\n",
       "True     1128\n",
       "False     164\n",
       "NaN        47\n",
       "Name: count, dtype: int64"
      ]
     },
     "execution_count": 13,
     "metadata": {},
     "output_type": "execute_result"
    }
   ],
   "source": [
    "# returns how much columns are numeric, other type, NaN (missing values)\n",
    "coffee_data.harvest_year.str.isnumeric().value_counts(dropna = False)"
   ]
  },
  {
   "cell_type": "code",
   "execution_count": 14,
   "id": "735f85f3-958d-4101-ab0c-bb078ee3d981",
   "metadata": {},
   "outputs": [
    {
     "data": {
      "text/plain": [
       "0        True\n",
       "1        True\n",
       "2       False\n",
       "3        True\n",
       "4        True\n",
       "        ...  \n",
       "1334     True\n",
       "1335     True\n",
       "1336     True\n",
       "1337     True\n",
       "1338     True\n",
       "Name: harvest_year, Length: 1339, dtype: bool"
      ]
     },
     "execution_count": 14,
     "metadata": {},
     "output_type": "execute_result"
    }
   ],
   "source": [
    "coffee_data.harvest_year.str.isnumeric() == True"
   ]
  },
  {
   "cell_type": "code",
   "execution_count": 15,
   "id": "ce51d248-f6a1-4d0a-a79c-4eb880138bf8",
   "metadata": {},
   "outputs": [],
   "source": [
    "coffee_valid_harvest_years = coffee_data[coffee_data.harvest_year.str.isnumeric() == True]"
   ]
  },
  {
   "cell_type": "code",
   "execution_count": 16,
   "id": "c09aeb95-9693-4284-9088-f5cf85936719",
   "metadata": {},
   "outputs": [
    {
     "name": "stderr",
     "output_type": "stream",
     "text": [
      "C:\\Users\\USER\\AppData\\Local\\Temp\\ipykernel_15864\\595066360.py:1: SettingWithCopyWarning: \n",
      "A value is trying to be set on a copy of a slice from a DataFrame.\n",
      "Try using .loc[row_indexer,col_indexer] = value instead\n",
      "\n",
      "See the caveats in the documentation: https://pandas.pydata.org/pandas-docs/stable/user_guide/indexing.html#returning-a-view-versus-a-copy\n",
      "  coffee_valid_harvest_years.harvest_year = coffee_valid_harvest_years.harvest_year.astype(int)\n"
     ]
    }
   ],
   "source": [
    "coffee_valid_harvest_years.harvest_year = coffee_valid_harvest_years.harvest_year.astype(int)"
   ]
  },
  {
   "cell_type": "code",
   "execution_count": 17,
   "id": "bc6966b6-dcc1-4050-9efd-94b20624d110",
   "metadata": {},
   "outputs": [
    {
     "data": {
      "text/plain": [
       "harvest_year\n",
       "2012    354\n",
       "2014    233\n",
       "2013    181\n",
       "2015    129\n",
       "2016    124\n",
       "2017     70\n",
       "2011     26\n",
       "2010     10\n",
       "2018      1\n",
       "dtype: int64"
      ]
     },
     "execution_count": 17,
     "metadata": {},
     "output_type": "execute_result"
    }
   ],
   "source": [
    "# group harvest years by their count:\n",
    "coffee_valid_harvest_years.groupby(\"harvest_year\").size().sort_values(ascending = False)"
   ]
  },
  {
   "cell_type": "code",
   "execution_count": 18,
   "id": "ccbbc44e-fe89-4e0c-a5c6-4445d5248dfb",
   "metadata": {},
   "outputs": [],
   "source": [
    "# group harvest_year by their count, starting with the smallest year:\n",
    "years = coffee_valid_harvest_years.harvest_year.value_counts().sort_index() "
   ]
  },
  {
   "cell_type": "code",
   "execution_count": 19,
   "id": "40427f33-3b8d-40e7-9732-9226a6d1d710",
   "metadata": {},
   "outputs": [
    {
     "data": {
      "text/plain": [
       "harvest_year\n",
       "2010     10\n",
       "2011     26\n",
       "2012    354\n",
       "2013    181\n",
       "2014    233\n",
       "2015    129\n",
       "2016    124\n",
       "2017     70\n",
       "2018      1\n",
       "Name: count, dtype: int64"
      ]
     },
     "execution_count": 19,
     "metadata": {},
     "output_type": "execute_result"
    }
   ],
   "source": [
    "years"
   ]
  },
  {
   "cell_type": "markdown",
   "id": "30605c3a-6023-45fa-acb5-fb32bc5d2155",
   "metadata": {},
   "source": [
    "## Bar chart for numerical feature:"
   ]
  },
  {
   "cell_type": "code",
   "execution_count": 20,
   "id": "02cb7f1e-675c-40fb-a747-2ccae8503517",
   "metadata": {},
   "outputs": [
    {
     "data": {
      "image/png": "[encoded data removed]",
      "text/plain": [
       "<Figure size 640x480 with 1 Axes>"
      ]
     },
     "metadata": {},
     "output_type": "display_data"
    }
   ],
   "source": [
    "plt.bar(years.index, years)\n",
    "\n",
    "plt.xticks(range(2010, 2019))\n",
    "plt.yticks(range(0, 350, 100))\n",
    "plt.xlabel(\"year\")\n",
    "plt.ylabel(\"count\")\n",
    "plt.title(\"Number of harvested coffees by years\")\n",
    "plt.show()"
   ]
  },
  {
   "cell_type": "markdown",
   "id": "26ea33cd-afc1-429d-8a5f-af59c6910f44",
   "metadata": {},
   "source": [
    "## Line chart for numerical feature:"
   ]
  },
  {
   "cell_type": "markdown",
   "id": "ce00506a-1877-4be5-8838-0e832ac3fc17",
   "metadata": {},
   "source": [
    "It is used to visualize variables over time."
   ]
  },
  {
   "cell_type": "code",
   "execution_count": 21,
   "id": "0c91fbbe-f4c4-41ba-865d-e220c253914d",
   "metadata": {},
   "outputs": [
    {
     "data": {
      "text/plain": [
       "(2012, 354)"
      ]
     },
     "execution_count": 21,
     "metadata": {},
     "output_type": "execute_result"
    }
   ],
   "source": [
    "years.idxmax(), years.max()  # index of max value, max value"
   ]
  },
  {
   "cell_type": "code",
   "execution_count": 22,
   "id": "a3a8e731-573b-43d6-856a-9c796496f89d",
   "metadata": {},
   "outputs": [
    {
     "data": {
      "image/png": "[encoded data removed]",
      "text/plain": [
       "<Figure size 640x480 with 1 Axes>"
      ]
     },
     "metadata": {},
     "output_type": "display_data"
    }
   ],
   "source": [
    "plt.plot(years.index, years)\n",
    "\n",
    "plt.scatter(years.idxmax(), years.max(), marker = \"o\", color = \"r\") # dot on maximum value\n",
    "\n",
    "plt.annotate(\"max\", (years.idxmax() + 0.1, years.max()))\n",
    "\n",
    "plt.xlabel(\"year\")\n",
    "plt.ylabel(\"count\")\n",
    "plt.title(\"Number of harvested coffees by years\")\n",
    "plt.show()"
   ]
  },
  {
   "cell_type": "markdown",
   "id": "1d304fec-2165-4633-a7a4-3d7c897b6ed0",
   "metadata": {},
   "source": [
    "## Histogram for numerical feature:"
   ]
  },
  {
   "cell_type": "code",
   "execution_count": 52,
   "id": "813c82f5-5b29-438f-a1d9-0105a78fc114",
   "metadata": {},
   "outputs": [
    {
     "data": {
      "image/png": "[encoded data removed]",
      "text/plain": [
       "<Figure size 640x480 with 1 Axes>"
      ]
     },
     "metadata": {},
     "output_type": "display_data"
    }
   ],
   "source": [
    "plt.hist(coffee_data.aroma, bins = 50, label = \"aroma\", alpha = 0.7)\n",
    "plt.hist(coffee_data.flavor, bins = 50, label = \"flavor\", alpha = 0.7)\n",
    "plt.hist(coffee_data.balance, bins = 50, label = \"balance\", alpha = 0.7)\n",
    "\n",
    "plt.xlim(0, 10)\n",
    "\n",
    "plt.xlabel(\"rating\")\n",
    "plt.ylabel(\"frequency\")\n",
    "plt.legend()\n",
    "plt.show()"
   ]
  },
  {
   "cell_type": "code",
   "execution_count": 24,
   "id": "7c4193ec-85ee-4bd4-bb46-e57097e74613",
   "metadata": {},
   "outputs": [
    {
     "data": {
      "text/html": [
       "<div>\n",
       "<style scoped>\n",
       "    .dataframe tbody tr th:only-of-type {\n",
       "        vertical-align: middle;\n",
       "    }\n",
       "\n",
       "    .dataframe tbody tr th {\n",
       "        vertical-align: top;\n",
       "    }\n",
       "\n",
       "    .dataframe thead th {\n",
       "        text-align: right;\n",
       "    }\n",
       "</style>\n",
       "<table border=\"1\" class=\"dataframe\">\n",
       "  <thead>\n",
       "    <tr style=\"text-align: right;\">\n",
       "      <th></th>\n",
       "      <th>species</th>\n",
       "      <th>owner</th>\n",
       "      <th>company</th>\n",
       "      <th>country_of_origin</th>\n",
       "      <th>balance</th>\n",
       "      <th>aroma</th>\n",
       "      <th>flavor</th>\n",
       "    </tr>\n",
       "  </thead>\n",
       "  <tbody>\n",
       "    <tr>\n",
       "      <th>1310</th>\n",
       "      <td>Arabica</td>\n",
       "      <td>bismarck castro</td>\n",
       "      <td>cigrah s.a de c.v</td>\n",
       "      <td>Honduras</td>\n",
       "      <td>0.00</td>\n",
       "      <td>0.0</td>\n",
       "      <td>0.00</td>\n",
       "    </tr>\n",
       "    <tr>\n",
       "      <th>1335</th>\n",
       "      <td>Robusta</td>\n",
       "      <td>luis robles</td>\n",
       "      <td>robustasa</td>\n",
       "      <td>Ecuador</td>\n",
       "      <td>5.25</td>\n",
       "      <td>7.5</td>\n",
       "      <td>7.67</td>\n",
       "    </tr>\n",
       "  </tbody>\n",
       "</table>\n",
       "</div>"
      ],
      "text/plain": [
       "      species            owner            company country_of_origin  balance  \\\n",
       "1310  Arabica  bismarck castro  cigrah s.a de c.v          Honduras     0.00   \n",
       "1335  Robusta      luis robles          robustasa           Ecuador     5.25   \n",
       "\n",
       "      aroma  flavor  \n",
       "1310    0.0    0.00  \n",
       "1335    7.5    7.67  "
      ]
     },
     "execution_count": 24,
     "metadata": {},
     "output_type": "execute_result"
    }
   ],
   "source": [
    "coffee_data.loc[coffee_data.balance < 6, [\"species\", \"owner\",\"company\", \"country_of_origin\", \"balance\", \"aroma\", \"flavor\"]]"
   ]
  },
  {
   "cell_type": "code",
   "execution_count": 25,
   "id": "f28e19d6-387b-49be-871a-1d1d52257ba9",
   "metadata": {},
   "outputs": [
    {
     "data": {
      "text/plain": [
       "5.25"
      ]
     },
     "execution_count": 25,
     "metadata": {},
     "output_type": "execute_result"
    }
   ],
   "source": [
    "coffee_data[coffee_data.balance > 0].balance.min() # smallest balance value > 0"
   ]
  },
  {
   "cell_type": "code",
   "execution_count": 26,
   "id": "f2d022a5-1e85-4852-8181-58d779022113",
   "metadata": {},
   "outputs": [
    {
     "data": {
      "text/html": [
       "<div>\n",
       "<style scoped>\n",
       "    .dataframe tbody tr th:only-of-type {\n",
       "        vertical-align: middle;\n",
       "    }\n",
       "\n",
       "    .dataframe tbody tr th {\n",
       "        vertical-align: top;\n",
       "    }\n",
       "\n",
       "    .dataframe thead th {\n",
       "        text-align: right;\n",
       "    }\n",
       "</style>\n",
       "<table border=\"1\" class=\"dataframe\">\n",
       "  <thead>\n",
       "    <tr style=\"text-align: right;\">\n",
       "      <th></th>\n",
       "      <th>species</th>\n",
       "      <th>owner</th>\n",
       "      <th>company</th>\n",
       "      <th>country_of_origin</th>\n",
       "      <th>balance</th>\n",
       "      <th>aroma</th>\n",
       "      <th>flavor</th>\n",
       "    </tr>\n",
       "  </thead>\n",
       "  <tbody>\n",
       "    <tr>\n",
       "      <th>1335</th>\n",
       "      <td>Robusta</td>\n",
       "      <td>luis robles</td>\n",
       "      <td>robustasa</td>\n",
       "      <td>Ecuador</td>\n",
       "      <td>5.25</td>\n",
       "      <td>7.50</td>\n",
       "      <td>7.67</td>\n",
       "    </tr>\n",
       "    <tr>\n",
       "      <th>1308</th>\n",
       "      <td>Arabica</td>\n",
       "      <td>exportadora atlantic, s.a.</td>\n",
       "      <td>exportadora atlantic s.a</td>\n",
       "      <td>Nicaragua</td>\n",
       "      <td>6.08</td>\n",
       "      <td>7.25</td>\n",
       "      <td>6.58</td>\n",
       "    </tr>\n",
       "    <tr>\n",
       "      <th>1303</th>\n",
       "      <td>Arabica</td>\n",
       "      <td>cadexsa</td>\n",
       "      <td>cadexsa</td>\n",
       "      <td>Honduras</td>\n",
       "      <td>6.17</td>\n",
       "      <td>6.67</td>\n",
       "      <td>6.50</td>\n",
       "    </tr>\n",
       "    <tr>\n",
       "      <th>1304</th>\n",
       "      <td>Arabica</td>\n",
       "      <td>cadexsa</td>\n",
       "      <td>cadexsa</td>\n",
       "      <td>Honduras</td>\n",
       "      <td>6.17</td>\n",
       "      <td>7.00</td>\n",
       "      <td>6.17</td>\n",
       "    </tr>\n",
       "    <tr>\n",
       "      <th>1305</th>\n",
       "      <td>Arabica</td>\n",
       "      <td>cadexsa</td>\n",
       "      <td>cadexsa</td>\n",
       "      <td>Honduras</td>\n",
       "      <td>6.17</td>\n",
       "      <td>7.00</td>\n",
       "      <td>6.33</td>\n",
       "    </tr>\n",
       "  </tbody>\n",
       "</table>\n",
       "</div>"
      ],
      "text/plain": [
       "      species                       owner                   company  \\\n",
       "1335  Robusta                 luis robles                 robustasa   \n",
       "1308  Arabica  exportadora atlantic, s.a.  exportadora atlantic s.a   \n",
       "1303  Arabica                     cadexsa                   cadexsa   \n",
       "1304  Arabica                     cadexsa                   cadexsa   \n",
       "1305  Arabica                     cadexsa                   cadexsa   \n",
       "\n",
       "     country_of_origin  balance  aroma  flavor  \n",
       "1335           Ecuador     5.25   7.50    7.67  \n",
       "1308         Nicaragua     6.08   7.25    6.58  \n",
       "1303          Honduras     6.17   6.67    6.50  \n",
       "1304          Honduras     6.17   7.00    6.17  \n",
       "1305          Honduras     6.17   7.00    6.33  "
      ]
     },
     "execution_count": 26,
     "metadata": {},
     "output_type": "execute_result"
    }
   ],
   "source": [
    "# 5 smallest balance values > 0\n",
    "coffee_data[coffee_data.balance > 0].nsmallest(5, \"balance\")[[\"species\", \"owner\",\"company\", \"country_of_origin\", \"balance\", \"aroma\", \"flavor\"]]"
   ]
  },
  {
   "cell_type": "markdown",
   "id": "9ac70add-9ed6-4c93-9643-1219b3847d55",
   "metadata": {},
   "source": [
    "## Bar chart for categorical feature:"
   ]
  },
  {
   "cell_type": "code",
   "execution_count": 27,
   "id": "d857c113-9563-4404-9f28-5cc793d8f805",
   "metadata": {},
   "outputs": [
    {
     "data": {
      "text/plain": [
       "owner\n",
       "juan luis alvarado romero           155\n",
       "racafe & cia s.c.a                   60\n",
       "exportadora de cafe condor s.a       54\n",
       "kona pacific farmers cooperative     52\n",
       "ipanema coffees                      50\n",
       "                                   ... \n",
       "alvaro quiros perez                   1\n",
       "olivia hernandez virves               1\n",
       "finca las nieves                      1\n",
       "pedro santos e silva                  1\n",
       "james moore                           1\n",
       "Name: count, Length: 315, dtype: int64"
      ]
     },
     "execution_count": 27,
     "metadata": {},
     "output_type": "execute_result"
    }
   ],
   "source": [
    "coffee_data.owner.value_counts() # group owner by coffee count "
   ]
  },
  {
   "cell_type": "code",
   "execution_count": 28,
   "id": "7e8b58aa-35e9-4aa6-8d68-474c73352b9b",
   "metadata": {},
   "outputs": [],
   "source": [
    "one_coffee_owners = coffee_data.owner.value_counts() == 1 # owners with one coffee"
   ]
  },
  {
   "cell_type": "code",
   "execution_count": 29,
   "id": "ca11d489-afd7-4e53-bc83-5d43c1696fb7",
   "metadata": {},
   "outputs": [
    {
     "data": {
      "text/plain": [
       "owner\n",
       "juan luis alvarado romero           False\n",
       "racafe & cia s.c.a                  False\n",
       "exportadora de cafe condor s.a      False\n",
       "kona pacific farmers cooperative    False\n",
       "ipanema coffees                     False\n",
       "                                    ...  \n",
       "alvaro quiros perez                  True\n",
       "olivia hernandez virves              True\n",
       "finca las nieves                     True\n",
       "pedro santos e silva                 True\n",
       "james moore                          True\n",
       "Name: count, Length: 315, dtype: bool"
      ]
     },
     "execution_count": 29,
     "metadata": {},
     "output_type": "execute_result"
    }
   ],
   "source": [
    "one_coffee_owners"
   ]
  },
  {
   "cell_type": "code",
   "execution_count": 30,
   "id": "f16bb4af-ff7d-49fa-b836-9b032170c978",
   "metadata": {},
   "outputs": [
    {
     "data": {
      "text/plain": [
       "owner\n",
       "gonzalo hernandez                                     True\n",
       "ibrahim hussien speciality coffee producer &export    True\n",
       "case noyale ltd                                       True\n",
       "shwe yin mar coffee                                   True\n",
       "francisco a mena                                      True\n",
       "                                                      ... \n",
       "alvaro quiros perez                                   True\n",
       "olivia hernandez virves                               True\n",
       "finca las nieves                                      True\n",
       "pedro santos e silva                                  True\n",
       "james moore                                           True\n",
       "Name: count, Length: 172, dtype: bool"
      ]
     },
     "execution_count": 30,
     "metadata": {},
     "output_type": "execute_result"
    }
   ],
   "source": [
    "one_coffee_owners[one_coffee_owners] # get owners with only one coffee"
   ]
  },
  {
   "cell_type": "code",
   "execution_count": 31,
   "id": "f0911e6d-f093-4701-80ab-aba1906b44f6",
   "metadata": {},
   "outputs": [],
   "source": [
    "# names of the owners with only one coffee (names are in the index)\n",
    "one_coffee_owners_names = one_coffee_owners[one_coffee_owners].index"
   ]
  },
  {
   "cell_type": "code",
   "execution_count": 32,
   "id": "da051d12-cf79-4012-a224-19bf1608b270",
   "metadata": {},
   "outputs": [
    {
     "data": {
      "text/plain": [
       "Index(['gonzalo hernandez',\n",
       "       'ibrahim hussien speciality coffee producer &export', 'case noyale ltd',\n",
       "       'shwe yin mar coffee', 'francisco a mena', 'u htun htun',\n",
       "       'hider abamecha', 'bob mccauley', 'delfina leon shine',\n",
       "       'kongoni estate',\n",
       "       ...\n",
       "       'michael gavina', 'brian beck', 'gladness obed pallangyo',\n",
       "       'dario cesar galeana sanchez', 'jose daniel cobilt castro',\n",
       "       'alvaro quiros perez', 'olivia hernandez virves', 'finca las nieves',\n",
       "       'pedro santos e silva', 'james moore'],\n",
       "      dtype='object', name='owner', length=172)"
      ]
     },
     "execution_count": 32,
     "metadata": {},
     "output_type": "execute_result"
    }
   ],
   "source": [
    "one_coffee_owners_names"
   ]
  },
  {
   "cell_type": "code",
   "execution_count": 33,
   "id": "6f363a1c-b42c-46b8-b8ae-8ced2f7a0874",
   "metadata": {},
   "outputs": [
    {
     "data": {
      "text/html": [
       "<div>\n",
       "<style scoped>\n",
       "    .dataframe tbody tr th:only-of-type {\n",
       "        vertical-align: middle;\n",
       "    }\n",
       "\n",
       "    .dataframe tbody tr th {\n",
       "        vertical-align: top;\n",
       "    }\n",
       "\n",
       "    .dataframe thead th {\n",
       "        text-align: right;\n",
       "    }\n",
       "</style>\n",
       "<table border=\"1\" class=\"dataframe\">\n",
       "  <thead>\n",
       "    <tr style=\"text-align: right;\">\n",
       "      <th></th>\n",
       "      <th>species</th>\n",
       "      <th>owner</th>\n",
       "      <th>country_of_origin</th>\n",
       "      <th>farm_name</th>\n",
       "      <th>lot_number</th>\n",
       "      <th>mill</th>\n",
       "      <th>ico_number</th>\n",
       "      <th>company</th>\n",
       "      <th>altitude</th>\n",
       "      <th>region</th>\n",
       "      <th>...</th>\n",
       "      <th>color</th>\n",
       "      <th>category_two_defects</th>\n",
       "      <th>expiration</th>\n",
       "      <th>certification_body</th>\n",
       "      <th>certification_address</th>\n",
       "      <th>certification_contact</th>\n",
       "      <th>unit_of_measurement</th>\n",
       "      <th>altitude_low_meters</th>\n",
       "      <th>altitude_high_meters</th>\n",
       "      <th>altitude_mean_meters</th>\n",
       "    </tr>\n",
       "  </thead>\n",
       "  <tbody>\n",
       "    <tr>\n",
       "      <th>3</th>\n",
       "      <td>Arabica</td>\n",
       "      <td>yidnekachew dabessa</td>\n",
       "      <td>Ethiopia</td>\n",
       "      <td>yidnekachew dabessa coffee plantation</td>\n",
       "      <td>NaN</td>\n",
       "      <td>wolensu</td>\n",
       "      <td>NaN</td>\n",
       "      <td>yidnekachew debessa coffee plantation</td>\n",
       "      <td>1800-2200</td>\n",
       "      <td>oromia</td>\n",
       "      <td>...</td>\n",
       "      <td>Green</td>\n",
       "      <td>2</td>\n",
       "      <td>March 25th, 2016</td>\n",
       "      <td>METAD Agricultural Development plc</td>\n",
       "      <td>309fcf77415a3661ae83e027f7e5f05dad786e44</td>\n",
       "      <td>19fef5a731de2db57d16da10287413f5f99bc2dd</td>\n",
       "      <td>m</td>\n",
       "      <td>1800.0</td>\n",
       "      <td>2200.0</td>\n",
       "      <td>2000.0</td>\n",
       "    </tr>\n",
       "    <tr>\n",
       "      <th>6</th>\n",
       "      <td>Arabica</td>\n",
       "      <td>hugo valdivia</td>\n",
       "      <td>Peru</td>\n",
       "      <td>NaN</td>\n",
       "      <td>NaN</td>\n",
       "      <td>hvc</td>\n",
       "      <td>NaN</td>\n",
       "      <td>richmond investment-coffee department</td>\n",
       "      <td>NaN</td>\n",
       "      <td>NaN</td>\n",
       "      <td>...</td>\n",
       "      <td>Bluish-Green</td>\n",
       "      <td>0</td>\n",
       "      <td>September 17th, 2013</td>\n",
       "      <td>Specialty Coffee Institute of Asia</td>\n",
       "      <td>726e4891cf2c9a4848768bd34b668124d12c4224</td>\n",
       "      <td>b70da261fcc84831e3e9620c30a8701540abc200</td>\n",
       "      <td>m</td>\n",
       "      <td>NaN</td>\n",
       "      <td>NaN</td>\n",
       "      <td>NaN</td>\n",
       "    </tr>\n",
       "    <tr>\n",
       "      <th>9</th>\n",
       "      <td>Arabica</td>\n",
       "      <td>diamond enterprise plc</td>\n",
       "      <td>Ethiopia</td>\n",
       "      <td>tulla coffee farm</td>\n",
       "      <td>NaN</td>\n",
       "      <td>tulla coffee farm</td>\n",
       "      <td>2014/15</td>\n",
       "      <td>diamond enterprise plc</td>\n",
       "      <td>1795-1850</td>\n",
       "      <td>snnp/kaffa zone,gimbowereda</td>\n",
       "      <td>...</td>\n",
       "      <td>Green</td>\n",
       "      <td>4</td>\n",
       "      <td>March 29th, 2016</td>\n",
       "      <td>METAD Agricultural Development plc</td>\n",
       "      <td>309fcf77415a3661ae83e027f7e5f05dad786e44</td>\n",
       "      <td>19fef5a731de2db57d16da10287413f5f99bc2dd</td>\n",
       "      <td>m</td>\n",
       "      <td>1795.0</td>\n",
       "      <td>1850.0</td>\n",
       "      <td>1822.5</td>\n",
       "    </tr>\n",
       "    <tr>\n",
       "      <th>10</th>\n",
       "      <td>Arabica</td>\n",
       "      <td>mohammed lalo</td>\n",
       "      <td>Ethiopia</td>\n",
       "      <td>fahem coffee plantation</td>\n",
       "      <td>NaN</td>\n",
       "      <td>NaN</td>\n",
       "      <td>NaN</td>\n",
       "      <td>fahem coffee plantation</td>\n",
       "      <td>1855-1955</td>\n",
       "      <td>oromia</td>\n",
       "      <td>...</td>\n",
       "      <td>NaN</td>\n",
       "      <td>1</td>\n",
       "      <td>March 26th, 2016</td>\n",
       "      <td>METAD Agricultural Development plc</td>\n",
       "      <td>309fcf77415a3661ae83e027f7e5f05dad786e44</td>\n",
       "      <td>19fef5a731de2db57d16da10287413f5f99bc2dd</td>\n",
       "      <td>m</td>\n",
       "      <td>1855.0</td>\n",
       "      <td>1955.0</td>\n",
       "      <td>1905.0</td>\n",
       "    </tr>\n",
       "    <tr>\n",
       "      <th>22</th>\n",
       "      <td>Arabica</td>\n",
       "      <td>roberto licona franco</td>\n",
       "      <td>Mexico</td>\n",
       "      <td>la herradura</td>\n",
       "      <td>NaN</td>\n",
       "      <td>la herradura</td>\n",
       "      <td>0</td>\n",
       "      <td>NaN</td>\n",
       "      <td>1320</td>\n",
       "      <td>xalapa</td>\n",
       "      <td>...</td>\n",
       "      <td>Green</td>\n",
       "      <td>0</td>\n",
       "      <td>July 26th, 2013</td>\n",
       "      <td>AMECAFE</td>\n",
       "      <td>59e396ad6e22a1c22b248f958e1da2bd8af85272</td>\n",
       "      <td>0eb4ee5b3f47b20b049548a2fd1e7d4a2b70d0a7</td>\n",
       "      <td>m</td>\n",
       "      <td>1320.0</td>\n",
       "      <td>1320.0</td>\n",
       "      <td>1320.0</td>\n",
       "    </tr>\n",
       "    <tr>\n",
       "      <th>...</th>\n",
       "      <td>...</td>\n",
       "      <td>...</td>\n",
       "      <td>...</td>\n",
       "      <td>...</td>\n",
       "      <td>...</td>\n",
       "      <td>...</td>\n",
       "      <td>...</td>\n",
       "      <td>...</td>\n",
       "      <td>...</td>\n",
       "      <td>...</td>\n",
       "      <td>...</td>\n",
       "      <td>...</td>\n",
       "      <td>...</td>\n",
       "      <td>...</td>\n",
       "      <td>...</td>\n",
       "      <td>...</td>\n",
       "      <td>...</td>\n",
       "      <td>...</td>\n",
       "      <td>...</td>\n",
       "      <td>...</td>\n",
       "      <td>...</td>\n",
       "    </tr>\n",
       "    <tr>\n",
       "      <th>1315</th>\n",
       "      <td>Robusta</td>\n",
       "      <td>katuka development trust ltd</td>\n",
       "      <td>Uganda</td>\n",
       "      <td>katikamu capca farmers association</td>\n",
       "      <td>NaN</td>\n",
       "      <td>katuka development trust</td>\n",
       "      <td>0</td>\n",
       "      <td>katuka development trust ltd</td>\n",
       "      <td>1200-1300</td>\n",
       "      <td>luwero central region</td>\n",
       "      <td>...</td>\n",
       "      <td>Green</td>\n",
       "      <td>3</td>\n",
       "      <td>June 26th, 2015</td>\n",
       "      <td>Uganda Coffee Development Authority</td>\n",
       "      <td>e36d0270932c3b657e96b7b0278dfd85dc0fe743</td>\n",
       "      <td>03077a1c6bac60e6f514691634a7f6eb5c85aae8</td>\n",
       "      <td>m</td>\n",
       "      <td>1200.0</td>\n",
       "      <td>1300.0</td>\n",
       "      <td>1250.0</td>\n",
       "    </tr>\n",
       "    <tr>\n",
       "      <th>1324</th>\n",
       "      <td>Robusta</td>\n",
       "      <td>kasozi coffee farmers association</td>\n",
       "      <td>Uganda</td>\n",
       "      <td>kasozi coffee farmers</td>\n",
       "      <td>NaN</td>\n",
       "      <td>NaN</td>\n",
       "      <td>0</td>\n",
       "      <td>kasozi coffee farmers association</td>\n",
       "      <td>1367</td>\n",
       "      <td>eastern</td>\n",
       "      <td>...</td>\n",
       "      <td>Green</td>\n",
       "      <td>7</td>\n",
       "      <td>July 14th, 2015</td>\n",
       "      <td>Uganda Coffee Development Authority</td>\n",
       "      <td>e36d0270932c3b657e96b7b0278dfd85dc0fe743</td>\n",
       "      <td>03077a1c6bac60e6f514691634a7f6eb5c85aae8</td>\n",
       "      <td>m</td>\n",
       "      <td>1367.0</td>\n",
       "      <td>1367.0</td>\n",
       "      <td>1367.0</td>\n",
       "    </tr>\n",
       "    <tr>\n",
       "      <th>1329</th>\n",
       "      <td>Robusta</td>\n",
       "      <td>nitubaasa ltd</td>\n",
       "      <td>Uganda</td>\n",
       "      <td>kigezi coffee farmers association</td>\n",
       "      <td>NaN</td>\n",
       "      <td>nitubaasa</td>\n",
       "      <td>0</td>\n",
       "      <td>nitubaasa ltd</td>\n",
       "      <td>1745</td>\n",
       "      <td>western</td>\n",
       "      <td>...</td>\n",
       "      <td>Green</td>\n",
       "      <td>2</td>\n",
       "      <td>June 27th, 2015</td>\n",
       "      <td>Uganda Coffee Development Authority</td>\n",
       "      <td>e36d0270932c3b657e96b7b0278dfd85dc0fe743</td>\n",
       "      <td>03077a1c6bac60e6f514691634a7f6eb5c85aae8</td>\n",
       "      <td>m</td>\n",
       "      <td>1745.0</td>\n",
       "      <td>1745.0</td>\n",
       "      <td>1745.0</td>\n",
       "    </tr>\n",
       "    <tr>\n",
       "      <th>1330</th>\n",
       "      <td>Robusta</td>\n",
       "      <td>mannya coffee project</td>\n",
       "      <td>Uganda</td>\n",
       "      <td>mannya coffee project</td>\n",
       "      <td>NaN</td>\n",
       "      <td>mannya coffee project</td>\n",
       "      <td>0</td>\n",
       "      <td>mannya coffee project</td>\n",
       "      <td>1200</td>\n",
       "      <td>southern</td>\n",
       "      <td>...</td>\n",
       "      <td>Green</td>\n",
       "      <td>1</td>\n",
       "      <td>June 27th, 2015</td>\n",
       "      <td>Uganda Coffee Development Authority</td>\n",
       "      <td>e36d0270932c3b657e96b7b0278dfd85dc0fe743</td>\n",
       "      <td>03077a1c6bac60e6f514691634a7f6eb5c85aae8</td>\n",
       "      <td>m</td>\n",
       "      <td>1200.0</td>\n",
       "      <td>1200.0</td>\n",
       "      <td>1200.0</td>\n",
       "    </tr>\n",
       "    <tr>\n",
       "      <th>1336</th>\n",
       "      <td>Robusta</td>\n",
       "      <td>james moore</td>\n",
       "      <td>United States</td>\n",
       "      <td>fazenda cazengo</td>\n",
       "      <td>NaN</td>\n",
       "      <td>cafe cazengo</td>\n",
       "      <td>NaN</td>\n",
       "      <td>global opportunity fund</td>\n",
       "      <td>795 meters</td>\n",
       "      <td>kwanza norte province, angola</td>\n",
       "      <td>...</td>\n",
       "      <td>NaN</td>\n",
       "      <td>6</td>\n",
       "      <td>December 23rd, 2015</td>\n",
       "      <td>Specialty Coffee Association</td>\n",
       "      <td>ff7c18ad303d4b603ac3f8cff7e611ffc735e720</td>\n",
       "      <td>352d0cf7f3e9be14dad7df644ad65efc27605ae2</td>\n",
       "      <td>m</td>\n",
       "      <td>795.0</td>\n",
       "      <td>795.0</td>\n",
       "      <td>795.0</td>\n",
       "    </tr>\n",
       "  </tbody>\n",
       "</table>\n",
       "<p>172 rows × 43 columns</p>\n",
       "</div>"
      ],
      "text/plain": [
       "      species                              owner country_of_origin  \\\n",
       "3     Arabica                yidnekachew dabessa          Ethiopia   \n",
       "6     Arabica                      hugo valdivia              Peru   \n",
       "9     Arabica             diamond enterprise plc          Ethiopia   \n",
       "10    Arabica                      mohammed lalo          Ethiopia   \n",
       "22    Arabica              roberto licona franco            Mexico   \n",
       "...       ...                                ...               ...   \n",
       "1315  Robusta       katuka development trust ltd            Uganda   \n",
       "1324  Robusta  kasozi coffee farmers association            Uganda   \n",
       "1329  Robusta                      nitubaasa ltd            Uganda   \n",
       "1330  Robusta              mannya coffee project            Uganda   \n",
       "1336  Robusta                        james moore     United States   \n",
       "\n",
       "                                  farm_name lot_number  \\\n",
       "3     yidnekachew dabessa coffee plantation        NaN   \n",
       "6                                       NaN        NaN   \n",
       "9                         tulla coffee farm        NaN   \n",
       "10                  fahem coffee plantation        NaN   \n",
       "22                             la herradura        NaN   \n",
       "...                                     ...        ...   \n",
       "1315     katikamu capca farmers association        NaN   \n",
       "1324                  kasozi coffee farmers        NaN   \n",
       "1329      kigezi coffee farmers association        NaN   \n",
       "1330                  mannya coffee project        NaN   \n",
       "1336                        fazenda cazengo        NaN   \n",
       "\n",
       "                          mill ico_number  \\\n",
       "3                      wolensu        NaN   \n",
       "6                          hvc        NaN   \n",
       "9            tulla coffee farm    2014/15   \n",
       "10                         NaN        NaN   \n",
       "22                la herradura          0   \n",
       "...                        ...        ...   \n",
       "1315  katuka development trust          0   \n",
       "1324                       NaN          0   \n",
       "1329                 nitubaasa          0   \n",
       "1330     mannya coffee project          0   \n",
       "1336              cafe cazengo        NaN   \n",
       "\n",
       "                                    company    altitude  \\\n",
       "3     yidnekachew debessa coffee plantation   1800-2200   \n",
       "6     richmond investment-coffee department         NaN   \n",
       "9                    diamond enterprise plc   1795-1850   \n",
       "10                  fahem coffee plantation   1855-1955   \n",
       "22                                      NaN        1320   \n",
       "...                                     ...         ...   \n",
       "1315           katuka development trust ltd   1200-1300   \n",
       "1324      kasozi coffee farmers association        1367   \n",
       "1329                          nitubaasa ltd        1745   \n",
       "1330                  mannya coffee project        1200   \n",
       "1336                global opportunity fund  795 meters   \n",
       "\n",
       "                             region  ...         color  category_two_defects  \\\n",
       "3                            oromia  ...         Green                     2   \n",
       "6                               NaN  ...  Bluish-Green                     0   \n",
       "9       snnp/kaffa zone,gimbowereda  ...         Green                     4   \n",
       "10                           oromia  ...           NaN                     1   \n",
       "22                           xalapa  ...         Green                     0   \n",
       "...                             ...  ...           ...                   ...   \n",
       "1315          luwero central region  ...         Green                     3   \n",
       "1324                        eastern  ...         Green                     7   \n",
       "1329                        western  ...         Green                     2   \n",
       "1330                       southern  ...         Green                     1   \n",
       "1336  kwanza norte province, angola  ...           NaN                     6   \n",
       "\n",
       "                expiration                   certification_body  \\\n",
       "3         March 25th, 2016   METAD Agricultural Development plc   \n",
       "6     September 17th, 2013   Specialty Coffee Institute of Asia   \n",
       "9         March 29th, 2016   METAD Agricultural Development plc   \n",
       "10        March 26th, 2016   METAD Agricultural Development plc   \n",
       "22         July 26th, 2013                              AMECAFE   \n",
       "...                    ...                                  ...   \n",
       "1315       June 26th, 2015  Uganda Coffee Development Authority   \n",
       "1324       July 14th, 2015  Uganda Coffee Development Authority   \n",
       "1329       June 27th, 2015  Uganda Coffee Development Authority   \n",
       "1330       June 27th, 2015  Uganda Coffee Development Authority   \n",
       "1336   December 23rd, 2015         Specialty Coffee Association   \n",
       "\n",
       "                         certification_address  \\\n",
       "3     309fcf77415a3661ae83e027f7e5f05dad786e44   \n",
       "6     726e4891cf2c9a4848768bd34b668124d12c4224   \n",
       "9     309fcf77415a3661ae83e027f7e5f05dad786e44   \n",
       "10    309fcf77415a3661ae83e027f7e5f05dad786e44   \n",
       "22    59e396ad6e22a1c22b248f958e1da2bd8af85272   \n",
       "...                                        ...   \n",
       "1315  e36d0270932c3b657e96b7b0278dfd85dc0fe743   \n",
       "1324  e36d0270932c3b657e96b7b0278dfd85dc0fe743   \n",
       "1329  e36d0270932c3b657e96b7b0278dfd85dc0fe743   \n",
       "1330  e36d0270932c3b657e96b7b0278dfd85dc0fe743   \n",
       "1336  ff7c18ad303d4b603ac3f8cff7e611ffc735e720   \n",
       "\n",
       "                         certification_contact unit_of_measurement  \\\n",
       "3     19fef5a731de2db57d16da10287413f5f99bc2dd                   m   \n",
       "6     b70da261fcc84831e3e9620c30a8701540abc200                   m   \n",
       "9     19fef5a731de2db57d16da10287413f5f99bc2dd                   m   \n",
       "10    19fef5a731de2db57d16da10287413f5f99bc2dd                   m   \n",
       "22    0eb4ee5b3f47b20b049548a2fd1e7d4a2b70d0a7                   m   \n",
       "...                                        ...                 ...   \n",
       "1315  03077a1c6bac60e6f514691634a7f6eb5c85aae8                   m   \n",
       "1324  03077a1c6bac60e6f514691634a7f6eb5c85aae8                   m   \n",
       "1329  03077a1c6bac60e6f514691634a7f6eb5c85aae8                   m   \n",
       "1330  03077a1c6bac60e6f514691634a7f6eb5c85aae8                   m   \n",
       "1336  352d0cf7f3e9be14dad7df644ad65efc27605ae2                   m   \n",
       "\n",
       "     altitude_low_meters altitude_high_meters  altitude_mean_meters  \n",
       "3                 1800.0               2200.0                2000.0  \n",
       "6                    NaN                  NaN                   NaN  \n",
       "9                 1795.0               1850.0                1822.5  \n",
       "10                1855.0               1955.0                1905.0  \n",
       "22                1320.0               1320.0                1320.0  \n",
       "...                  ...                  ...                   ...  \n",
       "1315              1200.0               1300.0                1250.0  \n",
       "1324              1367.0               1367.0                1367.0  \n",
       "1329              1745.0               1745.0                1745.0  \n",
       "1330              1200.0               1200.0                1200.0  \n",
       "1336               795.0                795.0                 795.0  \n",
       "\n",
       "[172 rows x 43 columns]"
      ]
     },
     "execution_count": 33,
     "metadata": {},
     "output_type": "execute_result"
    }
   ],
   "source": [
    "# returns entries whose owner has only one coffee:\n",
    "coffee_data[coffee_data.owner.isin(one_coffee_owners_names)]"
   ]
  },
  {
   "cell_type": "code",
   "execution_count": 34,
   "id": "d036afc1-4157-4939-8a39-53850792a594",
   "metadata": {},
   "outputs": [],
   "source": [
    "# return countries of entries whose owner has only one coffee:\n",
    "countries_one_coffee_owners = coffee_data[coffee_data.owner.isin(one_coffee_owners_names)][\"country_of_origin\"]"
   ]
  },
  {
   "cell_type": "code",
   "execution_count": 35,
   "id": "c415bd55-e22b-49ec-a293-2de2b3e7dc73",
   "metadata": {},
   "outputs": [],
   "source": [
    "# count the number of times each country occurs in all entries where the owner has 1 coffee:\n",
    "countries_one_coffee_owners = countries_one_coffee_owners.value_counts()"
   ]
  },
  {
   "cell_type": "markdown",
   "id": "4c8882b7-57a5-4de5-9834-66f31df4a915",
   "metadata": {},
   "source": [
    "## Pie chart for categorical feature:"
   ]
  },
  {
   "cell_type": "code",
   "execution_count": 36,
   "id": "7765f2fe-3cf0-4378-a1b5-6aa3343569fd",
   "metadata": {},
   "outputs": [
    {
     "data": {
      "image/png": "[encoded data removed]",
      "text/plain": [
       "<Figure size 1000x800 with 1 Axes>"
      ]
     },
     "metadata": {},
     "output_type": "display_data"
    }
   ],
   "source": [
    "plt.figure(figsize=(10, 8))\n",
    "plt.pie(countries_one_coffee_owners, labels = countries_one_coffee_owners.index, autopct=\"%.2f%%\")\n",
    "plt.title(\"Mexico has nearly 40% of small coffee farms.\")\n",
    "plt.show()"
   ]
  },
  {
   "cell_type": "markdown",
   "id": "059b31cb-076f-4c58-80ac-682b4a04e64a",
   "metadata": {},
   "source": [
    "Mexico has many owners ~40% who produced only one coffee."
   ]
  },
  {
   "cell_type": "code",
   "execution_count": 37,
   "id": "76e9aa7e-f44d-4b61-b8d7-689e9a217677",
   "metadata": {},
   "outputs": [
    {
     "data": {
      "text/plain": [
       "country_of_origin\n",
       "Guatemala                       181\n",
       "Colombia                        177\n",
       "Mexico                          168\n",
       "Brazil                          125\n",
       "Taiwan                           74\n",
       "United States (Hawaii)           73\n",
       "Honduras                         51\n",
       "Costa Rica                       47\n",
       "Ethiopia                         34\n",
       "Thailand                         30\n",
       "Uganda                           26\n",
       "Kenya                            23\n",
       "Nicaragua                        22\n",
       "El Salvador                      21\n",
       "Tanzania, United Republic Of     16\n",
       "Indonesia                        15\n",
       "China                            14\n",
       "India                            14\n",
       "Malawi                           11\n",
       "United States                     8\n",
       "Vietnam                           8\n",
       "Peru                              7\n",
       "Haiti                             5\n",
       "United States (Puerto Rico)       4\n",
       "Philippines                       2\n",
       "Panama                            2\n",
       "Laos                              2\n",
       "Burundi                           2\n",
       "Ecuador                           2\n",
       "Zambia                            1\n",
       "Japan                             1\n",
       "Name: count, dtype: int64"
      ]
     },
     "execution_count": 37,
     "metadata": {},
     "output_type": "execute_result"
    }
   ],
   "source": [
    "coffee_data[~coffee_data.owner.isin(one_coffee_owners_names)][\"country_of_origin\"].value_counts()"
   ]
  },
  {
   "cell_type": "markdown",
   "id": "9e2b557f-0f29-49e7-97fb-256882d7a134",
   "metadata": {},
   "source": [
    "Mexico has many owners (168) who produced more than one coffee."
   ]
  },
  {
   "cell_type": "markdown",
   "id": "eac77906-8ee4-45db-83a5-779d18cbc13b",
   "metadata": {},
   "source": [
    "## Correlation analysis:"
   ]
  },
  {
   "cell_type": "code",
   "execution_count": 38,
   "id": "e60bd086-9fbc-46a2-8903-7ac6499f1da1",
   "metadata": {},
   "outputs": [],
   "source": [
    "rating_columns = ['aroma', 'flavor', 'aftertaste', 'acidity', 'body', 'balance', 'uniformity', 'clean_cup', 'sweetness']"
   ]
  },
  {
   "cell_type": "code",
   "execution_count": 39,
   "id": "efa52dff-c9bf-40f9-acf8-4eb96c2b8855",
   "metadata": {},
   "outputs": [
    {
     "data": {
      "text/html": [
       "<div>\n",
       "<style scoped>\n",
       "    .dataframe tbody tr th:only-of-type {\n",
       "        vertical-align: middle;\n",
       "    }\n",
       "\n",
       "    .dataframe tbody tr th {\n",
       "        vertical-align: top;\n",
       "    }\n",
       "\n",
       "    .dataframe thead th {\n",
       "        text-align: right;\n",
       "    }\n",
       "</style>\n",
       "<table border=\"1\" class=\"dataframe\">\n",
       "  <thead>\n",
       "    <tr style=\"text-align: right;\">\n",
       "      <th></th>\n",
       "      <th>aroma</th>\n",
       "      <th>flavor</th>\n",
       "      <th>aftertaste</th>\n",
       "      <th>acidity</th>\n",
       "      <th>body</th>\n",
       "      <th>balance</th>\n",
       "      <th>uniformity</th>\n",
       "      <th>clean_cup</th>\n",
       "      <th>sweetness</th>\n",
       "    </tr>\n",
       "  </thead>\n",
       "  <tbody>\n",
       "    <tr>\n",
       "      <th>aroma</th>\n",
       "      <td>1.000000</td>\n",
       "      <td>0.813259</td>\n",
       "      <td>0.777056</td>\n",
       "      <td>0.723582</td>\n",
       "      <td>0.673006</td>\n",
       "      <td>0.708634</td>\n",
       "      <td>0.366578</td>\n",
       "      <td>0.335684</td>\n",
       "      <td>0.253493</td>\n",
       "    </tr>\n",
       "    <tr>\n",
       "      <th>flavor</th>\n",
       "      <td>0.813259</td>\n",
       "      <td>1.000000</td>\n",
       "      <td>0.895672</td>\n",
       "      <td>0.816688</td>\n",
       "      <td>0.735720</td>\n",
       "      <td>0.792290</td>\n",
       "      <td>0.410923</td>\n",
       "      <td>0.396958</td>\n",
       "      <td>0.291065</td>\n",
       "    </tr>\n",
       "    <tr>\n",
       "      <th>aftertaste</th>\n",
       "      <td>0.777056</td>\n",
       "      <td>0.895672</td>\n",
       "      <td>1.000000</td>\n",
       "      <td>0.792255</td>\n",
       "      <td>0.734306</td>\n",
       "      <td>0.809639</td>\n",
       "      <td>0.401456</td>\n",
       "      <td>0.386665</td>\n",
       "      <td>0.266409</td>\n",
       "    </tr>\n",
       "    <tr>\n",
       "      <th>acidity</th>\n",
       "      <td>0.723582</td>\n",
       "      <td>0.816688</td>\n",
       "      <td>0.792255</td>\n",
       "      <td>1.000000</td>\n",
       "      <td>0.706435</td>\n",
       "      <td>0.733017</td>\n",
       "      <td>0.375383</td>\n",
       "      <td>0.300927</td>\n",
       "      <td>0.261854</td>\n",
       "    </tr>\n",
       "    <tr>\n",
       "      <th>body</th>\n",
       "      <td>0.673006</td>\n",
       "      <td>0.735720</td>\n",
       "      <td>0.734306</td>\n",
       "      <td>0.706435</td>\n",
       "      <td>1.000000</td>\n",
       "      <td>0.757597</td>\n",
       "      <td>0.326879</td>\n",
       "      <td>0.276587</td>\n",
       "      <td>0.268342</td>\n",
       "    </tr>\n",
       "    <tr>\n",
       "      <th>balance</th>\n",
       "      <td>0.708634</td>\n",
       "      <td>0.792290</td>\n",
       "      <td>0.809639</td>\n",
       "      <td>0.733017</td>\n",
       "      <td>0.757597</td>\n",
       "      <td>1.000000</td>\n",
       "      <td>0.400915</td>\n",
       "      <td>0.370341</td>\n",
       "      <td>0.283272</td>\n",
       "    </tr>\n",
       "    <tr>\n",
       "      <th>uniformity</th>\n",
       "      <td>0.366578</td>\n",
       "      <td>0.410923</td>\n",
       "      <td>0.401456</td>\n",
       "      <td>0.375383</td>\n",
       "      <td>0.326879</td>\n",
       "      <td>0.400915</td>\n",
       "      <td>1.000000</td>\n",
       "      <td>0.526219</td>\n",
       "      <td>0.451083</td>\n",
       "    </tr>\n",
       "    <tr>\n",
       "      <th>clean_cup</th>\n",
       "      <td>0.335684</td>\n",
       "      <td>0.396958</td>\n",
       "      <td>0.386665</td>\n",
       "      <td>0.300927</td>\n",
       "      <td>0.276587</td>\n",
       "      <td>0.370341</td>\n",
       "      <td>0.526219</td>\n",
       "      <td>1.000000</td>\n",
       "      <td>0.440644</td>\n",
       "    </tr>\n",
       "    <tr>\n",
       "      <th>sweetness</th>\n",
       "      <td>0.253493</td>\n",
       "      <td>0.291065</td>\n",
       "      <td>0.266409</td>\n",
       "      <td>0.261854</td>\n",
       "      <td>0.268342</td>\n",
       "      <td>0.283272</td>\n",
       "      <td>0.451083</td>\n",
       "      <td>0.440644</td>\n",
       "      <td>1.000000</td>\n",
       "    </tr>\n",
       "  </tbody>\n",
       "</table>\n",
       "</div>"
      ],
      "text/plain": [
       "               aroma    flavor  aftertaste   acidity      body   balance  \\\n",
       "aroma       1.000000  0.813259    0.777056  0.723582  0.673006  0.708634   \n",
       "flavor      0.813259  1.000000    0.895672  0.816688  0.735720  0.792290   \n",
       "aftertaste  0.777056  0.895672    1.000000  0.792255  0.734306  0.809639   \n",
       "acidity     0.723582  0.816688    0.792255  1.000000  0.706435  0.733017   \n",
       "body        0.673006  0.735720    0.734306  0.706435  1.000000  0.757597   \n",
       "balance     0.708634  0.792290    0.809639  0.733017  0.757597  1.000000   \n",
       "uniformity  0.366578  0.410923    0.401456  0.375383  0.326879  0.400915   \n",
       "clean_cup   0.335684  0.396958    0.386665  0.300927  0.276587  0.370341   \n",
       "sweetness   0.253493  0.291065    0.266409  0.261854  0.268342  0.283272   \n",
       "\n",
       "            uniformity  clean_cup  sweetness  \n",
       "aroma         0.366578   0.335684   0.253493  \n",
       "flavor        0.410923   0.396958   0.291065  \n",
       "aftertaste    0.401456   0.386665   0.266409  \n",
       "acidity       0.375383   0.300927   0.261854  \n",
       "body          0.326879   0.276587   0.268342  \n",
       "balance       0.400915   0.370341   0.283272  \n",
       "uniformity    1.000000   0.526219   0.451083  \n",
       "clean_cup     0.526219   1.000000   0.440644  \n",
       "sweetness     0.451083   0.440644   1.000000  "
      ]
     },
     "execution_count": 39,
     "metadata": {},
     "output_type": "execute_result"
    }
   ],
   "source": [
    "coffee_data[rating_columns].corr() # returns pearson correlation coefficient"
   ]
  },
  {
   "cell_type": "code",
   "execution_count": 40,
   "id": "fed1b846-d21a-4959-b489-36ce52d33190",
   "metadata": {},
   "outputs": [
    {
     "data": {
      "image/png": "[encoded data removed]",
      "text/plain": [
       "<Figure size 640x480 with 2 Axes>"
      ]
     },
     "metadata": {},
     "output_type": "display_data"
    }
   ],
   "source": [
    "sns.heatmap(coffee_data[rating_columns].corr(), annot = True, cmap = plt.cm.Blues) # plot correlation matrix\n",
    "plt.show()"
   ]
  },
  {
   "cell_type": "code",
   "execution_count": 41,
   "id": "2f5a78cf-9aa2-4c2b-b7ec-09eac8acb073",
   "metadata": {},
   "outputs": [
    {
     "data": {
      "text/html": [
       "<div>\n",
       "<style scoped>\n",
       "    .dataframe tbody tr th:only-of-type {\n",
       "        vertical-align: middle;\n",
       "    }\n",
       "\n",
       "    .dataframe tbody tr th {\n",
       "        vertical-align: top;\n",
       "    }\n",
       "\n",
       "    .dataframe thead th {\n",
       "        text-align: right;\n",
       "    }\n",
       "</style>\n",
       "<table border=\"1\" class=\"dataframe\">\n",
       "  <thead>\n",
       "    <tr style=\"text-align: right;\">\n",
       "      <th></th>\n",
       "      <th>aroma</th>\n",
       "      <th>flavor</th>\n",
       "      <th>aftertaste</th>\n",
       "      <th>acidity</th>\n",
       "      <th>body</th>\n",
       "      <th>balance</th>\n",
       "      <th>uniformity</th>\n",
       "      <th>clean_cup</th>\n",
       "      <th>sweetness</th>\n",
       "    </tr>\n",
       "  </thead>\n",
       "  <tbody>\n",
       "    <tr>\n",
       "      <th>aroma</th>\n",
       "      <td>1.000000</td>\n",
       "      <td>0.715414</td>\n",
       "      <td>0.668453</td>\n",
       "      <td>0.614898</td>\n",
       "      <td>0.561393</td>\n",
       "      <td>0.615313</td>\n",
       "      <td>0.121619</td>\n",
       "      <td>0.169010</td>\n",
       "      <td>-0.014172</td>\n",
       "    </tr>\n",
       "    <tr>\n",
       "      <th>flavor</th>\n",
       "      <td>0.715414</td>\n",
       "      <td>1.000000</td>\n",
       "      <td>0.809152</td>\n",
       "      <td>0.744695</td>\n",
       "      <td>0.670422</td>\n",
       "      <td>0.725580</td>\n",
       "      <td>0.168478</td>\n",
       "      <td>0.206467</td>\n",
       "      <td>0.010144</td>\n",
       "    </tr>\n",
       "    <tr>\n",
       "      <th>aftertaste</th>\n",
       "      <td>0.668453</td>\n",
       "      <td>0.809152</td>\n",
       "      <td>1.000000</td>\n",
       "      <td>0.697735</td>\n",
       "      <td>0.678106</td>\n",
       "      <td>0.753583</td>\n",
       "      <td>0.167086</td>\n",
       "      <td>0.185766</td>\n",
       "      <td>-0.022423</td>\n",
       "    </tr>\n",
       "    <tr>\n",
       "      <th>acidity</th>\n",
       "      <td>0.614898</td>\n",
       "      <td>0.744695</td>\n",
       "      <td>0.697735</td>\n",
       "      <td>1.000000</td>\n",
       "      <td>0.617025</td>\n",
       "      <td>0.661565</td>\n",
       "      <td>0.114920</td>\n",
       "      <td>0.118772</td>\n",
       "      <td>-0.023225</td>\n",
       "    </tr>\n",
       "    <tr>\n",
       "      <th>body</th>\n",
       "      <td>0.561393</td>\n",
       "      <td>0.670422</td>\n",
       "      <td>0.678106</td>\n",
       "      <td>0.617025</td>\n",
       "      <td>1.000000</td>\n",
       "      <td>0.698753</td>\n",
       "      <td>0.044112</td>\n",
       "      <td>0.081132</td>\n",
       "      <td>-0.090430</td>\n",
       "    </tr>\n",
       "    <tr>\n",
       "      <th>balance</th>\n",
       "      <td>0.615313</td>\n",
       "      <td>0.725580</td>\n",
       "      <td>0.753583</td>\n",
       "      <td>0.661565</td>\n",
       "      <td>0.698753</td>\n",
       "      <td>1.000000</td>\n",
       "      <td>0.134661</td>\n",
       "      <td>0.153227</td>\n",
       "      <td>-0.044265</td>\n",
       "    </tr>\n",
       "    <tr>\n",
       "      <th>uniformity</th>\n",
       "      <td>0.121619</td>\n",
       "      <td>0.168478</td>\n",
       "      <td>0.167086</td>\n",
       "      <td>0.114920</td>\n",
       "      <td>0.044112</td>\n",
       "      <td>0.134661</td>\n",
       "      <td>1.000000</td>\n",
       "      <td>0.625821</td>\n",
       "      <td>0.404029</td>\n",
       "    </tr>\n",
       "    <tr>\n",
       "      <th>clean_cup</th>\n",
       "      <td>0.169010</td>\n",
       "      <td>0.206467</td>\n",
       "      <td>0.185766</td>\n",
       "      <td>0.118772</td>\n",
       "      <td>0.081132</td>\n",
       "      <td>0.153227</td>\n",
       "      <td>0.625821</td>\n",
       "      <td>1.000000</td>\n",
       "      <td>0.424389</td>\n",
       "    </tr>\n",
       "    <tr>\n",
       "      <th>sweetness</th>\n",
       "      <td>-0.014172</td>\n",
       "      <td>0.010144</td>\n",
       "      <td>-0.022423</td>\n",
       "      <td>-0.023225</td>\n",
       "      <td>-0.090430</td>\n",
       "      <td>-0.044265</td>\n",
       "      <td>0.404029</td>\n",
       "      <td>0.424389</td>\n",
       "      <td>1.000000</td>\n",
       "    </tr>\n",
       "  </tbody>\n",
       "</table>\n",
       "</div>"
      ],
      "text/plain": [
       "               aroma    flavor  aftertaste   acidity      body   balance  \\\n",
       "aroma       1.000000  0.715414    0.668453  0.614898  0.561393  0.615313   \n",
       "flavor      0.715414  1.000000    0.809152  0.744695  0.670422  0.725580   \n",
       "aftertaste  0.668453  0.809152    1.000000  0.697735  0.678106  0.753583   \n",
       "acidity     0.614898  0.744695    0.697735  1.000000  0.617025  0.661565   \n",
       "body        0.561393  0.670422    0.678106  0.617025  1.000000  0.698753   \n",
       "balance     0.615313  0.725580    0.753583  0.661565  0.698753  1.000000   \n",
       "uniformity  0.121619  0.168478    0.167086  0.114920  0.044112  0.134661   \n",
       "clean_cup   0.169010  0.206467    0.185766  0.118772  0.081132  0.153227   \n",
       "sweetness  -0.014172  0.010144   -0.022423 -0.023225 -0.090430 -0.044265   \n",
       "\n",
       "            uniformity  clean_cup  sweetness  \n",
       "aroma         0.121619   0.169010  -0.014172  \n",
       "flavor        0.168478   0.206467   0.010144  \n",
       "aftertaste    0.167086   0.185766  -0.022423  \n",
       "acidity       0.114920   0.118772  -0.023225  \n",
       "body          0.044112   0.081132  -0.090430  \n",
       "balance       0.134661   0.153227  -0.044265  \n",
       "uniformity    1.000000   0.625821   0.404029  \n",
       "clean_cup     0.625821   1.000000   0.424389  \n",
       "sweetness     0.404029   0.424389   1.000000  "
      ]
     },
     "execution_count": 41,
     "metadata": {},
     "output_type": "execute_result"
    }
   ],
   "source": [
    "coffee_data[rating_columns].corr(\"spearman\") "
   ]
  },
  {
   "cell_type": "code",
   "execution_count": 42,
   "id": "53358cf9-af27-4efa-9385-38acd9bb8baa",
   "metadata": {},
   "outputs": [
    {
     "data": {
      "image/png": "[encoded data removed]",
      "text/plain": [
       "<Figure size 640x480 with 1 Axes>"
      ]
     },
     "metadata": {},
     "output_type": "display_data"
    }
   ],
   "source": [
    "plt.scatter(coffee_data.aroma, coffee_data.flavor)\n",
    "plt.show()"
   ]
  },
  {
   "cell_type": "code",
   "execution_count": 43,
   "id": "16ae8fae-1acf-4f62-87b8-20e4dfd4a788",
   "metadata": {},
   "outputs": [
    {
     "data": {
      "text/html": [
       "<div>\n",
       "<style scoped>\n",
       "    .dataframe tbody tr th:only-of-type {\n",
       "        vertical-align: middle;\n",
       "    }\n",
       "\n",
       "    .dataframe tbody tr th {\n",
       "        vertical-align: top;\n",
       "    }\n",
       "\n",
       "    .dataframe thead th {\n",
       "        text-align: right;\n",
       "    }\n",
       "</style>\n",
       "<table border=\"1\" class=\"dataframe\">\n",
       "  <thead>\n",
       "    <tr style=\"text-align: right;\">\n",
       "      <th></th>\n",
       "      <th>species</th>\n",
       "      <th>owner</th>\n",
       "      <th>country_of_origin</th>\n",
       "      <th>farm_name</th>\n",
       "      <th>lot_number</th>\n",
       "      <th>mill</th>\n",
       "      <th>ico_number</th>\n",
       "      <th>company</th>\n",
       "      <th>altitude</th>\n",
       "      <th>region</th>\n",
       "      <th>...</th>\n",
       "      <th>color</th>\n",
       "      <th>category_two_defects</th>\n",
       "      <th>expiration</th>\n",
       "      <th>certification_body</th>\n",
       "      <th>certification_address</th>\n",
       "      <th>certification_contact</th>\n",
       "      <th>unit_of_measurement</th>\n",
       "      <th>altitude_low_meters</th>\n",
       "      <th>altitude_high_meters</th>\n",
       "      <th>altitude_mean_meters</th>\n",
       "    </tr>\n",
       "  </thead>\n",
       "  <tbody>\n",
       "    <tr>\n",
       "      <th>1310</th>\n",
       "      <td>Arabica</td>\n",
       "      <td>bismarck castro</td>\n",
       "      <td>Honduras</td>\n",
       "      <td>los hicaques</td>\n",
       "      <td>103</td>\n",
       "      <td>cigrah s.a de c.v.</td>\n",
       "      <td>13-111-053</td>\n",
       "      <td>cigrah s.a de c.v</td>\n",
       "      <td>1400</td>\n",
       "      <td>comayagua</td>\n",
       "      <td>...</td>\n",
       "      <td>Green</td>\n",
       "      <td>2</td>\n",
       "      <td>April 28th, 2018</td>\n",
       "      <td>Instituto Hondureño del Café</td>\n",
       "      <td>b4660a57e9f8cc613ae5b8f02bfce8634c763ab4</td>\n",
       "      <td>7f521ca403540f81ec99daec7da19c2788393880</td>\n",
       "      <td>m</td>\n",
       "      <td>1400.0</td>\n",
       "      <td>1400.0</td>\n",
       "      <td>1400.0</td>\n",
       "    </tr>\n",
       "  </tbody>\n",
       "</table>\n",
       "<p>1 rows × 43 columns</p>\n",
       "</div>"
      ],
      "text/plain": [
       "      species            owner country_of_origin     farm_name lot_number  \\\n",
       "1310  Arabica  bismarck castro          Honduras  los hicaques        103   \n",
       "\n",
       "                    mill  ico_number            company altitude     region  \\\n",
       "1310  cigrah s.a de c.v.  13-111-053  cigrah s.a de c.v     1400  comayagua   \n",
       "\n",
       "      ...  color  category_two_defects        expiration  \\\n",
       "1310  ...  Green                     2  April 28th, 2018   \n",
       "\n",
       "                certification_body                     certification_address  \\\n",
       "1310  Instituto Hondureño del Café  b4660a57e9f8cc613ae5b8f02bfce8634c763ab4   \n",
       "\n",
       "                         certification_contact unit_of_measurement  \\\n",
       "1310  7f521ca403540f81ec99daec7da19c2788393880                   m   \n",
       "\n",
       "     altitude_low_meters altitude_high_meters  altitude_mean_meters  \n",
       "1310              1400.0               1400.0                1400.0  \n",
       "\n",
       "[1 rows x 43 columns]"
      ]
     },
     "execution_count": 43,
     "metadata": {},
     "output_type": "execute_result"
    }
   ],
   "source": [
    "# shows entry that has values = 0:\n",
    "coffee_data[(coffee_data.aroma == 0) | (coffee_data.flavor == 0)]"
   ]
  },
  {
   "cell_type": "code",
   "execution_count": 44,
   "id": "2145f87b-baf8-4301-a1a9-40fba72619e2",
   "metadata": {},
   "outputs": [],
   "source": [
    "# shows entries that hasn't values = 0:\n",
    "not_zero_coffee_data = coffee_data[~(coffee_data.aroma == 0) & ~(coffee_data.flavor == 0)]"
   ]
  },
  {
   "cell_type": "code",
   "execution_count": 45,
   "id": "4e011bac-054d-4d34-ab56-528a003226b7",
   "metadata": {},
   "outputs": [
    {
     "data": {
      "image/png": "[encoded data removed]",
      "text/plain": [
       "<Figure size 640x480 with 1 Axes>"
      ]
     },
     "metadata": {},
     "output_type": "display_data"
    }
   ],
   "source": [
    "plt.scatter(not_zero_coffee_data.aroma, not_zero_coffee_data.flavor, s = 15, marker = \"o\")\n",
    "plt.xlabel(\"aroma\")\n",
    "plt.ylabel(\"flavor\")\n",
    "plt.show()"
   ]
  },
  {
   "cell_type": "code",
   "execution_count": 46,
   "id": "75fecaf6-718d-4923-8bde-5568e2b4f328",
   "metadata": {},
   "outputs": [
    {
     "data": {
      "text/html": [
       "<div>\n",
       "<style scoped>\n",
       "    .dataframe tbody tr th:only-of-type {\n",
       "        vertical-align: middle;\n",
       "    }\n",
       "\n",
       "    .dataframe tbody tr th {\n",
       "        vertical-align: top;\n",
       "    }\n",
       "\n",
       "    .dataframe thead th {\n",
       "        text-align: right;\n",
       "    }\n",
       "</style>\n",
       "<table border=\"1\" class=\"dataframe\">\n",
       "  <thead>\n",
       "    <tr style=\"text-align: right;\">\n",
       "      <th></th>\n",
       "      <th>aroma</th>\n",
       "      <th>flavor</th>\n",
       "    </tr>\n",
       "  </thead>\n",
       "  <tbody>\n",
       "    <tr>\n",
       "      <th>aroma</th>\n",
       "      <td>1.000000</td>\n",
       "      <td>0.715414</td>\n",
       "    </tr>\n",
       "    <tr>\n",
       "      <th>flavor</th>\n",
       "      <td>0.715414</td>\n",
       "      <td>1.000000</td>\n",
       "    </tr>\n",
       "  </tbody>\n",
       "</table>\n",
       "</div>"
      ],
      "text/plain": [
       "           aroma    flavor\n",
       "aroma   1.000000  0.715414\n",
       "flavor  0.715414  1.000000"
      ]
     },
     "execution_count": 46,
     "metadata": {},
     "output_type": "execute_result"
    }
   ],
   "source": [
    "coffee_data[[\"aroma\", \"flavor\"]].corr(\"spearman\") "
   ]
  },
  {
   "cell_type": "code",
   "execution_count": 47,
   "id": "a0f98207-7d14-49d5-b937-105a72e1dc05",
   "metadata": {},
   "outputs": [],
   "source": [
    "coffee_valid_harvest_years = coffee_valid_harvest_years[\n",
    "        ~(coffee_valid_harvest_years.aroma == 0) &\n",
    "         ~(coffee_valid_harvest_years.flavor == 0)\n",
    "]"
   ]
  },
  {
   "cell_type": "code",
   "execution_count": 48,
   "id": "964800a0-8329-4b3e-8898-3f3fd34bdda7",
   "metadata": {},
   "outputs": [
    {
     "data": {
      "text/plain": [
       "harvest_year\n",
       "2010    7.701000\n",
       "2011    7.734231\n",
       "2012    7.459011\n",
       "2013    7.495414\n",
       "2014    7.537039\n",
       "2015    7.595194\n",
       "2016    7.552984\n",
       "2017    7.535507\n",
       "2018    7.420000\n",
       "Name: flavor, dtype: float64"
      ]
     },
     "execution_count": 48,
     "metadata": {},
     "output_type": "execute_result"
    }
   ],
   "source": [
    "# shows mean of flavor ratings grouped by year:\n",
    "flavor_mean_by_year = coffee_valid_harvest_years.groupby(\"harvest_year\").flavor.mean()\n",
    "flavor_mean_by_year"
   ]
  },
  {
   "cell_type": "code",
   "execution_count": 49,
   "id": "78b05c4c-38da-455f-adfc-c19d094574a5",
   "metadata": {},
   "outputs": [],
   "source": [
    "flavor_max_by_year = coffee_valid_harvest_years.groupby(\"harvest_year\").flavor.max()\n",
    "flavor_min_by_year = coffee_valid_harvest_years.groupby(\"harvest_year\").flavor.min()"
   ]
  },
  {
   "cell_type": "code",
   "execution_count": 50,
   "id": "b1d3228c-593e-4338-a091-ec542291cea7",
   "metadata": {},
   "outputs": [
    {
     "data": {
      "image/png": "[encoded data removed]",
      "text/plain": [
       "<Figure size 640x480 with 1 Axes>"
      ]
     },
     "metadata": {},
     "output_type": "display_data"
    }
   ],
   "source": [
    "plt.plot(flavor_max_by_year, label = \"max\")\n",
    "plt.plot(flavor_mean_by_year, label = \"mean\")\n",
    "plt.plot(flavor_min_by_year, label = \"min\")\n",
    "\n",
    "plt.scatter(flavor_max_by_year.index, flavor_max_by_year)\n",
    "plt.scatter(flavor_mean_by_year.index, flavor_mean_by_year)\n",
    "plt.scatter(flavor_min_by_year.index, flavor_min_by_year)\n",
    "\n",
    "plt.ylim(0, 10)\n",
    "plt.xlabel(\"year\")\n",
    "plt.ylabel(\"mean flavor rating\")\n",
    "plt.legend()\n",
    "plt.show()"
   ]
  },
  {
   "cell_type": "markdown",
   "id": "4b3bb585-0f1e-4935-917f-a49874e7787b",
   "metadata": {},
   "source": [
    "The graph show that the best coffee flavor was achieved in 2014. The worst coffee flavor was acheived in 2012"
   ]
  }
 ],
 "metadata": {
  "kernelspec": {
   "display_name": "Python 3 (ipykernel)",
   "language": "python",
   "name": "python3"
  },
  "language_info": {
   "codemirror_mode": {
    "name": "ipython",
    "version": 3
   },
   "file_extension": ".py",
   "mimetype": "text/x-python",
   "name": "python",
   "nbconvert_exporter": "python",
   "pygments_lexer": "ipython3",
   "version": "3.11.7"
  }
 },
 "nbformat": 4,
 "nbformat_minor": 5
}
