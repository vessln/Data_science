%matplotlib inline


import numpy as np
import pandas as pd
import matplotlib.pyplot as plt
import seaborn as sns





coffee_data = pd.read_csv("data/merged_data_cleaned.csv")


coffee_data.head(3)


coffee_data.dtypes


coffee_data = coffee_data.drop(columns = ["Unnamed: 0"])


coffee_data.columns = coffee_data.columns.str.replace(".", "_")
coffee_data.columns = coffee_data.columns.str.lower()


coffee_data.columns


coffee_data.harvest_year.unique()


coffee_data.harvest_year.astype(float, errors = "ignore")


coffee_data.harvest_year.str.isnumeric() # returns True if value is numeric


coffee_data.harvest_year.str.isnumeric().unique() # returns unique value types


# returns how much columns are numeric, other type, NaN (missing values)
coffee_data.harvest_year.str.isnumeric().value_counts(dropna = False)


coffee_data.harvest_year.str.isnumeric() == True


coffee_valid_harvest_years = coffee_data[coffee_data.harvest_year.str.isnumeric() == True]


coffee_valid_harvest_years.harvest_year = coffee_valid_harvest_years.harvest_year.astype(int)


# group harvest years by their count:
coffee_valid_harvest_years.groupby("harvest_year").size().sort_values(ascending = False)


# group harvest_year by their count, starting with the smallest year:
years = coffee_valid_harvest_years.harvest_year.value_counts().sort_index() 


years





plt.bar(years.index, years)

plt.xticks(range(2010, 2019))
plt.yticks(range(0, 350, 100))
plt.xlabel("year")
plt.ylabel("count")
plt.title("Number of harvested coffees by years")
plt.show()








years.idxmax(), years.max()  # index of max value, max value


plt.plot(years.index, years)

plt.scatter(years.idxmax(), years.max(), marker = "o", color = "r") # dot on maximum value

plt.annotate("max", (years.idxmax() + 0.1, years.max()))

plt.xlabel("year")
plt.ylabel("count")
plt.title("Number of harvested coffees by years")
plt.show()





plt.hist(coffee_data.aroma, bins = 50, label = "aroma", alpha = 0.7)
plt.hist(coffee_data.flavor, bins = 50, label = "flavor", alpha = 0.7)
plt.hist(coffee_data.balance, bins = 50, label = "balance", alpha = 0.7)

plt.xlim(0, 10)

plt.xlabel("rating")
plt.ylabel("frequency")
plt.legend()
plt.show()


coffee_data.loc[coffee_data.balance < 6, ["species", "owner","company", "country_of_origin", "balance", "aroma", "flavor"]]


coffee_data[coffee_data.balance > 0].balance.min() # smallest balance value > 0


# 5 smallest balance values > 0
coffee_data[coffee_data.balance > 0].nsmallest(5, "balance")[["species", "owner","company", "country_of_origin", "balance", "aroma", "flavor"]]





coffee_data.owner.value_counts() # group owner by coffee count 


one_coffee_owners = coffee_data.owner.value_counts() == 1 # owners with one coffee


one_coffee_owners


one_coffee_owners[one_coffee_owners] # get owners with only one coffee


# names of the owners with only one coffee (names are in the index)
one_coffee_owners_names = one_coffee_owners[one_coffee_owners].index


one_coffee_owners_names


# returns entries whose owner has only one coffee:
coffee_data[coffee_data.owner.isin(one_coffee_owners_names)]


# return countries of entries whose owner has only one coffee:
countries_one_coffee_owners = coffee_data[coffee_data.owner.isin(one_coffee_owners_names)]["country_of_origin"]


# count the number of times each country occurs in all entries where the owner has 1 coffee:
countries_one_coffee_owners = countries_one_coffee_owners.value_counts()





plt.figure(figsize=(10, 8))
plt.pie(countries_one_coffee_owners, labels = countries_one_coffee_owners.index, autopct="%.2f%%")
plt.title("Mexico has nearly 40% of small coffee farms.")
plt.show()





coffee_data[~coffee_data.owner.isin(one_coffee_owners_names)]["country_of_origin"].value_counts()








rating_columns = ['aroma', 'flavor', 'aftertaste', 'acidity', 'body', 'balance', 'uniformity', 'clean_cup', 'sweetness']


coffee_data[rating_columns].corr() # returns pearson correlation coefficient


sns.heatmap(coffee_data[rating_columns].corr(), annot = True, cmap = plt.cm.Blues) # plot correlation matrix
plt.show()


coffee_data[rating_columns].corr("spearman") 


plt.scatter(coffee_data.aroma, coffee_data.flavor)
plt.show()


# shows entry that has values = 0:
coffee_data[(coffee_data.aroma == 0) | (coffee_data.flavor == 0)]


# shows entries that hasn't values = 0:
not_zero_coffee_data = coffee_data[~(coffee_data.aroma == 0) & ~(coffee_data.flavor == 0)]


plt.scatter(not_zero_coffee_data.aroma, not_zero_coffee_data.flavor, s = 15, marker = "o")
plt.xlabel("aroma")
plt.ylabel("flavor")
plt.show()


coffee_data[["aroma", "flavor"]].corr("spearman") 


coffee_valid_harvest_years = coffee_valid_harvest_years[
        ~(coffee_valid_harvest_years.aroma == 0) &
         ~(coffee_valid_harvest_years.flavor == 0)
]


# shows mean of flavor ratings grouped by year:
flavor_mean_by_year = coffee_valid_harvest_years.groupby("harvest_year").flavor.mean()
flavor_mean_by_year


flavor_max_by_year = coffee_valid_harvest_years.groupby("harvest_year").flavor.max()
flavor_min_by_year = coffee_valid_harvest_years.groupby("harvest_year").flavor.min()


plt.plot(flavor_max_by_year, label = "max")
plt.plot(flavor_mean_by_year, label = "mean")
plt.plot(flavor_min_by_year, label = "min")

plt.scatter(flavor_max_by_year.index, flavor_max_by_year)
plt.scatter(flavor_mean_by_year.index, flavor_mean_by_year)
plt.scatter(flavor_min_by_year.index, flavor_min_by_year)

plt.ylim(0, 10)
plt.xlabel("year")
plt.ylabel("mean flavor rating")
plt.legend()
plt.show()



