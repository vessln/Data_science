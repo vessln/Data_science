%matplotlib inline


import numpy as np
import pandas as pd
import matplotlib.pyplot as plt
import seaborn as sns

import zipfile
import calendar 














zip_path = "data/spotify_most_streamed_2024.zip"
csv_file = "Most Streamed Spotify Songs 2024.csv"

with zipfile.ZipFile(zip_path, "r") as z:
    with z.open(csv_file) as file:
        songs_data = pd.read_csv(file, encoding = "ISO-8859-1")

new_csv_path = "data/most_streamed_spotify_songs_2024.csv"
songs_data.to_csv(new_csv_path, index = False) 


songs_data.shape


songs_data.head()


songs_data.info()





songs_data.columns


songs_data.dtypes





songs_data.columns = songs_data.columns.to_series().apply(lambda x: x.replace(" ", "_").lower())


songs_data.columns


songs_data.isnull().sum()





songs_data = songs_data.drop(columns = ["tidal_popularity", "soundcloud_streams"])


songs_data.columns


songs_data.dropna(subset = "artist", inplace = True) # inplace = True  directly transforms the df instead of override it


songs_data.artist.isnull().sum()





songs_data = songs_data.map(lambda x: x.replace(",", "") if isinstance(x, str) else x)


columns_to_change = ['all_time_rank', 'spotify_streams', 'spotify_playlist_count', 'spotify_playlist_reach', 
                     'youtube_views', 'youtube_likes', 'tiktok_posts', 'tiktok_likes', 'tiktok_views', 
                     'youtube_playlist_reach', 'airplay_spins', 'siriusxm_spins', 'deezer_playlist_reach', 
                     'pandora_streams', 'pandora_track_stations', 'shazam_counts']


songs_data[columns_to_change] = songs_data[columns_to_change].astype(float)


songs_data.dtypes








artists_most_songs = songs_data.groupby("artist").size().sort_values(ascending = False)
# or  artists_most_songs = songs_data.artist.value_counts()[0:5]


five_artists = artists_most_songs[0:5]


five_artists


plt.bar(five_artists.index, five_artists)
plt.yticks(range(0, 75, 10))
plt.ylabel("songs count")
plt.title("The five artists with the most songs")
plt.show()





clean_artists = songs_data.groupby("artist").filter(lambda x: all(x["explicit_track"] == 0))
clean_artist_counts = clean_artists["artist"].value_counts()


five_clean_artists = clean_artist_counts[0:5]


five_clean_artists


plt.bar(five_clean_artists.index, five_clean_artists)
plt.yticks(range(0, 22, 4))
plt.ylabel("songs count")
plt.title("The five clean artists with the most songs")
plt.show()








artists_spotify_streams = songs_data.groupby("artist")["spotify_streams"].sum()


top_5_spotify_songs = artists_spotify_streams.sort_values(ascending=False)[0:5]


top_5_spotify_songs


plt.bar(top_5_spotify_songs.index, top_5_spotify_songs)
plt.ylabel("spotify streams count")
plt.title("The top five most Spotify streamed artists")
plt.show()





songs_data.release_date = pd.to_datetime(songs_data.release_date)


songs_count_years = songs_data.groupby(songs_data.release_date.dt.year).size()
# or  songs_data.release_date.dt.year.value_counts()


songs_count_sorted_years = songs_count_years.sort_index(ascending=False)


songs_count_sorted_years


plt.figure(figsize=(10, 5))
plt.bar(songs_count_sorted_years.index, songs_count_sorted_years)

plt.xlabel("year")
plt.ylabel("songs count")
plt.title("Count released songs from 1987 to 2024")
plt.show()


last_10_years = songs_count_sorted_years[0:11]

plt.figure(figsize = (8, 5))

plt.bar(last_10_years.index, last_10_years)

plt.xticks(range(2014, 2025, 1))
plt.xlabel("year")
plt.ylabel("release songs count")
plt.title("Count released songs last 10 years")
plt.show()





songs_count_months = songs_data.release_date.dt.month.value_counts()


songs_count_sorted_months = songs_count_months.sort_index()


songs_count_sorted_months


plt.figure(figsize = (8, 5))
plt.bar(songs_count_sorted_months.index, songs_count_sorted_months)

plt.xticks(songs_data.release_date.dt.month, [calendar.month_abbr[m] for m in songs_data.release_date.dt.month])
plt.xlabel("month")
plt.ylabel("released songs count")
plt.title("Count released songs each month")
plt.show()








songs_data.columns


services_playlists_count = ["spotify_playlist_count", "apple_music_playlist_count", "deezer_playlist_count", "amazon_playlist_count"]





songs_data[services_playlists_count].corr()


sns.heatmap(songs_data[services_playlists_count].corr(), annot = True) 

plt.title("Pearson correlation between Spotify, Apple, Deezer and Amazon playlist count")
plt.show()








songs_data[services_playlists_count].corr("spearman")


sns.heatmap(songs_data[services_playlists_count].corr("spearman"), annot = True, cmap = "YlGnBu") 
plt.title("Pearson correlation between Spotify, Apple, Deezer and Amazon playlist count")
plt.show()








yt_likes_views = ["youtube_likes", "youtube_views"]


songs_data[yt_likes_views]


songs_data[yt_likes_views].describe()


songs_data[yt_likes_views].corr()


plt.figure(figsize = (5, 4))
sns.heatmap(songs_data[yt_likes_views].corr(), annot = True) 

plt.title("Correlation between youtube views and likes")
plt.show()


plt.scatter(songs_data.youtube_views, songs_data.youtube_likes)

plt.title("Relationship between YouTube views and likes")
plt.xlabel("views")
plt.ylabel("likes")
plt.grid()
plt.show()





songs_data["views_likes_ratio"] = songs_data.youtube_views / songs_data.youtube_likes
mean_ratio = songs_data.views_likes_ratio.mean()
print(f"Mean YouTube views-to-likes ratio is {mean_ratio:.2f}")


songs_data.views_likes_ratio.describe()


songs_data[songs_data.views_likes_ratio > 1500]





songs_data.drop(songs_data[songs_data.views_likes_ratio > 1500].index, inplace = True) 


songs_data[songs_data.views_likes_ratio > 1500]


plt.figure(figsize=(10, 6))
plt.hist(songs_data.views_likes_ratio, bins = 50, color = "red")

plt.xticks(range(0, 1500, 100))
plt.title("Distribution of mean YouTube views-to-likes ratio")
plt.xlabel("views_likes_ratio")
plt.ylabel("frequency")
plt.show()


fig, (ax1, ax2) = plt.subplots(1, 2, figsize=(10, 5))

ax1.hist(songs_data.youtube_views, bins=50, color = "green")
ax1.set_title("Distribution of Youtube views")
ax1.set_xlabel("views")
ax1.set_ylabel("frequency")

ax2.hist(songs_data.youtube_likes, bins=50, color = "blue")
ax2.set_title("Distribution of Youtube likes")
ax2.set_xlabel("likes")

plt.tight_layout()
plt.show()








songs_data[["track", "artist", "release_date", "tiktok_views"]]





total_tiktok_views = songs_data.groupby(songs_data.release_date.dt.year)["tiktok_views"].sum()


plt.figure(figsize = (12, 5))

plt.bar(total_tiktok_views.index, total_tiktok_views)

plt.xticks(range(1985, 2025, 1), rotation=50)

plt.xlabel("year")
plt.ylabel("count of tiktok views")
plt.title("Total tiktok views of songs released by years")

plt.show()


plt.figure(figsize = (12, 5))
plt.plot(total_tiktok_views.index, total_tiktok_views)

plt.annotate(f"max={total_tiktok_views.max():.0f}", (total_tiktok_views.idxmax() + 0.3, total_tiktok_views.max()))
plt.scatter(total_tiktok_views.idxmax(), total_tiktok_views.max(), marker = "o", color = "r")

plt.xticks(range(1985, 2025, 1), rotation=50)

plt.xlabel("year")
plt.ylabel("count of tiktok views")
plt.title("Total tiktok views of songs released by years")

plt.grid()
plt.show()


songs_data.groupby(songs_data.release_date.dt.year)["tiktok_views"].apply(lambda x: x.isna().sum())





most_popular_songs = songs_data.loc[songs_data.groupby(songs_data.release_date.dt.year)["tiktok_views"].idxmax()]


most_popular_songs.release_date = most_popular_songs.release_date.dt.year





most_popular_songs[["release_date", "track", "artist", "tiktok_views"]]





mean_tiktok_views = songs_data.groupby(songs_data.release_date.dt.year)["tiktok_views"].mean()


mean_tiktok_views





comparison_mean = most_popular_songs[["release_date", "track", "artist", "tiktok_views"]]
comparison_mean = comparison_mean.merge(mean_tiktok_views, on = "release_date", suffixes = ("_song", "_mean_year"))


comparison_mean


songs_data.release_date.dt.year.value_counts()


comparison_mean["difference"] = comparison_mean["tiktok_views_song"] - comparison_mean["tiktok_views_mean_year"]
comparison_mean.difference


comparison_mean


fig, ax = plt.subplots(figsize=(12, 8))
comparison_mean.set_index("release_date")[["tiktok_views_song", "tiktok_views_mean_year"]].plot(kind = "bar", ax = plt.gca())

for i, row in comparison_mean.iterrows():
    ax.annotate(row["track"][:25], (i, row["tiktok_views_song"]), ha = "center", va = "bottom", rotation = 75)
    
plt.xlabel("year")
plt.ylabel("tiktok views")
plt.xticks(rotation = 50)
plt.title("Comparison of most popular songs according to tiktok views to mean tiktok views for each year")

plt.tight_layout()
plt.show()


top_3_songs = comparison_mean.sort_values(by="tiktok_views_song", ascending = False)[0:3]
top_3_songs








songs_data.track.unique()





songs_data.track = songs_data.track.apply(lambda x: x[:26])
