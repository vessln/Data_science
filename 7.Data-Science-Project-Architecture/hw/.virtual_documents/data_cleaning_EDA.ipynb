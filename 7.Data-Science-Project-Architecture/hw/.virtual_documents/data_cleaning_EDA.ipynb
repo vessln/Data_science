%matplotlib inline


import numpy as np
import pandas as pd
import matplotlib.pyplot as plt
import seaborn as sns

import re





asthma_data = pd.read_csv("data/asthma_disease_data.csv")


asthma_data.columns





def to_snake_case(name):
    """
    Convert a camelCase or PascalCase string to snake_case.
    
    Args: name (str) - the input string in camelCase or PascalCase format.
    
    Returns: str - the converted string in snake_case format.
    """
    
    name = re.sub(r'([a-z0-9])([A-Z])', r'\1_\2', name) 
    name = name.replace(' ', '_')  
    
    return name.lower() 


asthma_data.columns = asthma_data.columns.to_series().apply(to_snake_case)


asthma_data.columns


len(asthma_data.doctor_in_charge.unique())


len(asthma_data.patient_id.unique())





asthma_data.drop(columns = ["patient_id", "doctor_in_charge"], inplace = True)


asthma_data.head()


asthma_data.to_csv("data/processed_asthma_desease_data.csv", index = False)





asthma_data.age.min(), asthma_data.age.max()





plt.hist(asthma_data.age, bins = 50)

plt.title("Distribution of ages")
plt.xlabel("age")
plt.ylabel("frequency")

plt.xticks(range(5, 80, 5))  
plt.xlim(5, 79)

plt.show()








cont_vars = ['bmi', 'physical_activity', 'diet_quality', 'sleep_quality', 'pollution_exposure',
             'pollen_exposure', 'dust_exposure', 'lung_function_fev1', 'lung_function_fvc']

asthma_data[cont_vars].hist(figsize = (12, 10), bins = 50)

plt.suptitle("Histograms of continuous variables")

plt.show()


plt.figure(figsize = (10, 10))

sns.heatmap(asthma_data[cont_vars].corr(), annot=True, cmap='coolwarm', fmt='.3f')
plt.title('Correlation matrix')

plt.show()








def plot_categorical_distributions(data, categorical_columns, mapping_dict):
    """
    Plot the distribution of categorical columns.

    Args:
        data (DataFrame) - the input
        categorical_columns (list) - list of column names
        mapping_dict (dict) - to convert binary values to 'Yes'/'No' for more readable visualization.
    """
    
    for col in categorical_columns:
        plt.figure(figsize = (6, 4))
        
        temp_column = data[col].map(mapping_dict)
        
        sns.countplot(x = temp_column)
        plt.title(f"Distribution of {col}")
        plt.xlabel(col)
        plt.ylabel("count")
        
        plt.show()


categorical_columns = ['smoking', 'pet_allergy', 'family_history_asthma','history_of_allergies', 'eczema', 
                       'hay_fever', 'gastroesophageal_reflux', 'wheezing', 'shortness_of_breath',
                       'chest_tightness', 'coughing', 'nighttime_symptoms', 'exercise_induced', 'diagnosis']

mapping_dict = {0: 'No', 1: 'Yes'}

plot_categorical_distributions(asthma_data, categorical_columns, mapping_dict)


asthma_data.diagnosis.value_counts()


copy_asthma_data = asthma_data.copy()


copy_asthma_data.loc[copy_asthma_data.gender == 0, "gender"] = "man"
copy_asthma_data.loc[copy_asthma_data.gender == 1, "gender"] = "woman"


copy_asthma_data.gender.value_counts()





copy_asthma_data.ethnicity.unique()


copy_asthma_data.loc[copy_asthma_data.ethnicity == 0, "ethnicity"] = "Caucasian"
copy_asthma_data.loc[copy_asthma_data.ethnicity == 1, "ethnicity"] = "African American"
copy_asthma_data.loc[copy_asthma_data.ethnicity == 2, "ethnicity"] = "Asian"
copy_asthma_data.loc[copy_asthma_data.ethnicity == 3, "ethnicity"] = "Other"


ethnicity_counts = copy_asthma_data.ethnicity.value_counts()


ethnicity_counts


ethnicity_counts.plot(kind = "bar")

plt.title("Distribution of ethnicities")
plt.ylabel("count")
plt.xticks(rotation=45)

plt.show()


ethnicity_pct = round(copy_asthma_data.ethnicity.value_counts(normalize = True) * 100, 2)
pd.DataFrame(ethnicity_pct)


plt.pie(ethnicity_pct, labels = ethnicity_pct.index, autopct="%.2f%%")

plt.show()





asthma_data.education_level.unique()


copy_asthma_data.loc[copy_asthma_data.education_level == 0, "education_level"] = "None"
copy_asthma_data.loc[copy_asthma_data.education_level == 1, "education_level"] = "High School"
copy_asthma_data.loc[copy_asthma_data.education_level == 2, "education_level"] = "Bachelor's"
copy_asthma_data.loc[copy_asthma_data.education_level == 3, "education_level"] = "Higher"


copy_asthma_data.education_level.value_counts()


copy_asthma_data.education_level.value_counts().plot(kind = "bar")
plt.title("Distribution of education level")
plt.ylabel("count")
plt.xticks(rotation = 45)

plt.show()


asthma_data.smoking.value_counts()





asthma_data.head()





diagnoses_asthma_data = copy_asthma_data[copy_asthma_data.diagnosis == 1]


diagnoses_asthma_data.age.describe().T


age_stats = diagnoses_asthma_data.groupby(['ethnicity']).agg({'age': ['min', 'max', 'mean']})
bmi_stats = diagnoses_asthma_data.groupby(['ethnicity']).agg({'bmi': ['min', 'max', 'mean']})


age_stats


bmi_stats


diagnoses_asthma_data.smoking.value_counts()


diagnoses_by_ages = diagnoses_asthma_data.age.value_counts().sort_index() 


plt.bar(diagnoses_by_ages.index, diagnoses_by_ages)

plt.xticks(range(5, 81, 5))
plt.xlabel("age")
plt.ylabel("count")
plt.title("Number of diagnosed patients by age")

plt.show()



