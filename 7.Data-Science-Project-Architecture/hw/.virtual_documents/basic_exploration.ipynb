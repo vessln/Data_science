%matplotlib inline


import numpy as np
import pandas as pd
import matplotlib.pyplot as plt





asthma_data = pd.read_csv("data/asthma_disease_data.csv")


asthma_data


asthma_data.columns


asthma_data.dtypes


asthma_data.isnull().sum()


asthma_data.shape


asthma_data.info()


asthma_data.describe().T



