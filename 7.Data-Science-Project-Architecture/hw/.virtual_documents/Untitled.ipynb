%matplotlib inline


import numpy as np
import pandas as pd
import matplotlib.pyplot as plt

from sklearn.preprocessing import StandardScaler






asthma_data = pd.read_csv("data/processed_asthma_desease_data.csv")


asthma_data.head()





def select_important_features(data, target_column, threshold = 0.1):
    """
    Selects the important features based on correlation with the target variable.

    Args:
        data - input DataFrame with data.
        target_column - the name of the target variable.
        threshold - correlation threshold to select important features.
        
    Return: DataFrame with only the important features.
    """
    
    correlation_matrix = data.corr()
    target_corr = correlation_matrix[target_column].abs()
    important_features = target_corr[target_corr > threshold].index.tolist()
    
    return data[important_features]





def encode_categorical_features(data, categorical_columns):
    """
    Encodes categorical features into numerical values.
    Args:
        data - inputDataFrame with data.
        categorical_columns - list of categorical feature names.
    Return:
        DataFrame with encoded categorical features.
    """
    
    for col in categorical_columns:
        data[col] = data[col].map({0: "No", 1: "Yes"})
        
    return data


def create_bmi_category(data, bmi_column = "bmi"):
    """
    Creates a BMI category based on values.

    Args:
        data - input DataFrame with data.
        bmi_column -the name of the BMI column.
        
    Return - DataFrame with new category for BMI.
    """
    
    data["bmi_category"] = pd.cut(data[bmi_column], 
                                  bins = [0, 18, 24.9, 29.9, 40], 
                                  labels = ["Underweight", "Normal", "Overweight", "Obese"]
                                 )
    return data


def create_age_groups(data, age_column = "age"):
    """
    Creates a new characteristic that categorizes age into different groups.
    Args:
        data: DataFrame with data.
        age_column: The name of the age column.
        
    Return: DataFrame with new feature for age groups.
    
    """
    
    bins = [0, 10, 20, 30, 40, 50, 60, 70, 80]
    labels = ['0-10', '11-20', '21-30', '31-40', '41-50', '51-60', '61-70', '71-80']
    
    data["age_group"] = pd.cut(data[age_column], bins = bins, labels = labels, right = True)
    
    return data


def prepare_data_for_model(data, target_column):
    """
    Prepares the data for modeling by performing feature engineering, 
    encoding categorical variables and scaling features.
    
    Args:
        data - input DataFrame with data.
        target_column - the name of the target column (dependent variable).
    
    Returns:
        Tuple of DataFrames (features, target) ready for modeling.
    """
    
    categorical_columns = ['gender', 'ethnicity', 'education_level', 'smoking', 'pet_allergy', 
                           'family_history_asthma', 'history_of_allergies', 'eczema', 'hay_fever', 
                           'gastroesophageal_reflux', 'wheezing', 'shortness_of_breath', 
                           'chest_tightness', 'coughing', 'nighttime_symptoms', 'age_group', 'bmi_category']
    

    categorial_columns = select_important_features(data, target_column)
    new_data = create_age_groups(data)
    new_data = create_bmi_category(data)

    new_data = encode_categorical_features(data, categorical_columns)
    
    # separate features and target
    X = new_data.drop(columns = [target_column])
    y = new_data[target_column]
    
    scaler = StandardScaler()
    X = pd.DataFrame(scaler.fit_transform(X), columns = X.columns)
    
    return X, y


target_column = "diagnosis"

prepared_data = prepare_data_for_model(asthma_data, target_column)

print(prepared_data)



