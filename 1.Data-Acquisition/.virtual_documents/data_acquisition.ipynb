import numpy as np
import matplotlib.pyplot as plt
import pandas as pd

import sqlalchemy


pip install openpyxl


pip install xlrd








accidents = pd.read_csv("accidents.csv") # or pd.read_table("accidents.csv", sep=",")


accidents


accidents.index


accidents.columns


accidents["Miles from Home"] # type Series - 1 column from DataFrame


accidents[["Miles from Home"]] # type DataFrame - table with 1 column


accidents.columns = ["miles_from_home", "pct_accidents"]


accidents.columns


accidents.miles_from_home, accidents.pct_accidents # access columns with dot


accidents.shape # (rows, cols)


accidents.dtypes


accidents.describe().transpose()


accidents.index = [1, 3, 5, 7, 9, 11]
accidents


acc_new_idx = accidents.reset_index()
acc_new_idx


acc_new_idx = accidents.reset_index(drop=True)
acc_new_idx


del acc_new_idx
acc_new_idx


credit_data = pd.read_csv("https://github.com/plotly/datasets/raw/master/data.csv")


credit_data.shape


credit_data.dtypes


credit_data.columns


credit_data.describe().transpose()


# change the type of SeriousDlqin2yrs to category, it si Y/N (Person experienced 90 days past due delinquency or worse)
credit_data["SeriousDlqin2yrs"] = credit_data["SeriousDlqin2yrs"].astype("category")


credit_data.dtypes


green_trip_data = pd.read_excel("green_tripdata_2015-09.xls")


green_trip_data


green_trip_data.shape


green_trip_data.columns


green_trip_data.dtypes


green_trip_data.Total_amount.mean()


plt.hist(green_trip_data.Total_amount[green_trip_data.Total_amount > 0], bins = 100)
plt.xlim(0, 200) 
plt.show()


green_trip_data.Total_amount.skew()


green_trip_data.Total_amount.kurt()


books = pd.read_json(
    "https://openlibrary.org/api/books?bibkeys=ISBN:9780345354907,ISBN:0881847690,LCCN:2005041555,ISBN:0060957905&format=json",
    orient = "index"
)


books


engine = sqlalchemy.create_engine(r"sqlite:///C:\Users\USER\Desktop\Data_Science\1.Data-Acquisition\chinook\chinook.db") # connection string to connect with db


albums = pd.read_sql("albums", engine) # tables: albums, genres, artists, customers, employees, invoices


albums


employees = pd.read_sql("employees", engine)


query = "SELECT FirstName, LastName, Title FROM employees order by FirstName"


pd.read_sql(query, engine)


artists = pd.read_sql("artists", engine)


query2 = """
    SELECT 
        albums.Title as "album title",
        artists.Name as "artist name"
    FROM 
        albums
    JOIN 
        artists ON albums.ArtistId = artists.ArtistId;
"""


artists_albums = pd.read_sql_query(query2, engine)


artists_albums
